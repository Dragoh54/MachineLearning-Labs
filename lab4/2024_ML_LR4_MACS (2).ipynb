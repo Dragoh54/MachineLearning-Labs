{
 "cells": [
  {
   "cell_type": "code",
   "execution_count": 1,
   "id": "c0688b91",
   "metadata": {},
   "outputs": [],
   "source": [
    "import pandas as pd\n",
    "import numpy as np\n",
    "from sklearn.preprocessing import MinMaxScaler\n",
    "import seaborn as sns\n",
    "from matplotlib import pyplot as plt\n",
    "from sklearn.model_selection import train_test_split\n",
    "from sklearn.pipeline import make_pipeline\n",
    "from sklearn.preprocessing import StandardScaler\n",
    "from sklearn.preprocessing import PolynomialFeatures\n",
    "from sklearn.linear_model import LogisticRegression\n",
    "from sklearn.model_selection import GridSearchCV\n",
    "from sklearn.metrics import roc_auc_score, roc_curve"
   ]
  },
  {
   "cell_type": "markdown",
   "id": "50072746",
   "metadata": {},
   "source": [
    "# <font color = 'red'> ЛР 4. Exploratory data analysis Постановка задачи классифкации. </font>"
   ]
  },
  {
   "cell_type": "markdown",
   "id": "2b1bdbfb",
   "metadata": {},
   "source": [
    "Сложность: <font color = 'green'> Легко  </font>.\n",
    "\n",
    "Дата составления: 30.09.2024\n",
    "\n",
    "Срок выполнения: 2 недели (с момента первой практики после выдачи).\n",
    "\n",
    "Автор: ст. преподаватель Кушнеров А.В."
   ]
  },
  {
   "cell_type": "markdown",
   "id": "b61b8275",
   "metadata": {},
   "source": [
    "## <font color = 'green'>1. Exploratory data analysis </font>"
   ]
  },
  {
   "cell_type": "markdown",
   "id": "ab218acc-9240-421e-8253-3991f608d5ab",
   "metadata": {},
   "source": [
    "### <font color = 'green'> Пример 1. Загрузка данных и первичный анализ. На примере telecom.csv </font>"
   ]
  },
  {
   "cell_type": "code",
   "execution_count": 2,
   "id": "8d477f85-cba3-4dd5-a74b-c96fad9eb821",
   "metadata": {
    "ExecuteTime": {
     "end_time": "2023-10-06T17:57:55.920053Z",
     "start_time": "2023-10-06T17:57:54.076738800Z"
    }
   },
   "outputs": [],
   "source": [
    "data = pd.read_csv('telecom.csv')"
   ]
  },
  {
   "cell_type": "code",
   "execution_count": 3,
   "id": "312d5e92-7c4b-4220-a727-b61795657805",
   "metadata": {
    "ExecuteTime": {
     "end_time": "2023-10-06T17:57:55.921023900Z",
     "start_time": "2023-10-06T17:57:54.139391800Z"
    }
   },
   "outputs": [
    {
     "data": {
      "text/html": [
       "<div>\n",
       "<style scoped>\n",
       "    .dataframe tbody tr th:only-of-type {\n",
       "        vertical-align: middle;\n",
       "    }\n",
       "\n",
       "    .dataframe tbody tr th {\n",
       "        vertical-align: top;\n",
       "    }\n",
       "\n",
       "    .dataframe thead th {\n",
       "        text-align: right;\n",
       "    }\n",
       "</style>\n",
       "<table border=\"1\" class=\"dataframe\">\n",
       "  <thead>\n",
       "    <tr style=\"text-align: right;\">\n",
       "      <th></th>\n",
       "      <th>State</th>\n",
       "      <th>Account length</th>\n",
       "      <th>Area code</th>\n",
       "      <th>International plan</th>\n",
       "      <th>Voice mail plan</th>\n",
       "      <th>Number vmail messages</th>\n",
       "      <th>Total day minutes</th>\n",
       "      <th>Total day calls</th>\n",
       "      <th>Total day charge</th>\n",
       "      <th>Total eve minutes</th>\n",
       "      <th>Total eve calls</th>\n",
       "      <th>Total eve charge</th>\n",
       "      <th>Total night minutes</th>\n",
       "      <th>Total night calls</th>\n",
       "      <th>Total night charge</th>\n",
       "      <th>Total intl minutes</th>\n",
       "      <th>Total intl calls</th>\n",
       "      <th>Total intl charge</th>\n",
       "      <th>Customer service calls</th>\n",
       "      <th>Churn</th>\n",
       "    </tr>\n",
       "  </thead>\n",
       "  <tbody>\n",
       "    <tr>\n",
       "      <th>0</th>\n",
       "      <td>KS</td>\n",
       "      <td>128</td>\n",
       "      <td>415</td>\n",
       "      <td>No</td>\n",
       "      <td>Yes</td>\n",
       "      <td>25</td>\n",
       "      <td>265.1</td>\n",
       "      <td>110</td>\n",
       "      <td>45.07</td>\n",
       "      <td>197.4</td>\n",
       "      <td>99</td>\n",
       "      <td>16.78</td>\n",
       "      <td>244.7</td>\n",
       "      <td>91</td>\n",
       "      <td>11.01</td>\n",
       "      <td>10.0</td>\n",
       "      <td>3</td>\n",
       "      <td>2.70</td>\n",
       "      <td>1</td>\n",
       "      <td>False</td>\n",
       "    </tr>\n",
       "    <tr>\n",
       "      <th>1</th>\n",
       "      <td>OH</td>\n",
       "      <td>107</td>\n",
       "      <td>415</td>\n",
       "      <td>No</td>\n",
       "      <td>Yes</td>\n",
       "      <td>26</td>\n",
       "      <td>161.6</td>\n",
       "      <td>123</td>\n",
       "      <td>27.47</td>\n",
       "      <td>195.5</td>\n",
       "      <td>103</td>\n",
       "      <td>16.62</td>\n",
       "      <td>254.4</td>\n",
       "      <td>103</td>\n",
       "      <td>11.45</td>\n",
       "      <td>13.7</td>\n",
       "      <td>3</td>\n",
       "      <td>3.70</td>\n",
       "      <td>1</td>\n",
       "      <td>False</td>\n",
       "    </tr>\n",
       "    <tr>\n",
       "      <th>2</th>\n",
       "      <td>NJ</td>\n",
       "      <td>137</td>\n",
       "      <td>415</td>\n",
       "      <td>No</td>\n",
       "      <td>No</td>\n",
       "      <td>0</td>\n",
       "      <td>243.4</td>\n",
       "      <td>114</td>\n",
       "      <td>41.38</td>\n",
       "      <td>121.2</td>\n",
       "      <td>110</td>\n",
       "      <td>10.30</td>\n",
       "      <td>162.6</td>\n",
       "      <td>104</td>\n",
       "      <td>7.32</td>\n",
       "      <td>12.2</td>\n",
       "      <td>5</td>\n",
       "      <td>3.29</td>\n",
       "      <td>0</td>\n",
       "      <td>False</td>\n",
       "    </tr>\n",
       "    <tr>\n",
       "      <th>3</th>\n",
       "      <td>OH</td>\n",
       "      <td>84</td>\n",
       "      <td>408</td>\n",
       "      <td>Yes</td>\n",
       "      <td>No</td>\n",
       "      <td>0</td>\n",
       "      <td>299.4</td>\n",
       "      <td>71</td>\n",
       "      <td>50.90</td>\n",
       "      <td>61.9</td>\n",
       "      <td>88</td>\n",
       "      <td>5.26</td>\n",
       "      <td>196.9</td>\n",
       "      <td>89</td>\n",
       "      <td>8.86</td>\n",
       "      <td>6.6</td>\n",
       "      <td>7</td>\n",
       "      <td>1.78</td>\n",
       "      <td>2</td>\n",
       "      <td>False</td>\n",
       "    </tr>\n",
       "    <tr>\n",
       "      <th>4</th>\n",
       "      <td>OK</td>\n",
       "      <td>75</td>\n",
       "      <td>415</td>\n",
       "      <td>Yes</td>\n",
       "      <td>No</td>\n",
       "      <td>0</td>\n",
       "      <td>166.7</td>\n",
       "      <td>113</td>\n",
       "      <td>28.34</td>\n",
       "      <td>148.3</td>\n",
       "      <td>122</td>\n",
       "      <td>12.61</td>\n",
       "      <td>186.9</td>\n",
       "      <td>121</td>\n",
       "      <td>8.41</td>\n",
       "      <td>10.1</td>\n",
       "      <td>3</td>\n",
       "      <td>2.73</td>\n",
       "      <td>3</td>\n",
       "      <td>False</td>\n",
       "    </tr>\n",
       "  </tbody>\n",
       "</table>\n",
       "</div>"
      ],
      "text/plain": [
       "  State  Account length  Area code International plan Voice mail plan  \\\n",
       "0    KS             128        415                 No             Yes   \n",
       "1    OH             107        415                 No             Yes   \n",
       "2    NJ             137        415                 No              No   \n",
       "3    OH              84        408                Yes              No   \n",
       "4    OK              75        415                Yes              No   \n",
       "\n",
       "   Number vmail messages  Total day minutes  Total day calls  \\\n",
       "0                     25              265.1              110   \n",
       "1                     26              161.6              123   \n",
       "2                      0              243.4              114   \n",
       "3                      0              299.4               71   \n",
       "4                      0              166.7              113   \n",
       "\n",
       "   Total day charge  Total eve minutes  Total eve calls  Total eve charge  \\\n",
       "0             45.07              197.4               99             16.78   \n",
       "1             27.47              195.5              103             16.62   \n",
       "2             41.38              121.2              110             10.30   \n",
       "3             50.90               61.9               88              5.26   \n",
       "4             28.34              148.3              122             12.61   \n",
       "\n",
       "   Total night minutes  Total night calls  Total night charge  \\\n",
       "0                244.7                 91               11.01   \n",
       "1                254.4                103               11.45   \n",
       "2                162.6                104                7.32   \n",
       "3                196.9                 89                8.86   \n",
       "4                186.9                121                8.41   \n",
       "\n",
       "   Total intl minutes  Total intl calls  Total intl charge  \\\n",
       "0                10.0                 3               2.70   \n",
       "1                13.7                 3               3.70   \n",
       "2                12.2                 5               3.29   \n",
       "3                 6.6                 7               1.78   \n",
       "4                10.1                 3               2.73   \n",
       "\n",
       "   Customer service calls  Churn  \n",
       "0                       1  False  \n",
       "1                       1  False  \n",
       "2                       0  False  \n",
       "3                       2  False  \n",
       "4                       3  False  "
      ]
     },
     "execution_count": 3,
     "metadata": {},
     "output_type": "execute_result"
    }
   ],
   "source": [
    "data.head()"
   ]
  },
  {
   "cell_type": "code",
   "execution_count": 4,
   "id": "cf399b6f-4ad9-489b-983a-fb2c6d0bae41",
   "metadata": {
    "ExecuteTime": {
     "end_time": "2023-10-06T17:57:55.922021300Z",
     "start_time": "2023-10-06T17:57:54.192493100Z"
    }
   },
   "outputs": [
    {
     "name": "stdout",
     "output_type": "stream",
     "text": [
      "<class 'pandas.core.frame.DataFrame'>\n",
      "RangeIndex: 3333 entries, 0 to 3332\n",
      "Data columns (total 20 columns):\n",
      " #   Column                  Non-Null Count  Dtype  \n",
      "---  ------                  --------------  -----  \n",
      " 0   State                   3333 non-null   object \n",
      " 1   Account length          3333 non-null   int64  \n",
      " 2   Area code               3333 non-null   int64  \n",
      " 3   International plan      3333 non-null   object \n",
      " 4   Voice mail plan         3333 non-null   object \n",
      " 5   Number vmail messages   3333 non-null   int64  \n",
      " 6   Total day minutes       3333 non-null   float64\n",
      " 7   Total day calls         3333 non-null   int64  \n",
      " 8   Total day charge        3333 non-null   float64\n",
      " 9   Total eve minutes       3333 non-null   float64\n",
      " 10  Total eve calls         3333 non-null   int64  \n",
      " 11  Total eve charge        3333 non-null   float64\n",
      " 12  Total night minutes     3333 non-null   float64\n",
      " 13  Total night calls       3333 non-null   int64  \n",
      " 14  Total night charge      3333 non-null   float64\n",
      " 15  Total intl minutes      3333 non-null   float64\n",
      " 16  Total intl calls        3333 non-null   int64  \n",
      " 17  Total intl charge       3333 non-null   float64\n",
      " 18  Customer service calls  3333 non-null   int64  \n",
      " 19  Churn                   3333 non-null   bool   \n",
      "dtypes: bool(1), float64(8), int64(8), object(3)\n",
      "memory usage: 498.1+ KB\n",
      "None\n"
     ]
    }
   ],
   "source": [
    "print(data.info())"
   ]
  },
  {
   "cell_type": "code",
   "execution_count": 5,
   "id": "d676a529-f874-4c4c-b514-13dded0a544e",
   "metadata": {
    "ExecuteTime": {
     "end_time": "2023-10-06T17:57:55.922021300Z",
     "start_time": "2023-10-06T17:57:54.201422100Z"
    }
   },
   "outputs": [],
   "source": [
    "data['Churn']=data['Churn'].astype('int64')"
   ]
  },
  {
   "cell_type": "code",
   "execution_count": 6,
   "id": "57287fc0-413a-463c-af3f-c9dbe2e4447f",
   "metadata": {
    "ExecuteTime": {
     "end_time": "2023-10-06T17:57:55.922021300Z",
     "start_time": "2023-10-06T17:57:54.230345400Z"
    }
   },
   "outputs": [
    {
     "data": {
      "text/html": [
       "<div>\n",
       "<style scoped>\n",
       "    .dataframe tbody tr th:only-of-type {\n",
       "        vertical-align: middle;\n",
       "    }\n",
       "\n",
       "    .dataframe tbody tr th {\n",
       "        vertical-align: top;\n",
       "    }\n",
       "\n",
       "    .dataframe thead th {\n",
       "        text-align: right;\n",
       "    }\n",
       "</style>\n",
       "<table border=\"1\" class=\"dataframe\">\n",
       "  <thead>\n",
       "    <tr style=\"text-align: right;\">\n",
       "      <th></th>\n",
       "      <th>State</th>\n",
       "      <th>Account length</th>\n",
       "      <th>Area code</th>\n",
       "      <th>International plan</th>\n",
       "      <th>Voice mail plan</th>\n",
       "      <th>Number vmail messages</th>\n",
       "      <th>Total day minutes</th>\n",
       "      <th>Total day calls</th>\n",
       "      <th>Total day charge</th>\n",
       "      <th>Total eve minutes</th>\n",
       "      <th>Total eve calls</th>\n",
       "      <th>Total eve charge</th>\n",
       "      <th>Total night minutes</th>\n",
       "      <th>Total night calls</th>\n",
       "      <th>Total night charge</th>\n",
       "      <th>Total intl minutes</th>\n",
       "      <th>Total intl calls</th>\n",
       "      <th>Total intl charge</th>\n",
       "      <th>Customer service calls</th>\n",
       "      <th>Churn</th>\n",
       "    </tr>\n",
       "  </thead>\n",
       "  <tbody>\n",
       "    <tr>\n",
       "      <th>0</th>\n",
       "      <td>KS</td>\n",
       "      <td>128</td>\n",
       "      <td>415</td>\n",
       "      <td>No</td>\n",
       "      <td>Yes</td>\n",
       "      <td>25</td>\n",
       "      <td>265.1</td>\n",
       "      <td>110</td>\n",
       "      <td>45.07</td>\n",
       "      <td>197.4</td>\n",
       "      <td>99</td>\n",
       "      <td>16.78</td>\n",
       "      <td>244.7</td>\n",
       "      <td>91</td>\n",
       "      <td>11.01</td>\n",
       "      <td>10.0</td>\n",
       "      <td>3</td>\n",
       "      <td>2.70</td>\n",
       "      <td>1</td>\n",
       "      <td>0</td>\n",
       "    </tr>\n",
       "    <tr>\n",
       "      <th>1</th>\n",
       "      <td>OH</td>\n",
       "      <td>107</td>\n",
       "      <td>415</td>\n",
       "      <td>No</td>\n",
       "      <td>Yes</td>\n",
       "      <td>26</td>\n",
       "      <td>161.6</td>\n",
       "      <td>123</td>\n",
       "      <td>27.47</td>\n",
       "      <td>195.5</td>\n",
       "      <td>103</td>\n",
       "      <td>16.62</td>\n",
       "      <td>254.4</td>\n",
       "      <td>103</td>\n",
       "      <td>11.45</td>\n",
       "      <td>13.7</td>\n",
       "      <td>3</td>\n",
       "      <td>3.70</td>\n",
       "      <td>1</td>\n",
       "      <td>0</td>\n",
       "    </tr>\n",
       "    <tr>\n",
       "      <th>2</th>\n",
       "      <td>NJ</td>\n",
       "      <td>137</td>\n",
       "      <td>415</td>\n",
       "      <td>No</td>\n",
       "      <td>No</td>\n",
       "      <td>0</td>\n",
       "      <td>243.4</td>\n",
       "      <td>114</td>\n",
       "      <td>41.38</td>\n",
       "      <td>121.2</td>\n",
       "      <td>110</td>\n",
       "      <td>10.30</td>\n",
       "      <td>162.6</td>\n",
       "      <td>104</td>\n",
       "      <td>7.32</td>\n",
       "      <td>12.2</td>\n",
       "      <td>5</td>\n",
       "      <td>3.29</td>\n",
       "      <td>0</td>\n",
       "      <td>0</td>\n",
       "    </tr>\n",
       "    <tr>\n",
       "      <th>3</th>\n",
       "      <td>OH</td>\n",
       "      <td>84</td>\n",
       "      <td>408</td>\n",
       "      <td>Yes</td>\n",
       "      <td>No</td>\n",
       "      <td>0</td>\n",
       "      <td>299.4</td>\n",
       "      <td>71</td>\n",
       "      <td>50.90</td>\n",
       "      <td>61.9</td>\n",
       "      <td>88</td>\n",
       "      <td>5.26</td>\n",
       "      <td>196.9</td>\n",
       "      <td>89</td>\n",
       "      <td>8.86</td>\n",
       "      <td>6.6</td>\n",
       "      <td>7</td>\n",
       "      <td>1.78</td>\n",
       "      <td>2</td>\n",
       "      <td>0</td>\n",
       "    </tr>\n",
       "    <tr>\n",
       "      <th>4</th>\n",
       "      <td>OK</td>\n",
       "      <td>75</td>\n",
       "      <td>415</td>\n",
       "      <td>Yes</td>\n",
       "      <td>No</td>\n",
       "      <td>0</td>\n",
       "      <td>166.7</td>\n",
       "      <td>113</td>\n",
       "      <td>28.34</td>\n",
       "      <td>148.3</td>\n",
       "      <td>122</td>\n",
       "      <td>12.61</td>\n",
       "      <td>186.9</td>\n",
       "      <td>121</td>\n",
       "      <td>8.41</td>\n",
       "      <td>10.1</td>\n",
       "      <td>3</td>\n",
       "      <td>2.73</td>\n",
       "      <td>3</td>\n",
       "      <td>0</td>\n",
       "    </tr>\n",
       "  </tbody>\n",
       "</table>\n",
       "</div>"
      ],
      "text/plain": [
       "  State  Account length  Area code International plan Voice mail plan  \\\n",
       "0    KS             128        415                 No             Yes   \n",
       "1    OH             107        415                 No             Yes   \n",
       "2    NJ             137        415                 No              No   \n",
       "3    OH              84        408                Yes              No   \n",
       "4    OK              75        415                Yes              No   \n",
       "\n",
       "   Number vmail messages  Total day minutes  Total day calls  \\\n",
       "0                     25              265.1              110   \n",
       "1                     26              161.6              123   \n",
       "2                      0              243.4              114   \n",
       "3                      0              299.4               71   \n",
       "4                      0              166.7              113   \n",
       "\n",
       "   Total day charge  Total eve minutes  Total eve calls  Total eve charge  \\\n",
       "0             45.07              197.4               99             16.78   \n",
       "1             27.47              195.5              103             16.62   \n",
       "2             41.38              121.2              110             10.30   \n",
       "3             50.90               61.9               88              5.26   \n",
       "4             28.34              148.3              122             12.61   \n",
       "\n",
       "   Total night minutes  Total night calls  Total night charge  \\\n",
       "0                244.7                 91               11.01   \n",
       "1                254.4                103               11.45   \n",
       "2                162.6                104                7.32   \n",
       "3                196.9                 89                8.86   \n",
       "4                186.9                121                8.41   \n",
       "\n",
       "   Total intl minutes  Total intl calls  Total intl charge  \\\n",
       "0                10.0                 3               2.70   \n",
       "1                13.7                 3               3.70   \n",
       "2                12.2                 5               3.29   \n",
       "3                 6.6                 7               1.78   \n",
       "4                10.1                 3               2.73   \n",
       "\n",
       "   Customer service calls  Churn  \n",
       "0                       1      0  \n",
       "1                       1      0  \n",
       "2                       0      0  \n",
       "3                       2      0  \n",
       "4                       3      0  "
      ]
     },
     "execution_count": 6,
     "metadata": {},
     "output_type": "execute_result"
    }
   ],
   "source": [
    "data.head()"
   ]
  },
  {
   "cell_type": "code",
   "execution_count": 7,
   "id": "d2d7a49f-e03f-4562-b4cb-894ad20c8231",
   "metadata": {
    "ExecuteTime": {
     "end_time": "2023-10-06T17:57:55.923045700Z",
     "start_time": "2023-10-06T17:57:54.248297400Z"
    }
   },
   "outputs": [
    {
     "data": {
      "text/html": [
       "<div>\n",
       "<style scoped>\n",
       "    .dataframe tbody tr th:only-of-type {\n",
       "        vertical-align: middle;\n",
       "    }\n",
       "\n",
       "    .dataframe tbody tr th {\n",
       "        vertical-align: top;\n",
       "    }\n",
       "\n",
       "    .dataframe thead th {\n",
       "        text-align: right;\n",
       "    }\n",
       "</style>\n",
       "<table border=\"1\" class=\"dataframe\">\n",
       "  <thead>\n",
       "    <tr style=\"text-align: right;\">\n",
       "      <th></th>\n",
       "      <th>Account length</th>\n",
       "      <th>Area code</th>\n",
       "      <th>Number vmail messages</th>\n",
       "      <th>Total day minutes</th>\n",
       "      <th>Total day calls</th>\n",
       "      <th>Total day charge</th>\n",
       "      <th>Total eve minutes</th>\n",
       "      <th>Total eve calls</th>\n",
       "      <th>Total eve charge</th>\n",
       "      <th>Total night minutes</th>\n",
       "      <th>Total night calls</th>\n",
       "      <th>Total night charge</th>\n",
       "      <th>Total intl minutes</th>\n",
       "      <th>Total intl calls</th>\n",
       "      <th>Total intl charge</th>\n",
       "      <th>Customer service calls</th>\n",
       "      <th>Churn</th>\n",
       "    </tr>\n",
       "  </thead>\n",
       "  <tbody>\n",
       "    <tr>\n",
       "      <th>count</th>\n",
       "      <td>3333.000000</td>\n",
       "      <td>3333.000000</td>\n",
       "      <td>3333.000000</td>\n",
       "      <td>3333.000000</td>\n",
       "      <td>3333.000000</td>\n",
       "      <td>3333.000000</td>\n",
       "      <td>3333.000000</td>\n",
       "      <td>3333.000000</td>\n",
       "      <td>3333.000000</td>\n",
       "      <td>3333.000000</td>\n",
       "      <td>3333.000000</td>\n",
       "      <td>3333.000000</td>\n",
       "      <td>3333.000000</td>\n",
       "      <td>3333.000000</td>\n",
       "      <td>3333.000000</td>\n",
       "      <td>3333.000000</td>\n",
       "      <td>3333.000000</td>\n",
       "    </tr>\n",
       "    <tr>\n",
       "      <th>mean</th>\n",
       "      <td>101.064806</td>\n",
       "      <td>437.182418</td>\n",
       "      <td>8.099010</td>\n",
       "      <td>179.775098</td>\n",
       "      <td>100.435644</td>\n",
       "      <td>30.562307</td>\n",
       "      <td>200.980348</td>\n",
       "      <td>100.114311</td>\n",
       "      <td>17.083540</td>\n",
       "      <td>200.872037</td>\n",
       "      <td>100.107711</td>\n",
       "      <td>9.039325</td>\n",
       "      <td>10.237294</td>\n",
       "      <td>4.479448</td>\n",
       "      <td>2.764581</td>\n",
       "      <td>1.562856</td>\n",
       "      <td>0.144914</td>\n",
       "    </tr>\n",
       "    <tr>\n",
       "      <th>std</th>\n",
       "      <td>39.822106</td>\n",
       "      <td>42.371290</td>\n",
       "      <td>13.688365</td>\n",
       "      <td>54.467389</td>\n",
       "      <td>20.069084</td>\n",
       "      <td>9.259435</td>\n",
       "      <td>50.713844</td>\n",
       "      <td>19.922625</td>\n",
       "      <td>4.310668</td>\n",
       "      <td>50.573847</td>\n",
       "      <td>19.568609</td>\n",
       "      <td>2.275873</td>\n",
       "      <td>2.791840</td>\n",
       "      <td>2.461214</td>\n",
       "      <td>0.753773</td>\n",
       "      <td>1.315491</td>\n",
       "      <td>0.352067</td>\n",
       "    </tr>\n",
       "    <tr>\n",
       "      <th>min</th>\n",
       "      <td>1.000000</td>\n",
       "      <td>408.000000</td>\n",
       "      <td>0.000000</td>\n",
       "      <td>0.000000</td>\n",
       "      <td>0.000000</td>\n",
       "      <td>0.000000</td>\n",
       "      <td>0.000000</td>\n",
       "      <td>0.000000</td>\n",
       "      <td>0.000000</td>\n",
       "      <td>23.200000</td>\n",
       "      <td>33.000000</td>\n",
       "      <td>1.040000</td>\n",
       "      <td>0.000000</td>\n",
       "      <td>0.000000</td>\n",
       "      <td>0.000000</td>\n",
       "      <td>0.000000</td>\n",
       "      <td>0.000000</td>\n",
       "    </tr>\n",
       "    <tr>\n",
       "      <th>25%</th>\n",
       "      <td>74.000000</td>\n",
       "      <td>408.000000</td>\n",
       "      <td>0.000000</td>\n",
       "      <td>143.700000</td>\n",
       "      <td>87.000000</td>\n",
       "      <td>24.430000</td>\n",
       "      <td>166.600000</td>\n",
       "      <td>87.000000</td>\n",
       "      <td>14.160000</td>\n",
       "      <td>167.000000</td>\n",
       "      <td>87.000000</td>\n",
       "      <td>7.520000</td>\n",
       "      <td>8.500000</td>\n",
       "      <td>3.000000</td>\n",
       "      <td>2.300000</td>\n",
       "      <td>1.000000</td>\n",
       "      <td>0.000000</td>\n",
       "    </tr>\n",
       "    <tr>\n",
       "      <th>50%</th>\n",
       "      <td>101.000000</td>\n",
       "      <td>415.000000</td>\n",
       "      <td>0.000000</td>\n",
       "      <td>179.400000</td>\n",
       "      <td>101.000000</td>\n",
       "      <td>30.500000</td>\n",
       "      <td>201.400000</td>\n",
       "      <td>100.000000</td>\n",
       "      <td>17.120000</td>\n",
       "      <td>201.200000</td>\n",
       "      <td>100.000000</td>\n",
       "      <td>9.050000</td>\n",
       "      <td>10.300000</td>\n",
       "      <td>4.000000</td>\n",
       "      <td>2.780000</td>\n",
       "      <td>1.000000</td>\n",
       "      <td>0.000000</td>\n",
       "    </tr>\n",
       "    <tr>\n",
       "      <th>75%</th>\n",
       "      <td>127.000000</td>\n",
       "      <td>510.000000</td>\n",
       "      <td>20.000000</td>\n",
       "      <td>216.400000</td>\n",
       "      <td>114.000000</td>\n",
       "      <td>36.790000</td>\n",
       "      <td>235.300000</td>\n",
       "      <td>114.000000</td>\n",
       "      <td>20.000000</td>\n",
       "      <td>235.300000</td>\n",
       "      <td>113.000000</td>\n",
       "      <td>10.590000</td>\n",
       "      <td>12.100000</td>\n",
       "      <td>6.000000</td>\n",
       "      <td>3.270000</td>\n",
       "      <td>2.000000</td>\n",
       "      <td>0.000000</td>\n",
       "    </tr>\n",
       "    <tr>\n",
       "      <th>max</th>\n",
       "      <td>243.000000</td>\n",
       "      <td>510.000000</td>\n",
       "      <td>51.000000</td>\n",
       "      <td>350.800000</td>\n",
       "      <td>165.000000</td>\n",
       "      <td>59.640000</td>\n",
       "      <td>363.700000</td>\n",
       "      <td>170.000000</td>\n",
       "      <td>30.910000</td>\n",
       "      <td>395.000000</td>\n",
       "      <td>175.000000</td>\n",
       "      <td>17.770000</td>\n",
       "      <td>20.000000</td>\n",
       "      <td>20.000000</td>\n",
       "      <td>5.400000</td>\n",
       "      <td>9.000000</td>\n",
       "      <td>1.000000</td>\n",
       "    </tr>\n",
       "  </tbody>\n",
       "</table>\n",
       "</div>"
      ],
      "text/plain": [
       "       Account length    Area code  Number vmail messages  Total day minutes  \\\n",
       "count     3333.000000  3333.000000            3333.000000        3333.000000   \n",
       "mean       101.064806   437.182418               8.099010         179.775098   \n",
       "std         39.822106    42.371290              13.688365          54.467389   \n",
       "min          1.000000   408.000000               0.000000           0.000000   \n",
       "25%         74.000000   408.000000               0.000000         143.700000   \n",
       "50%        101.000000   415.000000               0.000000         179.400000   \n",
       "75%        127.000000   510.000000              20.000000         216.400000   \n",
       "max        243.000000   510.000000              51.000000         350.800000   \n",
       "\n",
       "       Total day calls  Total day charge  Total eve minutes  Total eve calls  \\\n",
       "count      3333.000000       3333.000000        3333.000000      3333.000000   \n",
       "mean        100.435644         30.562307         200.980348       100.114311   \n",
       "std          20.069084          9.259435          50.713844        19.922625   \n",
       "min           0.000000          0.000000           0.000000         0.000000   \n",
       "25%          87.000000         24.430000         166.600000        87.000000   \n",
       "50%         101.000000         30.500000         201.400000       100.000000   \n",
       "75%         114.000000         36.790000         235.300000       114.000000   \n",
       "max         165.000000         59.640000         363.700000       170.000000   \n",
       "\n",
       "       Total eve charge  Total night minutes  Total night calls  \\\n",
       "count       3333.000000          3333.000000        3333.000000   \n",
       "mean          17.083540           200.872037         100.107711   \n",
       "std            4.310668            50.573847          19.568609   \n",
       "min            0.000000            23.200000          33.000000   \n",
       "25%           14.160000           167.000000          87.000000   \n",
       "50%           17.120000           201.200000         100.000000   \n",
       "75%           20.000000           235.300000         113.000000   \n",
       "max           30.910000           395.000000         175.000000   \n",
       "\n",
       "       Total night charge  Total intl minutes  Total intl calls  \\\n",
       "count         3333.000000         3333.000000       3333.000000   \n",
       "mean             9.039325           10.237294          4.479448   \n",
       "std              2.275873            2.791840          2.461214   \n",
       "min              1.040000            0.000000          0.000000   \n",
       "25%              7.520000            8.500000          3.000000   \n",
       "50%              9.050000           10.300000          4.000000   \n",
       "75%             10.590000           12.100000          6.000000   \n",
       "max             17.770000           20.000000         20.000000   \n",
       "\n",
       "       Total intl charge  Customer service calls        Churn  \n",
       "count        3333.000000             3333.000000  3333.000000  \n",
       "mean            2.764581                1.562856     0.144914  \n",
       "std             0.753773                1.315491     0.352067  \n",
       "min             0.000000                0.000000     0.000000  \n",
       "25%             2.300000                1.000000     0.000000  \n",
       "50%             2.780000                1.000000     0.000000  \n",
       "75%             3.270000                2.000000     0.000000  \n",
       "max             5.400000                9.000000     1.000000  "
      ]
     },
     "execution_count": 7,
     "metadata": {},
     "output_type": "execute_result"
    }
   ],
   "source": [
    "data.describe()"
   ]
  },
  {
   "cell_type": "code",
   "execution_count": 8,
   "id": "ca22d56c-7a43-4c96-bc3b-0ce365cbe359",
   "metadata": {
    "ExecuteTime": {
     "end_time": "2023-10-06T17:57:55.924042200Z",
     "start_time": "2023-10-06T17:57:54.361631700Z"
    }
   },
   "outputs": [
    {
     "data": {
      "text/html": [
       "<div>\n",
       "<style scoped>\n",
       "    .dataframe tbody tr th:only-of-type {\n",
       "        vertical-align: middle;\n",
       "    }\n",
       "\n",
       "    .dataframe tbody tr th {\n",
       "        vertical-align: top;\n",
       "    }\n",
       "\n",
       "    .dataframe thead th {\n",
       "        text-align: right;\n",
       "    }\n",
       "</style>\n",
       "<table border=\"1\" class=\"dataframe\">\n",
       "  <thead>\n",
       "    <tr style=\"text-align: right;\">\n",
       "      <th></th>\n",
       "      <th>State</th>\n",
       "      <th>International plan</th>\n",
       "      <th>Voice mail plan</th>\n",
       "    </tr>\n",
       "  </thead>\n",
       "  <tbody>\n",
       "    <tr>\n",
       "      <th>count</th>\n",
       "      <td>3333</td>\n",
       "      <td>3333</td>\n",
       "      <td>3333</td>\n",
       "    </tr>\n",
       "    <tr>\n",
       "      <th>unique</th>\n",
       "      <td>51</td>\n",
       "      <td>2</td>\n",
       "      <td>2</td>\n",
       "    </tr>\n",
       "    <tr>\n",
       "      <th>top</th>\n",
       "      <td>WV</td>\n",
       "      <td>No</td>\n",
       "      <td>No</td>\n",
       "    </tr>\n",
       "    <tr>\n",
       "      <th>freq</th>\n",
       "      <td>106</td>\n",
       "      <td>3010</td>\n",
       "      <td>2411</td>\n",
       "    </tr>\n",
       "  </tbody>\n",
       "</table>\n",
       "</div>"
      ],
      "text/plain": [
       "       State International plan Voice mail plan\n",
       "count   3333               3333            3333\n",
       "unique    51                  2               2\n",
       "top       WV                 No              No\n",
       "freq     106               3010            2411"
      ]
     },
     "execution_count": 8,
     "metadata": {},
     "output_type": "execute_result"
    }
   ],
   "source": [
    "data.describe(include=['object', 'bool'])"
   ]
  },
  {
   "cell_type": "code",
   "execution_count": 12,
   "id": "cf3e2f87-c012-4101-820f-cf8b48f925f1",
   "metadata": {
    "ExecuteTime": {
     "end_time": "2023-10-06T17:57:55.924042200Z",
     "start_time": "2023-10-06T17:57:54.373599800Z"
    }
   },
   "outputs": [
    {
     "data": {
      "text/plain": [
       "Churn\n",
       "0    2850\n",
       "1     483\n",
       "Name: count, dtype: int64"
      ]
     },
     "execution_count": 12,
     "metadata": {},
     "output_type": "execute_result"
    }
   ],
   "source": [
    "data['Churn'].value_counts()"
   ]
  },
  {
   "cell_type": "code",
   "execution_count": 10,
   "id": "41c34358-0150-47e8-8a03-7ebf6fe8eaab",
   "metadata": {
    "ExecuteTime": {
     "end_time": "2023-10-06T17:57:55.925014Z",
     "start_time": "2023-10-06T17:57:54.399531Z"
    }
   },
   "outputs": [
    {
     "data": {
      "text/plain": [
       "Churn\n",
       "0    0.855086\n",
       "1    0.144914\n",
       "Name: proportion, dtype: float64"
      ]
     },
     "execution_count": 10,
     "metadata": {},
     "output_type": "execute_result"
    }
   ],
   "source": [
    "data['Churn'].value_counts(normalize = True)"
   ]
  },
  {
   "cell_type": "code",
   "execution_count": null,
   "id": "54397939-ec20-4724-8e23-d6dfca55045f",
   "metadata": {
    "ExecuteTime": {
     "end_time": "2023-10-06T17:57:55.925014Z",
     "start_time": "2023-10-06T17:57:54.418479700Z"
    }
   },
   "outputs": [],
   "source": [
    "abons_stat = pd.Series(data[data['Churn'] == 1].mean(numeric_only=True),name='abons')           #считаем среднее значение тех, кто ливнул и добавляем в столбец abons\n",
    "disertirs_stat = pd.Series(data[data['Churn'] == 0].mean(numeric_only=True),name='disertirs')\n",
    "ratio = pd.Series(disertirs_stat/abons_stat,name = 'ratio')"
   ]
  },
  {
   "cell_type": "code",
   "execution_count": null,
   "id": "1868f7ce-ceba-407c-9c99-ce634ff53f58",
   "metadata": {
    "ExecuteTime": {
     "end_time": "2023-10-06T17:57:55.976755Z",
     "start_time": "2023-10-06T17:57:54.471358200Z"
    }
   },
   "outputs": [],
   "source": [
    "pd.concat([abons_stat,disertirs_stat,ratio],axis = 1).sort_values(by='ratio')"
   ]
  },
  {
   "cell_type": "code",
   "execution_count": null,
   "id": "2e464e4a-a520-42a5-8251-9eeba1f0cb65",
   "metadata": {
    "ExecuteTime": {
     "end_time": "2023-10-06T17:57:55.976755Z",
     "start_time": "2023-10-06T17:57:54.499283800Z"
    }
   },
   "outputs": [],
   "source": [
    "pd.crosstab(data['Churn'], data['International plan']) #для категориальных"
   ]
  },
  {
   "cell_type": "code",
   "execution_count": null,
   "id": "67fdba1b-6142-44f5-9835-5af8e6303147",
   "metadata": {
    "ExecuteTime": {
     "end_time": "2023-10-06T17:57:55.977752100Z",
     "start_time": "2023-10-06T17:57:54.515241Z"
    }
   },
   "outputs": [],
   "source": [
    "pd.crosstab(data['Churn'], data['Voice mail plan'],normalize=True)"
   ]
  },
  {
   "cell_type": "code",
   "execution_count": null,
   "id": "39de265d-df74-46f4-a081-d4c4b00a9390",
   "metadata": {
    "ExecuteTime": {
     "end_time": "2023-10-06T17:57:55.977752100Z",
     "start_time": "2023-10-06T17:57:54.528990400Z"
    }
   },
   "outputs": [],
   "source": [
    "pd.crosstab(data['Churn'], data['International plan'],margins=True)"
   ]
  },
  {
   "cell_type": "code",
   "execution_count": null,
   "id": "a17294e8-b635-4af8-a268-067647ffdde6",
   "metadata": {
    "ExecuteTime": {
     "end_time": "2023-10-06T17:57:55.978749500Z",
     "start_time": "2023-10-06T17:57:54.547958900Z"
    }
   },
   "outputs": [],
   "source": [
    "pd.crosstab(data['Churn'], data['Customer service calls'],margins=True)"
   ]
  },
  {
   "cell_type": "code",
   "execution_count": null,
   "id": "dc1310da-7114-4324-971d-f78fdf59a28c",
   "metadata": {
    "ExecuteTime": {
     "end_time": "2023-10-06T17:57:55.978749500Z",
     "start_time": "2023-10-06T17:57:54.561901200Z"
    }
   },
   "outputs": [],
   "source": [
    "sns.countplot(x='Customer service calls', hue='Churn', data=data);"
   ]
  },
  {
   "cell_type": "code",
   "execution_count": null,
   "id": "f68369a5-711e-44f4-8b42-8ac8bdbc7b84",
   "metadata": {
    "ExecuteTime": {
     "end_time": "2023-10-06T17:57:55.978749500Z",
     "start_time": "2023-10-06T17:57:54.576861700Z"
    }
   },
   "outputs": [],
   "source": [
    "data['Intensive_service_calls_Q'] = (data['Customer service calls'] > 3).astype('int')\n",
    "\n",
    "pd.crosstab(data['Intensive_service_calls_Q'], data['Churn'], margins=True)"
   ]
  },
  {
   "cell_type": "code",
   "execution_count": null,
   "id": "41c0ce8e-4b70-43f6-ad95-1d3610eddc65",
   "metadata": {
    "ExecuteTime": {
     "end_time": "2023-10-06T17:57:55.979746900Z",
     "start_time": "2023-10-06T17:57:54.611768500Z"
    }
   },
   "outputs": [],
   "source": [
    "sns.countplot(x='Intensive_service_calls_Q', hue='Churn', data=data);"
   ]
  },
  {
   "cell_type": "code",
   "execution_count": null,
   "id": "c7f89fd2-5bae-451a-81fa-07a91aa58add",
   "metadata": {
    "ExecuteTime": {
     "end_time": "2023-10-06T17:57:55.979746900Z",
     "start_time": "2023-10-06T17:57:54.657675100Z"
    }
   },
   "outputs": [],
   "source": [
    "d = {'No' : 0, 'Yes' : 1}\n",
    "data['International plan'] = data['International plan'].map(d)"
   ]
  },
  {
   "cell_type": "code",
   "execution_count": null,
   "id": "3c275190-5d58-499b-b9fa-85626b673952",
   "metadata": {},
   "outputs": [],
   "source": [
    "data.head()"
   ]
  },
  {
   "cell_type": "code",
   "execution_count": null,
   "id": "f521129e-27d9-4e73-b6dc-24183434007a",
   "metadata": {
    "ExecuteTime": {
     "end_time": "2023-10-06T17:57:55.980744200Z",
     "start_time": "2023-10-06T17:57:54.876115900Z"
    }
   },
   "outputs": [],
   "source": [
    "data['Voice mail plan'] = data['Voice mail plan'].map(d)"
   ]
  },
  {
   "cell_type": "code",
   "execution_count": null,
   "id": "e762fddc-2cf6-42d3-be0f-da2c36fc290c",
   "metadata": {},
   "outputs": [],
   "source": [
    "data.head()"
   ]
  },
  {
   "cell_type": "code",
   "execution_count": null,
   "id": "bcb15cad-f085-4674-931e-5495d419df6e",
   "metadata": {
    "ExecuteTime": {
     "end_time": "2023-10-06T17:57:55.980744200Z",
     "start_time": "2023-10-06T17:57:54.906011500Z"
    }
   },
   "outputs": [],
   "source": [
    "pd.crosstab(data['Intensive_service_calls_Q'] & data['International plan'] , data['Churn'])"
   ]
  },
  {
   "cell_type": "markdown",
   "id": "911dda22-aea4-4feb-8cc0-137e91be9fdc",
   "metadata": {},
   "source": [
    "### <font color = 'green'> Пример 2. Корреляция. На примере telecom.csv </font>"
   ]
  },
  {
   "cell_type": "code",
   "execution_count": null,
   "id": "7e3472dd-af58-474c-9b92-33df27025e31",
   "metadata": {},
   "outputs": [],
   "source": [
    "corr_matrix = data.drop(['State', 'International plan', 'Voice mail plan',\n",
    "                      'Area code'], axis=1).corr() #оставляем только количественные фичи"
   ]
  },
  {
   "cell_type": "code",
   "execution_count": null,
   "id": "c2ac3e4b-9f81-494a-a595-18a2415385b6",
   "metadata": {},
   "outputs": [],
   "source": [
    "corr_matrix"
   ]
  },
  {
   "cell_type": "code",
   "execution_count": null,
   "id": "06726eae-8b92-4887-921a-94382f3232dc",
   "metadata": {},
   "outputs": [],
   "source": [
    "sns.heatmap(corr_matrix,cmap=\"crest\");"
   ]
  },
  {
   "cell_type": "markdown",
   "id": "e7658fa4-e1fd-4a6c-822a-a2fdfea81dd2",
   "metadata": {},
   "source": [
    "### <font color = 'green'> Пример 3. Графический анализ данных. На примере telecom.csv </font>"
   ]
  },
  {
   "cell_type": "code",
   "execution_count": null,
   "id": "5e1533da-3a2a-4167-af55-3088a1b8c334",
   "metadata": {},
   "outputs": [],
   "source": [
    "features = list(set(data.columns) - set(['State', 'International plan', 'Voice mail plan',  'Area code',\n",
    "                                      'Total day charge',   'Total eve charge',   'Total night charge',\n",
    "                                        'Total intl charge', 'Churn','Intensive_service_calls_Q','Phone number']))\n",
    "data[features].hist(figsize=(20,12));"
   ]
  },
  {
   "cell_type": "code",
   "execution_count": null,
   "id": "b120f551-ab4d-4587-843f-9169ff56866b",
   "metadata": {},
   "outputs": [],
   "source": [
    "sns.pairplot(data[['Customer service calls','Total day minutes','Total day charge','Total night calls','Churn',]], hue='Churn');"
   ]
  },
  {
   "cell_type": "markdown",
   "id": "f926195a-165e-4a63-8e57-d463386d9399",
   "metadata": {},
   "source": [
    "### <font color = 'green'> Пример 4. Графический анализ данных. На примере Ирисов Фишера </font>"
   ]
  },
  {
   "cell_type": "code",
   "execution_count": null,
   "id": "49644915-9f7d-4e2b-bc8c-b3da2b2ac6d0",
   "metadata": {},
   "outputs": [],
   "source": [
    "iris = sns.load_dataset('iris')\n"
   ]
  },
  {
   "cell_type": "code",
   "execution_count": null,
   "id": "bd0460a1-11ab-48ed-9e17-ea0cc5e1ad16",
   "metadata": {},
   "outputs": [],
   "source": [
    "iris.head()"
   ]
  },
  {
   "cell_type": "code",
   "execution_count": null,
   "id": "45f3b4bd-ce3f-4a32-994c-543357d36b84",
   "metadata": {},
   "outputs": [],
   "source": [
    "sns.pairplot(iris, hue='species',height=1.5);\n",
    "plt.show();"
   ]
  },
  {
   "cell_type": "code",
   "execution_count": null,
   "id": "67ff8e80-9803-4e11-82e4-aad3f8951356",
   "metadata": {},
   "outputs": [],
   "source": [
    "features = list(set(iris.columns)-set(['species']))"
   ]
  },
  {
   "cell_type": "code",
   "execution_count": null,
   "id": "8efdbd40-0eee-4897-9539-f1520d2d4a0e",
   "metadata": {},
   "outputs": [],
   "source": [
    "features"
   ]
  },
  {
   "cell_type": "code",
   "execution_count": null,
   "id": "2ed54e24-53d9-4ef0-b1b2-b9b25cf6eb0d",
   "metadata": {},
   "outputs": [],
   "source": [
    "fig, axes = plt.subplots(nrows=2, ncols=2, figsize=(7, 4))\n",
    "\n",
    "for idx, feat in  enumerate(features):\n",
    "    sns.boxplot(x='species', y = feat, data = iris, ax=axes[idx // 2, idx % 2],hue='species')\n",
    "    axes[idx // 2, idx % 2].set_xlabel('species')\n",
    "    axes[idx // 2, idx % 2].set_ylabel(feat);\n",
    "plt.show();"
   ]
  },
  {
   "cell_type": "code",
   "execution_count": null,
   "id": "1aee8577-1a05-402b-b434-f7848964a11e",
   "metadata": {},
   "outputs": [],
   "source": [
    "sns.boxplot(x='species', y = 'sepal_length', data = iris,hue='species');\n",
    "plt.show();"
   ]
  },
  {
   "cell_type": "code",
   "execution_count": null,
   "id": "9359e8d2-2891-4764-8c22-64ba2da8ed2a",
   "metadata": {},
   "outputs": [],
   "source": [
    "iris[features].hist(figsize=(7,4));\n",
    "plt.show();"
   ]
  },
  {
   "cell_type": "markdown",
   "id": "01684626-7494-47f4-9e82-40a467fe528b",
   "metadata": {},
   "source": [
    "Кривые эндрюса. https://habr.com/ru/articles/248623/"
   ]
  },
  {
   "cell_type": "code",
   "execution_count": null,
   "id": "fee1a205-4036-44d6-b668-f571a4793990",
   "metadata": {},
   "outputs": [],
   "source": [
    "def andrews_curve(x,theta):\n",
    "  curve = list()\n",
    "  for th in theta:\n",
    "    x1 = x[0] / np.sqrt(2)\n",
    "    x2 = x[1] * np.sin(th)\n",
    "    x3 = x[2] * np.cos(th)\n",
    "    x4 = x[3] * np.sin(2.*th)\n",
    "    curve.append(x1+x2+x3+x4)\n",
    "  return curve\n",
    "\n",
    "accuracy = 1000\n",
    "samples = iris.drop(['species'],axis=1).values\n",
    "theta = np.linspace(-np.pi, np.pi, accuracy)\n",
    "\n",
    "for s in samples[:20]: # setosa\n",
    "  plt.plot(theta, andrews_curve(s, theta), 'r')\n",
    "\n",
    "for s in samples[50:70]: # versicolor\n",
    "  plt.plot(theta, andrews_curve(s ,theta), 'g')\n",
    "\n",
    "for s in samples[100:120]: # virginica\n",
    "  plt.plot(theta, andrews_curve(s, theta), 'b')\n",
    "\n",
    "plt.xlim(-np.pi,np.pi)\n",
    "plt.show()\n"
   ]
  },
  {
   "cell_type": "markdown",
   "id": "4de55f55",
   "metadata": {},
   "source": [
    "<font color = 'red' size = 5>Задание 1 </font>\n",
    "\n",
    "1. Изучите примеры точечной работы с признаками в исходных данных. \n",
    "2. Поработав в документацией и примерами проведите отбор и подготовку признаков для знаменитого [titanik-датасета](https://www.kaggle.com/c/titanic/data) , а также для данных об  [операторах](https://www.kaggle.com/datasets/mnassrib/telecom-churn-datasets)\n",
    "    +  2.1 Визуализируйте признаки. Определите их типы.\n",
    "    +  2.2 Удалите аномальные данные, где необходимо (простейшими методами z-score и IQR).\n",
    "    +  2.3 Определите важные признаки с помощью описательной статитсики и корреляции.\n",
    "    +  2.4 Заполните пропуски и поработайте с данными по своему усмотрению.\n",
    "    +  2.5 Подготовленный датасет сохраните в новый csv файл.\n",
    "   \n",
    "        \n",
    "\n",
    "\n",
    "\n",
    "[https://scikit-learn.org/stable/modules/preprocessing.html](https://scikit-learn.org/stable/modules/preprocessing.html)\n"
   ]
  },
  {
   "cell_type": "markdown",
   "id": "c4302fa5-8c73-4bf0-829b-5b60d438b705",
   "metadata": {},
   "source": [
    "### <font color = 'green'> Пример 5. Работа с текстом </font>"
   ]
  },
  {
   "cell_type": "markdown",
   "id": "a245313f-e0ef-45d0-a1d9-3418dda045f0",
   "metadata": {},
   "source": [
    "#### Очень простой bag of words"
   ]
  },
  {
   "cell_type": "code",
   "execution_count": null,
   "id": "a5802aec-962a-43b0-b26f-f8569d45acec",
   "metadata": {},
   "outputs": [],
   "source": [
    "from functools import reduce\n",
    "import numpy as np\n",
    "\n",
    "texts = [['i', 'love', 'my', 'mmf'],\n",
    "         ['he', 'hate', 'my', 'mmf'],\n",
    "         ['he', 'and', 'i', 'hate', 'and', 'love', 'my','mmf']]\n",
    "\n",
    "dictionary = list(enumerate(set(list(reduce(lambda x, y: x + y, texts)))))\n",
    "\n",
    "def vectorize(text):\n",
    "    vector = np.zeros(len(dictionary))\n",
    "    for i, word in dictionary:\n",
    "        num = 0\n",
    "        for w in text:\n",
    "            if w == word:\n",
    "                num += 1\n",
    "        if num:\n",
    "            vector[i] = num\n",
    "    return vector\n",
    "\n",
    "for t in texts:\n",
    "    print(vectorize(t))"
   ]
  },
  {
   "cell_type": "code",
   "execution_count": null,
   "id": "fb9c20f6-15f3-4de9-a843-4d3e4afb2768",
   "metadata": {},
   "outputs": [],
   "source": [
    "dictionary"
   ]
  },
  {
   "cell_type": "markdown",
   "id": "d16f1924-ff99-493e-a187-c56f8d7bfcc1",
   "metadata": {},
   "source": [
    "#### Bag of words с N-grams"
   ]
  },
  {
   "cell_type": "code",
   "execution_count": null,
   "id": "d754b215-52d6-4d5b-9768-fa6bafb47ec7",
   "metadata": {},
   "outputs": [],
   "source": [
    "from sklearn.feature_extraction.text import CountVectorizer\n",
    "\n",
    "vect = CountVectorizer(ngram_range=(1, 1))\n",
    "vect.fit_transform([\"no i have questions\", \"i have no questions\"]).toarray()"
   ]
  },
  {
   "cell_type": "code",
   "execution_count": null,
   "id": "f7cfba7f-ee41-453a-a63a-4daf880fd17b",
   "metadata": {},
   "outputs": [],
   "source": [
    "vect.vocabulary_"
   ]
  },
  {
   "cell_type": "code",
   "execution_count": null,
   "id": "10841d9b-a626-4fe7-9567-2d0018cc65a9",
   "metadata": {},
   "outputs": [],
   "source": [
    "vect = CountVectorizer(ngram_range=(1, 2))\n",
    "vect.fit_transform([\"no i have questions\", \"i have no questions\"]).toarray()"
   ]
  },
  {
   "cell_type": "code",
   "execution_count": null,
   "id": "ff433c11-e861-4c50-945f-3dc79871f38d",
   "metadata": {},
   "outputs": [],
   "source": [
    "vect.vocabulary_"
   ]
  },
  {
   "cell_type": "markdown",
   "id": "546304d2-c570-40e7-8e1b-5247ffe7a4b3",
   "metadata": {},
   "source": [
    "#### TF- IDF"
   ]
  },
  {
   "cell_type": "code",
   "execution_count": null,
   "id": "86b0dfdf-4a3f-41da-82e4-46ed4bb6cfc7",
   "metadata": {},
   "outputs": [],
   "source": [
    "from sklearn.feature_extraction.text import TfidfVectorizer\n",
    "Document1= \"It is going to rain today.\"\n",
    "Document2= \"Today I am not going outside.\"\n",
    "Document3= \"I am going to watch the season premiere.\"\n",
    "Doc = [Document1 ,\n",
    "       Document2 , \n",
    "       Document3]\n",
    "print(Doc)"
   ]
  },
  {
   "cell_type": "code",
   "execution_count": null,
   "id": "06fd500a-b02b-4a23-abd0-129bb69969ba",
   "metadata": {},
   "outputs": [],
   "source": [
    "vectorizer = TfidfVectorizer()\n",
    "X = vectorizer.fit_transform(Doc)"
   ]
  },
  {
   "cell_type": "code",
   "execution_count": null,
   "id": "628c42ff-ae8c-44e4-a2a6-42b43aa750aa",
   "metadata": {},
   "outputs": [],
   "source": [
    "print('Document transform',X.toarray())"
   ]
  },
  {
   "cell_type": "code",
   "execution_count": null,
   "id": "d2334bae-7d33-42b4-8864-24d2288c0b23",
   "metadata": {},
   "outputs": [],
   "source": [
    "X.toarray()[0]"
   ]
  },
  {
   "cell_type": "code",
   "execution_count": null,
   "id": "fc9cc014-10a2-4e31-913e-7ae96c4c6fa2",
   "metadata": {},
   "outputs": [],
   "source": [
    "print(vectorizer.vocabulary_)"
   ]
  },
  {
   "cell_type": "markdown",
   "id": "fda3ceec-8a17-4ee5-aac0-b2db01f0c24a",
   "metadata": {},
   "source": [
    "<font color = 'red' size = 5>Задание 2 </font>\n",
    "\n",
    "1. Изучите изложенный выше пример работы с текстовым датасетом. \n",
    "2. Подготовьте к дальнейшей работе текстовый датасет отзывов к фильмам. [Imdb - rews](https://www.kaggle.com/datasets/lakshmi25npathi/imdb-dataset-of-50k-movie-reviews) .\n",
    "    +  2.1 Используя встроенные возможности *TfidfVectorizer*.\n",
    "    +  2.2 Реализовав аналог самостоятельно.\n",
    "    +  2.3 Подготовленный датасет сохраните в новый csv файл.\n",
    "   \n",
    "        \n",
    "\n",
    "\n",
    "\n",
    "[https://www.geeksforgeeks.org/understanding-tf-idf-term-frequency-inverse-document-frequency/](https://www.geeksforgeeks.org/understanding-tf-idf-term-frequency-inverse-document-frequency/)"
   ]
  },
  {
   "cell_type": "markdown",
   "id": "a56618ad",
   "metadata": {},
   "source": [
    "## <font color = 'green'> 2. Введение в классификацию.  </font>"
   ]
  },
  {
   "cell_type": "code",
   "execution_count": null,
   "id": "5ffa53e8",
   "metadata": {},
   "outputs": [],
   "source": [
    "X_data = np.random.randint(0,40,(300,2))\n",
    "rows = np.where(X_data[:,0]!=X_data[:,1])\n",
    "X_data = X_data[rows]\n",
    "y_data = np.array([int(np.sign(elem[0]-elem[1])==1) for elem in X_data])\n",
    "\n",
    "plt.scatter(X_data[:,0],X_data[:,1],c = y_data);\n",
    "\n",
    "inner_model = LogisticRegression(penalty=None)\n",
    "inner_model.fit(X_data, y_data)\n",
    "\n",
    "inner_preds = inner_model.predict(X_data)\n",
    "inner_preds_pr = inner_model.predict_proba(X_data)\n",
    " # accuracy\n",
    "(inner_preds == y_data).mean()\n",
    "\n",
    "inner_preds_pr\n",
    "\n",
    "print(inner_model.coef_)\n",
    "\n",
    "inner_model.intercept_"
   ]
  },
  {
   "cell_type": "markdown",
   "id": "f7a649cc",
   "metadata": {},
   "source": [
    "<font color = 'red' size = 5>Задание 3 </font>\n",
    "\n",
    "Используя встроенные возможности *python* реализуйте простую модель классифиакатора для данных из з. 1 и з. 2. Сделайте выводы о точности, используя метрику *accurancy_score*.\n"
   ]
  }
 ],
 "metadata": {
  "kernelspec": {
   "display_name": "Python 3",
   "language": "python",
   "name": "python3"
  },
  "language_info": {
   "codemirror_mode": {
    "name": "ipython",
    "version": 3
   },
   "file_extension": ".py",
   "mimetype": "text/x-python",
   "name": "python",
   "nbconvert_exporter": "python",
   "pygments_lexer": "ipython3",
   "version": "3.12.5"
  }
 },
 "nbformat": 4,
 "nbformat_minor": 5
}
