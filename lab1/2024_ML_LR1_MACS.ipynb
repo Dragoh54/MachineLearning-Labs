{
 "cells": [
  {
   "cell_type": "markdown",
   "id": "25369ced",
   "metadata": {},
   "source": [
    "# <font color = 'red'> ЛР 1. Введение. Инструменты python для базовых задач МО. </font>"
   ]
  },
  {
   "cell_type": "markdown",
   "id": "427f8b1e",
   "metadata": {},
   "source": [
    "Сложность: <font color = 'green'> Легко  </font>.\n",
    "\n",
    "Дата: 04.09.2024\n",
    "\n",
    "Срок выполнения: 1 неделя.\n",
    "\n",
    "Ст. преподаватель: Кушнеров А.В."
   ]
  },
  {
   "cell_type": "markdown",
   "id": "85867e37-9999-4679-9bf1-77b3d77a6373",
   "metadata": {},
   "source": [
    "**Цель**: Установка и настройка окружения (python, anaconda) и необходимых модулей. Решение простейших задач.\n",
    "\n",
    "Лаборторная работа вводного типа. Выдаётся до первой лекции. В ЛР представлен базовый обзор функционала работы с данными в Python. "
   ]
  },
  {
   "cell_type": "markdown",
   "id": "22eecce1-d726-4c84-b2f2-04861bbc1904",
   "metadata": {},
   "source": [
    "Полезные ссылки:\n",
    "\n",
    "1. [Документация numpy](https://numpy.org/doc/stable/)\n",
    "2. [Пример простейшего классификатора](https://medium.com/@chyun55555/decision-tree-classifier-with-scikit-learn-from-python-e83f38079fea)\n"
   ]
  },
  {
   "cell_type": "markdown",
   "id": "3f1b6159",
   "metadata": {},
   "source": [
    "## <font color = 'green'> 1. Библиотека numpy. База.  </font>"
   ]
  },
  {
   "cell_type": "markdown",
   "id": "d47e0589",
   "metadata": {},
   "source": [
    "**NumPy (Numerical Python)** — это библиотека языка Python, добавляющая поддержку больших многомерных массивов и матриц, вместе с большой библиотекой высокоуровневых (и очень быстрых) математических функций для операций с этими массивами."
   ]
  },
  {
   "cell_type": "code",
   "execution_count": null,
   "id": "3a219691",
   "metadata": {},
   "outputs": [],
   "source": [
    "import numpy as np\n",
    "np.__version__"
   ]
  },
  {
   "cell_type": "code",
   "execution_count": null,
   "id": "ba8b6896",
   "metadata": {},
   "outputs": [],
   "source": [
    "np.arctan(10)"
   ]
  },
  {
   "cell_type": "code",
   "execution_count": null,
   "id": "37ff9468",
   "metadata": {},
   "outputs": [],
   "source": [
    "np.arctan?"
   ]
  },
  {
   "cell_type": "markdown",
   "id": "d38e1c04",
   "metadata": {},
   "source": [
    "**Создаём массивы**"
   ]
  },
  {
   "cell_type": "code",
   "execution_count": null,
   "id": "3a41d324",
   "metadata": {},
   "outputs": [],
   "source": [
    "np.array([1, 2, 3, 4])"
   ]
  },
  {
   "cell_type": "code",
   "execution_count": null,
   "id": "ce955ece",
   "metadata": {},
   "outputs": [],
   "source": [
    "a = np.array([1, 2, 3, 4], dtype = 'float32')\n",
    "a"
   ]
  },
  {
   "cell_type": "code",
   "execution_count": null,
   "id": "c6058a53",
   "metadata": {},
   "outputs": [],
   "source": [
    "np.append(a,2)"
   ]
  },
  {
   "cell_type": "code",
   "execution_count": null,
   "id": "d611a17d",
   "metadata": {},
   "outputs": [],
   "source": [
    "a"
   ]
  },
  {
   "cell_type": "code",
   "execution_count": null,
   "id": "c916ac35",
   "metadata": {},
   "outputs": [],
   "source": [
    "np.array([range(i, i + 3) for i in [2, 4, 6]]) #преобразование вложенных данных в массив"
   ]
  },
  {
   "cell_type": "code",
   "execution_count": null,
   "id": "e550c1cd",
   "metadata": {},
   "outputs": [],
   "source": [
    "np.zeros(10, dtype=int)"
   ]
  },
  {
   "cell_type": "code",
   "execution_count": null,
   "id": "451c436c",
   "metadata": {},
   "outputs": [],
   "source": [
    "np.zeros((3,3), dtype=int)"
   ]
  },
  {
   "cell_type": "code",
   "execution_count": null,
   "id": "2ea24e27",
   "metadata": {},
   "outputs": [],
   "source": [
    "np.ones((3,3), dtype=int)"
   ]
  },
  {
   "cell_type": "code",
   "execution_count": null,
   "id": "fd93b12f",
   "metadata": {},
   "outputs": [],
   "source": [
    "np.full((3,3), np.pi)"
   ]
  },
  {
   "cell_type": "code",
   "execution_count": null,
   "id": "7ef9c51d",
   "metadata": {},
   "outputs": [],
   "source": [
    "np.arange(0,20,2)"
   ]
  },
  {
   "cell_type": "code",
   "execution_count": null,
   "id": "e10ea8b7",
   "metadata": {},
   "outputs": [],
   "source": [
    "np.linspace(0,1,5)"
   ]
  },
  {
   "cell_type": "code",
   "execution_count": null,
   "id": "768129bf",
   "metadata": {},
   "outputs": [],
   "source": [
    "np.logspace(0,1,5) # последовательность степеней"
   ]
  },
  {
   "cell_type": "code",
   "execution_count": null,
   "id": "9b4dd54f",
   "metadata": {},
   "outputs": [],
   "source": [
    "10**np.linspace(0,1,5)"
   ]
  },
  {
   "cell_type": "code",
   "execution_count": null,
   "id": "2c722b72",
   "metadata": {},
   "outputs": [],
   "source": [
    "np.logspace(0,5,6,base = 2)"
   ]
  },
  {
   "cell_type": "code",
   "execution_count": null,
   "id": "f0263e51",
   "metadata": {},
   "outputs": [],
   "source": [
    "np.random.random((3,3))"
   ]
  },
  {
   "cell_type": "code",
   "execution_count": null,
   "id": "02db635a",
   "metadata": {},
   "outputs": [],
   "source": [
    "np.random.randint(0, 10, (3, 3))"
   ]
  },
  {
   "cell_type": "code",
   "execution_count": null,
   "id": "56c7e8b6",
   "metadata": {},
   "outputs": [],
   "source": [
    "np.eye(3, dtype=int)"
   ]
  },
  {
   "cell_type": "code",
   "execution_count": null,
   "id": "5daa8529",
   "metadata": {},
   "outputs": [],
   "source": [
    "test = np.array([[1,2],[3,4]],dtype = 'int32')\n",
    "test"
   ]
  },
  {
   "cell_type": "code",
   "execution_count": 22,
   "id": "7fe6ae03",
   "metadata": {},
   "outputs": [],
   "source": [
    "test[0]=[3.14,2.0001]"
   ]
  },
  {
   "cell_type": "code",
   "execution_count": null,
   "id": "d3186a41",
   "metadata": {},
   "outputs": [],
   "source": [
    "test"
   ]
  },
  {
   "cell_type": "code",
   "execution_count": 23,
   "id": "df81e8ab",
   "metadata": {},
   "outputs": [],
   "source": [
    "test = np.append(test,[3.14,2.0001])"
   ]
  },
  {
   "cell_type": "code",
   "execution_count": null,
   "id": "c4242929",
   "metadata": {},
   "outputs": [],
   "source": [
    "test"
   ]
  },
  {
   "cell_type": "code",
   "execution_count": null,
   "id": "a15758ee",
   "metadata": {},
   "outputs": [],
   "source": [
    "test.dtype"
   ]
  },
  {
   "cell_type": "code",
   "execution_count": null,
   "id": "6ee03f6f",
   "metadata": {},
   "outputs": [],
   "source": [
    "test.nbytes"
   ]
  },
  {
   "cell_type": "code",
   "execution_count": null,
   "id": "2483960a",
   "metadata": {},
   "outputs": [],
   "source": [
    "np.fromfunction(lambda i, j: i + j, (3, 3), dtype=int) #элементы зависят от индекса"
   ]
  },
  {
   "cell_type": "code",
   "execution_count": null,
   "id": "a81484e3",
   "metadata": {},
   "outputs": [],
   "source": [
    "np.zeros_like(test)"
   ]
  },
  {
   "cell_type": "markdown",
   "id": "402704fb",
   "metadata": {},
   "source": [
    "**Доступ к элементам массива**"
   ]
  },
  {
   "cell_type": "code",
   "execution_count": 29,
   "id": "0ba425d6",
   "metadata": {},
   "outputs": [],
   "source": [
    "x1 = np.random.randint(10, size=6)  \n",
    "x2 = np.random.randint(10, size=(3, 4))  \n",
    "x3 = np.random.randint(10, size=(3, 4, 5))  "
   ]
  },
  {
   "cell_type": "code",
   "execution_count": null,
   "id": "708a94df",
   "metadata": {},
   "outputs": [],
   "source": [
    "x1"
   ]
  },
  {
   "cell_type": "code",
   "execution_count": null,
   "id": "982e1e35",
   "metadata": {},
   "outputs": [],
   "source": [
    "x2"
   ]
  },
  {
   "cell_type": "code",
   "execution_count": null,
   "id": "78b57b52",
   "metadata": {},
   "outputs": [],
   "source": [
    "x3"
   ]
  },
  {
   "cell_type": "code",
   "execution_count": null,
   "id": "21ad96b4",
   "metadata": {},
   "outputs": [],
   "source": [
    "x1[0]"
   ]
  },
  {
   "cell_type": "code",
   "execution_count": null,
   "id": "c5cd2cd0",
   "metadata": {},
   "outputs": [],
   "source": [
    "x1[-1]"
   ]
  },
  {
   "cell_type": "code",
   "execution_count": null,
   "id": "a2a21d99",
   "metadata": {},
   "outputs": [],
   "source": [
    "x2"
   ]
  },
  {
   "cell_type": "code",
   "execution_count": null,
   "id": "0ec83b80",
   "metadata": {},
   "outputs": [],
   "source": [
    "x2[0,1]"
   ]
  },
  {
   "cell_type": "code",
   "execution_count": null,
   "id": "599b0db6",
   "metadata": {},
   "outputs": [],
   "source": [
    "x2[0,-1]"
   ]
  },
  {
   "cell_type": "code",
   "execution_count": null,
   "id": "91f4720f",
   "metadata": {},
   "outputs": [],
   "source": [
    "x1"
   ]
  },
  {
   "cell_type": "code",
   "execution_count": null,
   "id": "f1b24ff8",
   "metadata": {},
   "outputs": [],
   "source": [
    "# x[start:stop:step]\n",
    "x1[1:-1:2]"
   ]
  },
  {
   "cell_type": "code",
   "execution_count": null,
   "id": "ecd0c090",
   "metadata": {},
   "outputs": [],
   "source": [
    "x1[:5]"
   ]
  },
  {
   "cell_type": "code",
   "execution_count": null,
   "id": "7556c785",
   "metadata": {},
   "outputs": [],
   "source": [
    "x1[::2]"
   ]
  },
  {
   "cell_type": "code",
   "execution_count": null,
   "id": "ecebc759",
   "metadata": {},
   "outputs": [],
   "source": [
    "x1[::-1] # разворот"
   ]
  },
  {
   "cell_type": "code",
   "execution_count": null,
   "id": "691a3505",
   "metadata": {},
   "outputs": [],
   "source": [
    "x2"
   ]
  },
  {
   "cell_type": "code",
   "execution_count": null,
   "id": "e6f1c88c",
   "metadata": {},
   "outputs": [],
   "source": [
    "x2[:2,:2]"
   ]
  },
  {
   "cell_type": "code",
   "execution_count": null,
   "id": "210da55e",
   "metadata": {},
   "outputs": [],
   "source": [
    "x2[:,::-1]"
   ]
  },
  {
   "cell_type": "code",
   "execution_count": null,
   "id": "3adb41fc",
   "metadata": {},
   "outputs": [],
   "source": [
    "x2[:,[3,2,1]]"
   ]
  },
  {
   "cell_type": "code",
   "execution_count": null,
   "id": "c165e2a9",
   "metadata": {},
   "outputs": [],
   "source": [
    "x2[:,2] #столбец"
   ]
  },
  {
   "cell_type": "code",
   "execution_count": null,
   "id": "cd99d0e6",
   "metadata": {},
   "outputs": [],
   "source": [
    "x2[2,:] #строка"
   ]
  },
  {
   "cell_type": "code",
   "execution_count": 49,
   "id": "a9bac177",
   "metadata": {},
   "outputs": [],
   "source": [
    "x2_child = x2[2,:] # подмассив"
   ]
  },
  {
   "cell_type": "code",
   "execution_count": 50,
   "id": "9e199a73",
   "metadata": {},
   "outputs": [],
   "source": [
    "x2_child[0] = 2023"
   ]
  },
  {
   "cell_type": "code",
   "execution_count": null,
   "id": "203a4c18",
   "metadata": {},
   "outputs": [],
   "source": [
    "x2_child"
   ]
  },
  {
   "cell_type": "code",
   "execution_count": null,
   "id": "70fa49b7",
   "metadata": {},
   "outputs": [],
   "source": [
    "x2"
   ]
  },
  {
   "cell_type": "code",
   "execution_count": 53,
   "id": "7a8eaa1f",
   "metadata": {},
   "outputs": [],
   "source": [
    "x2_grownup_child = x2[0,:].copy() # копия для разрыва связи с базовым массивом"
   ]
  },
  {
   "cell_type": "code",
   "execution_count": null,
   "id": "4d3ff5a8",
   "metadata": {},
   "outputs": [],
   "source": [
    "x2_grownup_child"
   ]
  },
  {
   "cell_type": "code",
   "execution_count": 55,
   "id": "5048c813",
   "metadata": {},
   "outputs": [],
   "source": [
    "x2_grownup_child[0] = 2023"
   ]
  },
  {
   "cell_type": "code",
   "execution_count": null,
   "id": "b1937ac6",
   "metadata": {},
   "outputs": [],
   "source": [
    "x2_grownup_child"
   ]
  },
  {
   "cell_type": "code",
   "execution_count": null,
   "id": "6341435b",
   "metadata": {},
   "outputs": [],
   "source": [
    "x2"
   ]
  },
  {
   "cell_type": "markdown",
   "id": "fdef8bc6",
   "metadata": {},
   "source": [
    "**Изменение структуры массива**"
   ]
  },
  {
   "cell_type": "code",
   "execution_count": null,
   "id": "9a00bed6",
   "metadata": {},
   "outputs": [],
   "source": [
    "grid = np.arange(1, 10).reshape(3, 3) #создаём массив потом меняем его форму\n",
    "print(grid)"
   ]
  },
  {
   "cell_type": "code",
   "execution_count": null,
   "id": "2d6254c5",
   "metadata": {
    "scrolled": true
   },
   "outputs": [],
   "source": [
    "np.arange(1, 10).reshape(3, 2)"
   ]
  },
  {
   "cell_type": "code",
   "execution_count": null,
   "id": "2de2cc8f",
   "metadata": {},
   "outputs": [],
   "source": [
    "x = np.array([1, 2, 3])\n",
    "x.reshape((1, 3)) "
   ]
  },
  {
   "cell_type": "code",
   "execution_count": null,
   "id": "08db440d",
   "metadata": {},
   "outputs": [],
   "source": [
    "x.reshape((3, 1)) "
   ]
  },
  {
   "cell_type": "code",
   "execution_count": null,
   "id": "84a8ed07",
   "metadata": {},
   "outputs": [],
   "source": [
    "x[np.newaxis,:]"
   ]
  },
  {
   "cell_type": "code",
   "execution_count": null,
   "id": "ae2cef61",
   "metadata": {},
   "outputs": [],
   "source": [
    "x = np.array([1, 2, 3])\n",
    "y = np.array([3, 2, 1])\n",
    "np.concatenate([x, y])"
   ]
  },
  {
   "cell_type": "code",
   "execution_count": null,
   "id": "35af2ebe",
   "metadata": {},
   "outputs": [],
   "source": [
    "z = np.array([99, 99, 99])\n",
    "print(np.concatenate([x, y, z]))"
   ]
  },
  {
   "cell_type": "code",
   "execution_count": 70,
   "id": "bad2b508",
   "metadata": {},
   "outputs": [],
   "source": [
    "grid1 = np.array([[1, 2, 3],\n",
    "                 [4, 5, 6]])"
   ]
  },
  {
   "cell_type": "code",
   "execution_count": null,
   "id": "fd9b9691",
   "metadata": {},
   "outputs": [],
   "source": [
    "grid2 = np.zeros((2,3))\n",
    "grid2"
   ]
  },
  {
   "cell_type": "code",
   "execution_count": null,
   "id": "d292bfcb",
   "metadata": {},
   "outputs": [],
   "source": [
    "np.concatenate([grid1, grid2]) # конкатенация по 1 - ому измерению"
   ]
  },
  {
   "cell_type": "code",
   "execution_count": null,
   "id": "15eebaf5",
   "metadata": {},
   "outputs": [],
   "source": [
    "np.concatenate([grid1, grid2],axis = 1) # конкатенация по 2 - ому измерению"
   ]
  },
  {
   "cell_type": "code",
   "execution_count": null,
   "id": "632b6dbe",
   "metadata": {},
   "outputs": [],
   "source": [
    "np.vstack([grid1, grid2])"
   ]
  },
  {
   "cell_type": "code",
   "execution_count": null,
   "id": "b15d6b56",
   "metadata": {},
   "outputs": [],
   "source": [
    "np.hstack([grid1, grid2])"
   ]
  },
  {
   "cell_type": "code",
   "execution_count": null,
   "id": "37b46913",
   "metadata": {},
   "outputs": [],
   "source": [
    "x = np.array([1, 2, 3, 99, 99, 3, 2, 1])\n",
    "np.split(x, 4) # разделение массива"
   ]
  },
  {
   "cell_type": "code",
   "execution_count": null,
   "id": "e57e37ef",
   "metadata": {},
   "outputs": [],
   "source": [
    "np.split(x,[3,5])"
   ]
  },
  {
   "cell_type": "code",
   "execution_count": null,
   "id": "4bbe52d9",
   "metadata": {},
   "outputs": [],
   "source": [
    "grid = np.arange(16).reshape((4, 4))\n",
    "grid"
   ]
  },
  {
   "cell_type": "code",
   "execution_count": null,
   "id": "6ddcc00a",
   "metadata": {},
   "outputs": [],
   "source": [
    "upper, lower = np.vsplit(grid, [2])\n",
    "print(upper)\n",
    "print(lower)"
   ]
  },
  {
   "cell_type": "code",
   "execution_count": null,
   "id": "2aad96a6",
   "metadata": {},
   "outputs": [],
   "source": [
    "left, right = np.hsplit(grid, [2])\n",
    "print(left)\n",
    "print(right)"
   ]
  },
  {
   "attachments": {},
   "cell_type": "markdown",
   "id": "fb4883cb",
   "metadata": {},
   "source": [
    "<font color = 'red' size = 5>Задание 1 </font>\n",
    "\n",
    "1. Изучите иструменты для создания массивов библиотеки numpy.Используя возможности библиотеки (без циклов) выполните следующие задания.\n",
    "2. Максимально используя возможности numpy сгенерируйте спиральную $N\\times N$ матрицу.\n",
    "   Спиральная матрица для $N = 6$:\n",
    "    $\\begin{bmatrix}\n",
    " 1 &  2 &  3 &  4 &  5 &  6 \\\\\n",
    "20 & 21 & 22 & 23 & 24 &  7 \\\\\n",
    "19 & 32 & 33 & 34 & 25 &  8 \\\\\n",
    "18 & 31 & 36 & 35 & 26 &  9 \\\\\n",
    "17 & 30 & 29 & 28 & 27 & 10 \\\\\n",
    "16 & 15 & 14 & 13 & 12 & 11 \\\\\n",
    "\\end{bmatrix}$\n",
    "4. Реализуйте функцию для создания матрицы для сетки координа x и y, покрывающими область [0,1] x [0,1] на плоскости. На вход функция принимает количество точек сетки.\n"
   ]
  },
  {
   "cell_type": "code",
   "execution_count": null,
   "id": "2f303fb9",
   "metadata": {},
   "outputs": [],
   "source": [
    "#Task2\n",
    "import numpy as np\n",
    "\n",
    "def spiral_matrix(n: int) -> np.ndarray:  # n dimensional array\n",
    "    # передаем текущую матрицу и новую размерность\n",
    "    def transform(matrix: np.ndarray, n: int) -> np.ndarray:\n",
    "        # если ушли за 0 то заканчиваем рекурсию\n",
    "        if n == -1:\n",
    "            return matrix\n",
    "        # отсоединяем верхнюю строку от матрицы\n",
    "        top, bottom = np.vsplit(matrix, [1])\n",
    "        bottom = bottom.reshape(bottom.shape[::-1])\n",
    "        # обьединяем матрицу с ее готовой верхней частью новую матрицу,\n",
    "        # которая будет повернута на 90 градусов по часовой\n",
    "        return np.concatenate([top, np.rot90(transform(bottom, n - 1), -1)])\n",
    "\n",
    "    #создаем матрицу\n",
    "    matrix = np.arange(1, n**2 + 1).reshape(n, n)\n",
    "\n",
    "    return transform(matrix, n)\n",
    "\n",
    "spiral_matrix(5)"
   ]
  },
  {
   "cell_type": "code",
   "execution_count": null,
   "id": "8df2a410",
   "metadata": {},
   "outputs": [],
   "source": [
    "#Task3\n",
    "import matplotlib.pyplot as plt\n",
    "import numpy as np\n",
    "\n",
    "def dot_matrix(nx: int, ny: int):\n",
    "    x = np.linspace(0, 1, nx)\n",
    "    y = np.linspace(0, 1, ny)\n",
    "    \n",
    "    X, Y = np.meshgrid(x, y)\n",
    "    \n",
    "    return X, Y\n",
    "\n",
    "xs, ys = dot_matrix(5, 4)\n",
    "plt.plot(xs, ys, marker='o', color='k', linestyle='none')\n",
    "plt.show()"
   ]
  },
  {
   "cell_type": "markdown",
   "id": "425d3cf0",
   "metadata": {},
   "source": [
    "## <font color = 'green'> 2. Библиотека numpy. Вычисления.  </font>"
   ]
  },
  {
   "cell_type": "markdown",
   "id": "fd15d030",
   "metadata": {},
   "source": [
    "**Векторизация**"
   ]
  },
  {
   "cell_type": "code",
   "execution_count": null,
   "id": "406a1b76",
   "metadata": {},
   "outputs": [],
   "source": [
    "big_array = np.random.randint(1,100,1000000)"
   ]
  },
  {
   "cell_type": "code",
   "execution_count": null,
   "id": "7ce81637",
   "metadata": {},
   "outputs": [],
   "source": [
    "1/big_array"
   ]
  },
  {
   "cell_type": "code",
   "execution_count": null,
   "id": "220fa5fd",
   "metadata": {},
   "outputs": [],
   "source": [
    "%timeit 1/big_array"
   ]
  },
  {
   "cell_type": "code",
   "execution_count": null,
   "id": "48081c24",
   "metadata": {},
   "outputs": [],
   "source": [
    "np.arange(5) / np.arange(1, 6)"
   ]
  },
  {
   "cell_type": "code",
   "execution_count": null,
   "id": "9acb692d",
   "metadata": {},
   "outputs": [],
   "source": [
    "2*np.arange(5) "
   ]
  },
  {
   "cell_type": "code",
   "execution_count": null,
   "id": "ccf463ad",
   "metadata": {},
   "outputs": [],
   "source": [
    "x = np.arange(9).reshape((3, 3))\n",
    "2 ** x"
   ]
  },
  {
   "cell_type": "code",
   "execution_count": null,
   "id": "b2ced406",
   "metadata": {},
   "outputs": [],
   "source": [
    "x"
   ]
  },
  {
   "cell_type": "code",
   "execution_count": null,
   "id": "1056b681",
   "metadata": {
    "scrolled": true
   },
   "outputs": [],
   "source": [
    "x**x"
   ]
  },
  {
   "cell_type": "code",
   "execution_count": null,
   "id": "1ee096cc",
   "metadata": {},
   "outputs": [],
   "source": [
    "x = np.arange(4)\n",
    "print(\"x      =\", x)\n",
    "print(\"x + 5  =\", x + 5)\n",
    "print(\"x - 5  =\", x - 5)\n",
    "print(\"x * 2  =\", x * 2)\n",
    "print(\"x / 2  =\", x / 2)\n",
    "print(\"x // 2 =\", x // 2)\n",
    "print(\"-x     = \", -x)\n",
    "print(\"x ** 2 = \", x ** 2)\n",
    "print(\"x % 2  = \", x % 2)"
   ]
  },
  {
   "cell_type": "code",
   "execution_count": null,
   "id": "69fc49de",
   "metadata": {},
   "outputs": [],
   "source": [
    "x = [1, 2, 4, 10]\n",
    "print(\"x        =\", x)\n",
    "print(\"ln(x)    =\", np.log(x))\n",
    "print(\"log2(x)  =\", np.log2(x))\n",
    "print(\"log10(x) =\", np.log10(x)) # куча математических функций и все с векторизацией"
   ]
  },
  {
   "cell_type": "code",
   "execution_count": null,
   "id": "2b8bde1a",
   "metadata": {},
   "outputs": [],
   "source": [
    "x = np.arange(1, 6)\n",
    "np.add.reduce(x)"
   ]
  },
  {
   "cell_type": "code",
   "execution_count": null,
   "id": "59b05363",
   "metadata": {},
   "outputs": [],
   "source": [
    "np.multiply.reduce(x)"
   ]
  },
  {
   "cell_type": "code",
   "execution_count": null,
   "id": "2bacf796",
   "metadata": {},
   "outputs": [],
   "source": [
    "x = np.arange(1, 6)\n",
    "np.add.accumulate(x)"
   ]
  },
  {
   "cell_type": "code",
   "execution_count": null,
   "id": "82cae2b0",
   "metadata": {},
   "outputs": [],
   "source": [
    "np.multiply.accumulate(x)"
   ]
  },
  {
   "cell_type": "code",
   "execution_count": null,
   "id": "585cd33a",
   "metadata": {},
   "outputs": [],
   "source": [
    "big_array = np.random.random(1000000)\n",
    "%timeit sum(big_array)\n",
    "%timeit np.sum(big_array)"
   ]
  },
  {
   "cell_type": "code",
   "execution_count": null,
   "id": "62990936",
   "metadata": {},
   "outputs": [],
   "source": [
    "np.min(big_array), np.max(big_array)"
   ]
  },
  {
   "cell_type": "code",
   "execution_count": null,
   "id": "f63af87d",
   "metadata": {},
   "outputs": [],
   "source": [
    "test= np.random.randint(100,size=(10,10))\n",
    "test"
   ]
  },
  {
   "cell_type": "code",
   "execution_count": null,
   "id": "843befdb",
   "metadata": {},
   "outputs": [],
   "source": [
    "test.min(axis=0) # минимум по столбцам"
   ]
  },
  {
   "cell_type": "markdown",
   "id": "9966bb25",
   "metadata": {},
   "source": [
    "**Операции с массивами и матрицами**"
   ]
  },
  {
   "cell_type": "code",
   "execution_count": null,
   "id": "8a2d5e04",
   "metadata": {},
   "outputs": [],
   "source": [
    "a = np.array([0, 1, 2])\n",
    "b = np.array([5, 5, 5])\n",
    "a + b\n",
    "\n"
   ]
  },
  {
   "cell_type": "code",
   "execution_count": null,
   "id": "b6c148da",
   "metadata": {},
   "outputs": [],
   "source": [
    "M = np.ones((3, 3))\n",
    "M"
   ]
  },
  {
   "cell_type": "code",
   "execution_count": null,
   "id": "9fcc0058",
   "metadata": {},
   "outputs": [],
   "source": [
    "M + a # numpy array broadcasting"
   ]
  },
  {
   "cell_type": "code",
   "execution_count": null,
   "id": "b5f9ef40",
   "metadata": {},
   "outputs": [],
   "source": [
    "a = np.arange(3)\n",
    "b = np.arange(3)[:, np.newaxis]\n",
    "\n",
    "print(a)\n",
    "print(b)"
   ]
  },
  {
   "cell_type": "code",
   "execution_count": null,
   "id": "c1aa98f7",
   "metadata": {},
   "outputs": [],
   "source": [
    "a + b"
   ]
  },
  {
   "cell_type": "code",
   "execution_count": null,
   "id": "b90c93fe",
   "metadata": {},
   "outputs": [],
   "source": [
    "np.repeat([a],3,axis=0)"
   ]
  },
  {
   "cell_type": "code",
   "execution_count": null,
   "id": "6855ae42",
   "metadata": {},
   "outputs": [],
   "source": [
    "np.repeat(b,3,axis=1)"
   ]
  },
  {
   "cell_type": "code",
   "execution_count": null,
   "id": "7ebee9c4",
   "metadata": {
    "scrolled": true
   },
   "outputs": [],
   "source": [
    "(np.repeat(b,3,axis=1) + np.repeat([a],3,axis=0), a + b)"
   ]
  },
  {
   "cell_type": "code",
   "execution_count": null,
   "id": "af1e4ce3",
   "metadata": {},
   "outputs": [],
   "source": [
    "M = np.ones((3, 2))\n",
    "a = np.arange(3)"
   ]
  },
  {
   "cell_type": "code",
   "execution_count": null,
   "id": "67112d2d",
   "metadata": {},
   "outputs": [],
   "source": [
    "a"
   ]
  },
  {
   "cell_type": "code",
   "execution_count": null,
   "id": "71ab4001",
   "metadata": {
    "scrolled": true
   },
   "outputs": [],
   "source": [
    "M"
   ]
  },
  {
   "cell_type": "code",
   "execution_count": null,
   "id": "9a411b41",
   "metadata": {},
   "outputs": [],
   "source": [
    "M+ a"
   ]
  },
  {
   "cell_type": "code",
   "execution_count": null,
   "id": "01af533f",
   "metadata": {},
   "outputs": [],
   "source": [
    "a = np.array([4,5,6,7])  \n",
    "b = np.array([1,3,5,7,9,11,14,10])  \n",
    "c = a+b;  "
   ]
  },
  {
   "cell_type": "code",
   "execution_count": null,
   "id": "f3e789ba",
   "metadata": {},
   "outputs": [],
   "source": [
    "matrix1 = np.array([[1, 3], [5, 7]])\n",
    "             \n",
    "matrix2 = np.array([[2, 6], [4, 8]])\n",
    "\n",
    "result = np.dot(matrix1, matrix2)\n",
    "\n",
    "print(\"matrix1 x matrix2: \\n\",result)"
   ]
  },
  {
   "cell_type": "code",
   "execution_count": null,
   "id": "b5e91a4e",
   "metadata": {},
   "outputs": [],
   "source": [
    "matrix1 = np.random.randint(10,size=(3,2))\n",
    "matrix1"
   ]
  },
  {
   "cell_type": "code",
   "execution_count": null,
   "id": "6b904f4e",
   "metadata": {},
   "outputs": [],
   "source": [
    "matrix2 = np.random.randint(10,size=(2,3))\n",
    "matrix2"
   ]
  },
  {
   "cell_type": "code",
   "execution_count": null,
   "id": "7cfd6b66",
   "metadata": {},
   "outputs": [],
   "source": [
    "np.dot(matrix1,matrix2)"
   ]
  },
  {
   "cell_type": "code",
   "execution_count": null,
   "id": "123fe78e",
   "metadata": {},
   "outputs": [],
   "source": [
    "np.dot(matrix2,matrix1)"
   ]
  },
  {
   "cell_type": "code",
   "execution_count": null,
   "id": "52505092",
   "metadata": {},
   "outputs": [],
   "source": [
    "np.dot(matrix1,matrix1)"
   ]
  },
  {
   "cell_type": "code",
   "execution_count": null,
   "id": "306a9483",
   "metadata": {},
   "outputs": [],
   "source": [
    "matrix1=np.array([1,2,3])"
   ]
  },
  {
   "cell_type": "code",
   "execution_count": null,
   "id": "9bd5ac66",
   "metadata": {},
   "outputs": [],
   "source": [
    "matrix2 = np.random.randint(10,size=(3,3))"
   ]
  },
  {
   "cell_type": "code",
   "execution_count": null,
   "id": "deb482a1",
   "metadata": {},
   "outputs": [],
   "source": [
    "np.dot(matrix2,matrix1)"
   ]
  },
  {
   "cell_type": "code",
   "execution_count": null,
   "id": "6ed34763",
   "metadata": {
    "scrolled": true
   },
   "outputs": [],
   "source": [
    "np.matmul(matrix2,matrix1)"
   ]
  },
  {
   "cell_type": "code",
   "execution_count": null,
   "id": "21fbe4a4",
   "metadata": {},
   "outputs": [],
   "source": [
    "matrix1"
   ]
  },
  {
   "cell_type": "code",
   "execution_count": null,
   "id": "0ed4c1fb",
   "metadata": {},
   "outputs": [],
   "source": [
    "np.multiply(matrix1,matrix1)"
   ]
  },
  {
   "cell_type": "code",
   "execution_count": null,
   "id": "92ec53b4",
   "metadata": {},
   "outputs": [],
   "source": [
    "matrix1 = np.array([[1, 3], [5, 7]])"
   ]
  },
  {
   "cell_type": "code",
   "execution_count": null,
   "id": "0dd6506b",
   "metadata": {
    "scrolled": true
   },
   "outputs": [],
   "source": [
    "matrix1 - matrix1 "
   ]
  },
  {
   "cell_type": "code",
   "execution_count": null,
   "id": "bd360ec5",
   "metadata": {},
   "outputs": [],
   "source": [
    "matrix1 = matrix1 + matrix1\n",
    "matrix1"
   ]
  },
  {
   "cell_type": "code",
   "execution_count": null,
   "id": "3901538c",
   "metadata": {},
   "outputs": [],
   "source": [
    "np.add(matrix1,matrix1,out=matrix1)\n",
    "matrix1"
   ]
  },
  {
   "cell_type": "code",
   "execution_count": null,
   "id": "c2e03766",
   "metadata": {},
   "outputs": [],
   "source": [
    "matrix1.T"
   ]
  },
  {
   "cell_type": "code",
   "execution_count": null,
   "id": "dd15a2b8",
   "metadata": {},
   "outputs": [],
   "source": [
    "np.linalg.det(matrix1)"
   ]
  },
  {
   "cell_type": "code",
   "execution_count": null,
   "id": "4b8e73f8",
   "metadata": {},
   "outputs": [],
   "source": [
    "np.linalg.inv(matrix1)"
   ]
  },
  {
   "cell_type": "code",
   "execution_count": null,
   "id": "297ba019",
   "metadata": {},
   "outputs": [],
   "source": [
    "np.dot(matrix1, np.linalg.inv(matrix1)).astype(int)"
   ]
  },
  {
   "cell_type": "markdown",
   "id": "eab7e03a",
   "metadata": {},
   "source": [
    "**Булевы операции**"
   ]
  },
  {
   "cell_type": "code",
   "execution_count": null,
   "id": "a7e136e3",
   "metadata": {},
   "outputs": [],
   "source": [
    "x"
   ]
  },
  {
   "cell_type": "code",
   "execution_count": null,
   "id": "0ad0d270",
   "metadata": {},
   "outputs": [],
   "source": [
    "x>2"
   ]
  },
  {
   "cell_type": "code",
   "execution_count": null,
   "id": "a96e92f4",
   "metadata": {},
   "outputs": [],
   "source": [
    "x[x>2]=0"
   ]
  },
  {
   "cell_type": "code",
   "execution_count": null,
   "id": "05aef8f8",
   "metadata": {},
   "outputs": [],
   "source": [
    "x"
   ]
  },
  {
   "cell_type": "code",
   "execution_count": null,
   "id": "41231176",
   "metadata": {},
   "outputs": [],
   "source": [
    "np.any(x==0)"
   ]
  },
  {
   "cell_type": "code",
   "execution_count": null,
   "id": "d5fe8615",
   "metadata": {},
   "outputs": [],
   "source": [
    "np.all(x==0)"
   ]
  },
  {
   "cell_type": "code",
   "execution_count": null,
   "id": "a8fde226",
   "metadata": {},
   "outputs": [],
   "source": [
    "np.sum(x>1)"
   ]
  },
  {
   "cell_type": "code",
   "execution_count": null,
   "id": "55ca6c9f",
   "metadata": {},
   "outputs": [],
   "source": [
    "np.sum(x[x>1])"
   ]
  },
  {
   "cell_type": "code",
   "execution_count": null,
   "id": "e51fbb7b",
   "metadata": {},
   "outputs": [],
   "source": [
    "matrix1"
   ]
  },
  {
   "cell_type": "code",
   "execution_count": null,
   "id": "3d4449a0",
   "metadata": {},
   "outputs": [],
   "source": [
    "np.where(matrix1 == 3)"
   ]
  },
  {
   "cell_type": "code",
   "execution_count": null,
   "id": "07b068ab",
   "metadata": {},
   "outputs": [],
   "source": [
    "Z = np.random.randint(1,10, 10)\n",
    "print(Z)\n",
    "\n",
    "Z[Z.argmax()] = 0\n",
    "print(Z)"
   ]
  },
  {
   "cell_type": "code",
   "execution_count": null,
   "id": "a54b2dc3",
   "metadata": {},
   "outputs": [],
   "source": [
    "Z.argmin()"
   ]
  },
  {
   "attachments": {
    "%D0%B8%D0%B7%D0%BE%D0%B1%D1%80%D0%B0%D0%B6%D0%B5%D0%BD%D0%B8%D0%B5.png": {
     "image/png": "[encoded data removed]"
    }
   },
   "cell_type": "markdown",
   "id": "e004ed3a",
   "metadata": {},
   "source": [
    "<font color = 'red' size = 5>Задание 2 </font>\n",
    "\n",
    "Используя векторизацию и матричные вычисления выполните задачи.\n",
    "\n",
    "1. Реализуйте учебную модель [Игры \"Жизнь\"](https://en.wikipedia.org/wiki/Conway%27s_Game_of_Life). Создайте также динамическое изображение.\n",
    "![%D0%B8%D0%B7%D0%BE%D0%B1%D1%80%D0%B0%D0%B6%D0%B5%D0%BD%D0%B8%D0%B5.png](attachment:%D0%B8%D0%B7%D0%BE%D0%B1%D1%80%D0%B0%D0%B6%D0%B5%D0%BD%D0%B8%D0%B5.png)\n",
    "\n",
    "2. Реализуйте [расширенный алгоритм Евклида](https://en.wikipedia.org/wiki/Extended_Euclidean_algorithm) в матричном виде. "
   ]
  },
  {
   "cell_type": "code",
   "execution_count": 9,
   "id": "2280bd9f",
   "metadata": {},
   "outputs": [],
   "source": [
    "import numpy as np\n",
    "import matplotlib.pyplot as plt\n",
    "from matplotlib.animation import FuncAnimation, PillowWriter\n",
    "from itertools import product\n",
    "import os"
   ]
  },
  {
   "cell_type": "code",
   "execution_count": 10,
   "id": "411de3ce",
   "metadata": {},
   "outputs": [],
   "source": [
    "#Task1\n",
    "N = 100 \n",
    "cells = np.random.randint(2, size=N**2).reshape((N, N))\n",
    "height, width = cells.shape\n",
    "neighbor_counter = np.zeros((height, width), dtype=int)\n",
    "\n",
    "fig, ax = plt.subplots()\n",
    "frames = 75  \n",
    "fps = 5 \n",
    "\n",
    "def animate(frame):\n",
    "    ax.clear()  # Очищает текущее содержимое осей, чтобы обновить изображение\n",
    "\n",
    "    # Проход по всем клеткам сетки (размером height x width)\n",
    "    for i, j in product(range(height), range(width)):\n",
    "        is_alive = cells[i, j]  # Определяет, жива ли текущая клетка (1 — живая, 0 — мертвая)\n",
    "\n",
    "        # Определение окружающих клеток и подсчет количества живых соседей\n",
    "        # cell_env — это подмассив, содержащий клетки вокруг текущей клетки (i, j)\n",
    "        # max(0, i-1) и min(i+2, height) ограничивают индексы, чтобы избежать выхода за границы массива\n",
    "        cell_env = cells[max(0, i-1):min(i+2, height), max(0, j-1):min(j+2, width)]\n",
    "        \n",
    "        # Подсчет количества живых соседей: суммируем все значения в окружении и вычитаем\n",
    "        # значение самой клетки (is_alive), так как она не считается своим собственным соседом\n",
    "        neighbor_counter[i, j] = np.sum(cell_env) - is_alive\n",
    "\n",
    "    # Применение правил Игры \"Жизнь\":\n",
    "    # 1. Клетки с количеством соседей меньше 2 или больше 3 умирают (становятся 0)\n",
    "    # 2. Клетки с ровно 3 соседями оживают (становятся 1)\n",
    "    cells[((neighbor_counter < 2) | (neighbor_counter > 3)) & (cells == 1)] = 0\n",
    "    cells[(neighbor_counter == 3) & (cells == 0)] = 1\n",
    "\n",
    "    # Отображение текущего состояния сетки\n",
    "    ax.matshow(cells, cmap='binary')  # Визуализация сетки, где живые клетки отображаются цветом\n",
    "\n",
    "\n",
    "plt.close()\n",
    "\n",
    "anime = FuncAnimation(fig, animate, frames=frames, interval=1000/fps, repeat=False)\n",
    "\n",
    "\n",
    "output_path = os.path.join(os.getcwd(), \"game_of_life_animation.gif\")\n",
    "writer = PillowWriter(fps=fps)\n",
    "anime.save(output_path, writer=writer)\n"
   ]
  },
  {
   "cell_type": "code",
   "execution_count": null,
   "id": "ac3dda43",
   "metadata": {},
   "outputs": [],
   "source": [
    "#Task2\n",
    "import numpy as np\n",
    "\n",
    "def extended_gcd(a: int, b: int) -> tuple[int, int, int]:\n",
    "    \"\"\"\n",
    "    :return: (g, r, s) such that g = a*r + b*s\n",
    "    \"\"\"\n",
    "    # Инициализация матрицы, где:\n",
    "    # - первая строка [1, 0] отвечает за коэффициент r\n",
    "    # - вторая строка [0, 1] отвечает за коэффициент s\n",
    "    # - третья строка [a, b] содержит текущие значения a и b\n",
    "    matr = np.array([[1, 0],\n",
    "                     [0, 1],\n",
    "                     [a, b]])\n",
    "\n",
    "    # Цикл продолжается, пока второй элемент третьей строки (текущее значение b) не станет нулем\n",
    "    while matr[2, 1] != 0:\n",
    "        # Обновляем значения a и b из третьей строки матрицы\n",
    "        a, b = matr[2, 0], matr[2, 1]\n",
    "\n",
    "        # Выполняем матричное умножение: обновляем матрицу matr, чтобы учесть текущие значения a и b\n",
    "        # Здесь матрица [[0, 1], [1, -a // b]] выполняет перестановку и обновление коэффициентов\n",
    "        # и значений a и b по правилам алгоритма Евклида\n",
    "        matr = matr @ np.array([[0, 1], \n",
    "                                [1, -a // b]])\n",
    "\n",
    "    # Возвращаем НОД (g), а также коэффициенты r и s\n",
    "    # - matr[2, 0] — это НОД (наибольший общий делитель), когда matr[2, 1] стало нулем\n",
    "    # - matr[0, 0] и matr[1, 0] — коэффициенты r и s, которые удовлетворяют уравнению g = a*r + b*s\n",
    "    return (matr[2, 0], matr[0, 0], matr[1, 0])\n",
    "\n",
    "# Пример использования функции\n",
    "a, b = 10, 3\n",
    "g, r, s = extended_gcd(a, b)\n",
    "\n",
    "# Проверка, что найденное значение НОД действительно равно a*r + b*s\n",
    "print(f'g = {g}, r = {r}, s = {s}')\n",
    "print(f'Сheck: {a} * {r} + {b} * {s} = {g}')\n"
   ]
  },
  {
   "cell_type": "markdown",
   "id": "fc8f15ba",
   "metadata": {},
   "source": [
    "## <font color = 'green'> 3. Пример работы с данными  </font>"
   ]
  },
  {
   "cell_type": "markdown",
   "id": "5815b4a8-4f31-40a7-8096-fbf407de1aa3",
   "metadata": {},
   "source": [
    "Рассмотрим простой пример работы с данными и обучим первую модель элементарного классификатора."
   ]
  },
  {
   "cell_type": "code",
   "execution_count": null,
   "id": "20cd0fa5-3d91-4be4-ba8b-c44d6e9b4e71",
   "metadata": {},
   "outputs": [],
   "source": [
    "import seaborn as sns\n",
    "iris = sns.load_dataset('iris')\n",
    "iris.head()"
   ]
  },
  {
   "cell_type": "markdown",
   "id": "4a32e33a-f331-4965-acd7-269ea7e3c557",
   "metadata": {},
   "source": [
    "Импортируем простеший и наиболее известный набор данных для обучения моделей классификации - цветки ириса.\n",
    "Первые 4 столбца это некоторые характеристики растения, а последний столбец - целевой. Именно его наша модель должна предсказывать, принимая на вход первые 4. "
   ]
  },
  {
   "cell_type": "code",
   "execution_count": null,
   "id": "24fa8a6d-bc63-4de2-b697-9ea258c3373d",
   "metadata": {},
   "outputs": [],
   "source": [
    "X_iris = iris.drop('species', axis=1) # выделяем признаки в отдельную переменную\n",
    "X_iris.shape"
   ]
  },
  {
   "cell_type": "code",
   "execution_count": null,
   "id": "c8e6918f-d869-4032-a6db-8b487d604c4b",
   "metadata": {},
   "outputs": [],
   "source": [
    "y_iris = iris['species'] # целевые метки в другую переменную\n",
    "y_iris.shape"
   ]
  },
  {
   "cell_type": "markdown",
   "id": "ec02e2a9-7f50-4806-b7aa-18e6140a4f4f",
   "metadata": {},
   "source": [
    "Далее нам необходимо разделить данные на _тестовую_ и _обучающую_ выборки. Это нужно для проверки качества модели. Подробнее об этом можно будет узнать в следующих ЛР."
   ]
  },
  {
   "cell_type": "code",
   "execution_count": 17,
   "id": "4c1a96dc-3c3d-48de-b913-35fd991bb3fd",
   "metadata": {},
   "outputs": [],
   "source": [
    "from sklearn.model_selection import train_test_split\n",
    "Xtrain, Xtest, ytrain, ytest = train_test_split(X_iris, y_iris,\n",
    "                                                random_state=11)"
   ]
  },
  {
   "cell_type": "code",
   "execution_count": null,
   "id": "c2c020f9-c300-44f1-b60a-d733eac6b962",
   "metadata": {},
   "outputs": [],
   "source": [
    "Xtrain.shape"
   ]
  },
  {
   "cell_type": "code",
   "execution_count": null,
   "id": "9e9da20a-4627-4b32-baed-bf048c72ef8c",
   "metadata": {},
   "outputs": [],
   "source": [
    "Xtest.shape"
   ]
  },
  {
   "cell_type": "markdown",
   "id": "a4a480d0-37ac-4877-b0f9-0b1d0b0599d1",
   "metadata": {},
   "source": [
    "Далее обучим классификатор на основе простого решающего дерева. Мы используем встроенный класс DecisionTreeClassifier модуля sklearn. Подробнее мы изучим его далее. Пока рекомендую обратить внимание на его параметры. \n",
    "\n",
    "Далее следует помнить, что у  модели классификатора, есть два метода _fit_ - обучает модель на обуч. выборке, как бы подстраивая её под наши данные и _predict_ - который выдаёт прогноз, приниамая признаки (массив данных признаков) на вход. Обратите внимание, что в примере ниже функции применяются сразу ко всему массиву данных. "
   ]
  },
  {
   "cell_type": "code",
   "execution_count": 20,
   "id": "04a57eee-ad0f-4a5f-9f5f-6de102819f70",
   "metadata": {},
   "outputs": [],
   "source": [
    "from sklearn.tree import DecisionTreeClassifier \n",
    "model = DecisionTreeClassifier(max_depth=3)                       \n",
    "model.fit(Xtrain, ytrain)                  # обучаем модель\n",
    "y_model = model.predict(Xtest) "
   ]
  },
  {
   "cell_type": "code",
   "execution_count": null,
   "id": "91c9b805-f067-4eb0-ad9e-9db86d6be498",
   "metadata": {},
   "outputs": [],
   "source": [
    "y_model"
   ]
  },
  {
   "cell_type": "markdown",
   "id": "94445b55-f6f3-49ce-a4ee-a6c3b15252b8",
   "metadata": {},
   "source": [
    "Очевидный и интуитивно понятный метод оценки точности модели - процент правильно угаданных меток на тестовых данных. В нашем случае 86%. Отметим, что это не всегда оптимальный метод оценки качества модели! "
   ]
  },
  {
   "cell_type": "code",
   "execution_count": null,
   "id": "1550a32c-918f-4ef6-ae17-a5c7cb1c4266",
   "metadata": {},
   "outputs": [],
   "source": [
    "from sklearn.metrics import accuracy_score\n",
    "accuracy_score(ytest, y_model)"
   ]
  },
  {
   "cell_type": "markdown",
   "id": "22f84f01-d578-4907-8b95-840e65a43a97",
   "metadata": {},
   "source": [
    "Графически мы можем увидеть результаты нашей классификации построив график по двум признакам, раскрашивая метки цветами в  зависимости от исходного значения и нами предсказнного."
   ]
  },
  {
   "cell_type": "code",
   "execution_count": null,
   "id": "32e51823-0b0e-48a0-a0d1-ab2476aa6fb0",
   "metadata": {},
   "outputs": [],
   "source": [
    "Xtest.values # получаем массив numpy из DataFrame"
   ]
  },
  {
   "cell_type": "code",
   "execution_count": 24,
   "id": "beefab10-fc9d-4917-ad48-f050b32b7b1d",
   "metadata": {},
   "outputs": [],
   "source": [
    "from sklearn.preprocessing import LabelEncoder"
   ]
  },
  {
   "cell_type": "code",
   "execution_count": null,
   "id": "ab79b86c-cce4-438d-968a-dc3623641660",
   "metadata": {},
   "outputs": [],
   "source": [
    "label_encoder = LabelEncoder()\n",
    "\n",
    "# Преобразуем категории в числа\n",
    "labels = label_encoder.fit_transform(ytest.values)\n",
    "print(labels)  "
   ]
  },
  {
   "cell_type": "code",
   "execution_count": null,
   "id": "4107a51f-aafc-4803-a087-245a1768c8df",
   "metadata": {},
   "outputs": [],
   "source": [
    "labels_model = label_encoder.transform(y_model)\n",
    "print(labels_model)  "
   ]
  },
  {
   "cell_type": "code",
   "execution_count": null,
   "id": "5268b9cb-880f-4cae-a218-498a573dd9ce",
   "metadata": {
    "scrolled": true
   },
   "outputs": [],
   "source": [
    "from matplotlib import pyplot as plt\n",
    "plt.figure(figsize=(6, 3))\n",
    "plt.scatter(Xtest.values[:,0],Xtest.values[:,1],c=labels,s=90,cmap='winter')\n",
    "plt.scatter(Xtest.values[:,0],Xtest.values[:,1],c=labels_model,s=30,cmap='winter')\n",
    "\n",
    "plt.show()"
   ]
  },
  {
   "cell_type": "markdown",
   "id": "d90f5471-0a97-4960-848e-063e956c31c3",
   "metadata": {},
   "source": [
    "Можно без труда отличить несовпадающие метки. Заметим, что точность данной модели можно улучшить. Подумайте как?"
   ]
  },
  {
   "cell_type": "markdown",
   "id": "0b75343e-cd59-459f-99aa-0ce8f4d0c264",
   "metadata": {},
   "source": [
    "<font color = 'red' size = 5>Задание 3 </font>\n",
    "\n",
    "1. Импортируйте данные о [качестве воды](https://www.kaggle.com/datasets/mssmartypants/water-quality?resource=download).\n",
    "2. Попробуйте на основе примера выше построить с ходу модель классификатора предсказывая последний столбец.\n",
    "3. Оцените точность модели с помощью accurancy_score и графически."
   ]
  },
  {
   "cell_type": "code",
   "execution_count": null,
   "id": "51ce4365-6657-4612-a02d-6f4dd5bf5c18",
   "metadata": {},
   "outputs": [],
   "source": [
    "import pandas as pd\n",
    "\n",
    "data = pd.read_csv('waterQuality1.csv',na_values=['#NUM!'] )\n",
    "data = data.dropna()\n",
    "data.head()"
   ]
  },
  {
   "cell_type": "code",
   "execution_count": null,
   "id": "95e3f673-1427-474b-b705-be95d516b9f5",
   "metadata": {},
   "outputs": [],
   "source": [
    "data.info()"
   ]
  },
  {
   "cell_type": "code",
   "execution_count": null,
   "id": "6a8a3b2e",
   "metadata": {},
   "outputs": [],
   "source": [
    "X = data.drop('is_safe', axis=1) # выделяем признаки в отдельную переменную\n",
    "X"
   ]
  },
  {
   "cell_type": "code",
   "execution_count": null,
   "id": "f3120f09",
   "metadata": {},
   "outputs": [],
   "source": [
    "Y = data['is_safe'].astype(int) # целевые метки в другую переменную\n",
    "Y "
   ]
  },
  {
   "cell_type": "code",
   "execution_count": 6,
   "id": "e00afe6f",
   "metadata": {},
   "outputs": [],
   "source": [
    "from sklearn.model_selection import train_test_split\n",
    "Xtrain, Xtest, ytrain, ytest = train_test_split(X, Y,\n",
    "                                                random_state=11)"
   ]
  },
  {
   "cell_type": "code",
   "execution_count": 7,
   "id": "9d9126e9",
   "metadata": {},
   "outputs": [],
   "source": [
    "from sklearn.tree import DecisionTreeClassifier \n",
    "model = DecisionTreeClassifier(max_depth=3)                       \n",
    "model.fit(Xtrain, ytrain)                  # обучаем модель\n",
    "y_model = model.predict(Xtest) "
   ]
  },
  {
   "cell_type": "code",
   "execution_count": null,
   "id": "61bad329",
   "metadata": {},
   "outputs": [],
   "source": [
    "y_model"
   ]
  },
  {
   "cell_type": "code",
   "execution_count": 21,
   "id": "529e9f96",
   "metadata": {},
   "outputs": [
    {
     "name": "stdout",
     "output_type": "stream",
     "text": [
      "{'Accuracy': 0.9459729864932466, 'Precision': np.float64(0.9071428571428571), 'Sensitivity_recall': np.float64(0.5720720720720721), 'Specificity': np.float64(0.9926842993809791), 'F1_score': np.float64(0.7016574585635359)}\n"
     ]
    }
   ],
   "source": [
    "from sklearn import metrics \n",
    "\n",
    "Accuracy = metrics.accuracy_score(ytest, y_model)\n",
    "Precision = metrics.precision_score(ytest, y_model)\n",
    "Sensitivity_recall = metrics.recall_score(ytest, y_model)\n",
    "Specificity = metrics.recall_score(ytest, y_model, pos_label=0)\n",
    "F1_score = metrics.f1_score(ytest, y_model)\n",
    "\n",
    "#metrics\n",
    "print({\"Accuracy\":Accuracy,\"Precision\":Precision,\"Sensitivity_recall\":Sensitivity_recall,\"Specificity\":Specificity,\"F1_score\":F1_score})"
   ]
  },
  {
   "cell_type": "code",
   "execution_count": null,
   "id": "6d2447b9",
   "metadata": {},
   "outputs": [],
   "source": [
    "from matplotlib import pyplot as plt\n",
    "\n",
    "plt.figure(figsize=(6, 3))\n",
    "plt.scatter(Xtest.values[:,0],Xtest.values[:,1],c=ytest,s=90,cmap='winter')\n",
    "plt.scatter(Xtest.values[:,0],Xtest.values[:,1],c=y_model,s=30,cmap='winter')\n",
    "\n",
    "plt.show()"
   ]
  },
  {
   "cell_type": "code",
   "execution_count": null,
   "id": "e1d7765f",
   "metadata": {},
   "outputs": [],
   "source": [
    "from sklearn.metrics import confusion_matrix\n",
    "\n",
    "matr = confusion_matrix(ytest, y_model)\n",
    "\n",
    "print(f'TN = {matr[0,0]}, FP = {matr[0,1]}\\nFN = {matr[1,0]}, TP = {matr[1,1]}')"
   ]
  },
  {
   "cell_type": "code",
   "execution_count": null,
   "id": "6d7a6c28",
   "metadata": {},
   "outputs": [],
   "source": [
    "from sklearn import metrics\n",
    "import matplotlib.pyplot as plt\n",
    "\n",
    "cm_display = metrics.ConfusionMatrixDisplay(confusion_matrix = matr, display_labels = [0, 1])\n",
    "\n",
    "cm_display.plot()\n",
    "plt.show()"
   ]
  }
 ],
 "metadata": {
  "kernelspec": {
   "display_name": "Python 3",
   "language": "python",
   "name": "python3"
  },
  "language_info": {
   "codemirror_mode": {
    "name": "ipython",
    "version": 3
   },
   "file_extension": ".py",
   "mimetype": "text/x-python",
   "name": "python",
   "nbconvert_exporter": "python",
   "pygments_lexer": "ipython3",
   "version": "3.12.1"
  }
 },
 "nbformat": 4,
 "nbformat_minor": 5
}
