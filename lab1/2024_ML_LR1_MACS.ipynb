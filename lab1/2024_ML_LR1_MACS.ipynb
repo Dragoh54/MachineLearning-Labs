{
 "cells": [
  {
   "cell_type": "markdown",
   "id": "25369ced",
   "metadata": {},
   "source": [
    "# <font color = 'red'> ЛР 1. Введение. Инструменты python для базовых задач МО. </font>"
   ]
  },
  {
   "cell_type": "markdown",
   "id": "427f8b1e",
   "metadata": {},
   "source": [
    "Сложность: <font color = 'green'> Легко  </font>.\n",
    "\n",
    "Дата: 04.09.2024\n",
    "\n",
    "Срок выполнения: 1 неделя.\n",
    "\n",
    "Ст. преподаватель: Кушнеров А.В."
   ]
  },
  {
   "cell_type": "markdown",
   "id": "85867e37-9999-4679-9bf1-77b3d77a6373",
   "metadata": {},
   "source": [
    "**Цель**: Установка и настройка окружения (python, anaconda) и необходимых модулей. Решение простейших задач.\n",
    "\n",
    "Лаборторная работа вводного типа. Выдаётся до первой лекции. В ЛР представлен базовый обзор функционала работы с данными в Python. "
   ]
  },
  {
   "cell_type": "markdown",
   "id": "22eecce1-d726-4c84-b2f2-04861bbc1904",
   "metadata": {},
   "source": [
    "Полезные ссылки:\n",
    "\n",
    "1. [Документация numpy](https://numpy.org/doc/stable/)\n",
    "2. [Пример простейшего классификатора](https://medium.com/@chyun55555/decision-tree-classifier-with-scikit-learn-from-python-e83f38079fea)\n"
   ]
  },
  {
   "cell_type": "markdown",
   "id": "3f1b6159",
   "metadata": {},
   "source": [
    "## <font color = 'green'> 1. Библиотека numpy. База.  </font>"
   ]
  },
  {
   "cell_type": "markdown",
   "id": "d47e0589",
   "metadata": {},
   "source": [
    "**NumPy (Numerical Python)** — это библиотека языка Python, добавляющая поддержку больших многомерных массивов и матриц, вместе с большой библиотекой высокоуровневых (и очень быстрых) математических функций для операций с этими массивами."
   ]
  },
  {
   "cell_type": "code",
   "execution_count": 2,
   "id": "3a219691",
   "metadata": {},
   "outputs": [
    {
     "data": {
      "text/plain": [
       "'2.1.1'"
      ]
     },
     "execution_count": 2,
     "metadata": {},
     "output_type": "execute_result"
    }
   ],
   "source": [
    "import numpy as np\n",
    "np.__version__"
   ]
  },
  {
   "cell_type": "code",
   "execution_count": 3,
   "id": "ba8b6896",
   "metadata": {},
   "outputs": [
    {
     "data": {
      "text/plain": [
       "np.float64(1.4711276743037347)"
      ]
     },
     "execution_count": 3,
     "metadata": {},
     "output_type": "execute_result"
    }
   ],
   "source": [
    "np.arctan(10)"
   ]
  },
  {
   "cell_type": "code",
   "execution_count": 4,
   "id": "37ff9468",
   "metadata": {},
   "outputs": [
    {
     "name": "stdout",
     "output_type": "stream",
     "text": [
      "\u001b[1;31mSignature:\u001b[0m       \u001b[0mnp\u001b[0m\u001b[1;33m.\u001b[0m\u001b[0marctan\u001b[0m\u001b[1;33m(\u001b[0m\u001b[1;33m*\u001b[0m\u001b[0margs\u001b[0m\u001b[1;33m,\u001b[0m \u001b[1;33m**\u001b[0m\u001b[0mkwargs\u001b[0m\u001b[1;33m)\u001b[0m\u001b[1;33m\u001b[0m\u001b[1;33m\u001b[0m\u001b[0m\n",
      "\u001b[1;31mType:\u001b[0m            ufunc\n",
      "\u001b[1;31mString form:\u001b[0m     <ufunc 'arctan'>\n",
      "\u001b[1;31mFile:\u001b[0m            c:\\users\\nikita\\appdata\\local\\programs\\python\\python312\\lib\\site-packages\\numpy\\__init__.py\n",
      "\u001b[1;31mDocstring:\u001b[0m      \n",
      "arctan(x, /, out=None, *, where=True, casting='same_kind', order='K', dtype=None, subok=True[, signature])\n",
      "\n",
      "Trigonometric inverse tangent, element-wise.\n",
      "\n",
      "The inverse of tan, so that if ``y = tan(x)`` then ``x = arctan(y)``.\n",
      "\n",
      "Parameters\n",
      "----------\n",
      "x : array_like\n",
      "out : ndarray, None, or tuple of ndarray and None, optional\n",
      "    A location into which the result is stored. If provided, it must have\n",
      "    a shape that the inputs broadcast to. If not provided or None,\n",
      "    a freshly-allocated array is returned. A tuple (possible only as a\n",
      "    keyword argument) must have length equal to the number of outputs.\n",
      "where : array_like, optional\n",
      "    This condition is broadcast over the input. At locations where the\n",
      "    condition is True, the `out` array will be set to the ufunc result.\n",
      "    Elsewhere, the `out` array will retain its original value.\n",
      "    Note that if an uninitialized `out` array is created via the default\n",
      "    ``out=None``, locations within it where the condition is False will\n",
      "    remain uninitialized.\n",
      "**kwargs\n",
      "    For other keyword-only arguments, see the\n",
      "    :ref:`ufunc docs <ufuncs.kwargs>`.\n",
      "\n",
      "Returns\n",
      "-------\n",
      "out : ndarray or scalar\n",
      "    Out has the same shape as `x`.  Its real part is in\n",
      "    ``[-pi/2, pi/2]`` (``arctan(+/-inf)`` returns ``+/-pi/2``).\n",
      "    This is a scalar if `x` is a scalar.\n",
      "\n",
      "See Also\n",
      "--------\n",
      "arctan2 : The \"four quadrant\" arctan of the angle formed by (`x`, `y`)\n",
      "    and the positive `x`-axis.\n",
      "angle : Argument of complex values.\n",
      "\n",
      "Notes\n",
      "-----\n",
      "`arctan` is a multi-valued function: for each `x` there are infinitely\n",
      "many numbers `z` such that tan(`z`) = `x`.  The convention is to return\n",
      "the angle `z` whose real part lies in [-pi/2, pi/2].\n",
      "\n",
      "For real-valued input data types, `arctan` always returns real output.\n",
      "For each value that cannot be expressed as a real number or infinity,\n",
      "it yields ``nan`` and sets the `invalid` floating point error flag.\n",
      "\n",
      "For complex-valued input, `arctan` is a complex analytic function that\n",
      "has [``1j, infj``] and [``-1j, -infj``] as branch cuts, and is continuous\n",
      "from the left on the former and from the right on the latter.\n",
      "\n",
      "The inverse tangent is also known as `atan` or tan^{-1}.\n",
      "\n",
      "References\n",
      "----------\n",
      "Abramowitz, M. and Stegun, I. A., *Handbook of Mathematical Functions*,\n",
      "10th printing, New York: Dover, 1964, pp. 79.\n",
      "https://personal.math.ubc.ca/~cbm/aands/page_79.htm\n",
      "\n",
      "Examples\n",
      "--------\n",
      "We expect the arctan of 0 to be 0, and of 1 to be pi/4:\n",
      "\n",
      ">>> import numpy as np\n",
      "\n",
      ">>> np.arctan([0, 1])\n",
      "array([ 0.        ,  0.78539816])\n",
      "\n",
      ">>> np.pi/4\n",
      "0.78539816339744828\n",
      "\n",
      "Plot arctan:\n",
      "\n",
      ">>> import matplotlib.pyplot as plt\n",
      ">>> x = np.linspace(-10, 10)\n",
      ">>> plt.plot(x, np.arctan(x))\n",
      ">>> plt.axis('tight')\n",
      ">>> plt.show()\n",
      "\u001b[1;31mClass docstring:\u001b[0m\n",
      "Functions that operate element by element on whole arrays.\n",
      "\n",
      "To see the documentation for a specific ufunc, use `info`.  For\n",
      "example, ``np.info(np.sin)``.  Because ufuncs are written in C\n",
      "(for speed) and linked into Python with NumPy's ufunc facility,\n",
      "Python's help() function finds this page whenever help() is called\n",
      "on a ufunc.\n",
      "\n",
      "A detailed explanation of ufuncs can be found in the docs for :ref:`ufuncs`.\n",
      "\n",
      "**Calling ufuncs:** ``op(*x[, out], where=True, **kwargs)``\n",
      "\n",
      "Apply `op` to the arguments `*x` elementwise, broadcasting the arguments.\n",
      "\n",
      "The broadcasting rules are:\n",
      "\n",
      "* Dimensions of length 1 may be prepended to either array.\n",
      "* Arrays may be repeated along dimensions of length 1.\n",
      "\n",
      "Parameters\n",
      "----------\n",
      "*x : array_like\n",
      "    Input arrays.\n",
      "out : ndarray, None, or tuple of ndarray and None, optional\n",
      "    Alternate array object(s) in which to put the result; if provided, it\n",
      "    must have a shape that the inputs broadcast to. A tuple of arrays\n",
      "    (possible only as a keyword argument) must have length equal to the\n",
      "    number of outputs; use None for uninitialized outputs to be\n",
      "    allocated by the ufunc.\n",
      "where : array_like, optional\n",
      "    This condition is broadcast over the input. At locations where the\n",
      "    condition is True, the `out` array will be set to the ufunc result.\n",
      "    Elsewhere, the `out` array will retain its original value.\n",
      "    Note that if an uninitialized `out` array is created via the default\n",
      "    ``out=None``, locations within it where the condition is False will\n",
      "    remain uninitialized.\n",
      "**kwargs\n",
      "    For other keyword-only arguments, see the :ref:`ufunc docs <ufuncs.kwargs>`.\n",
      "\n",
      "Returns\n",
      "-------\n",
      "r : ndarray or tuple of ndarray\n",
      "    `r` will have the shape that the arrays in `x` broadcast to; if `out` is\n",
      "    provided, it will be returned. If not, `r` will be allocated and\n",
      "    may contain uninitialized values. If the function has more than one\n",
      "    output, then the result will be a tuple of arrays."
     ]
    }
   ],
   "source": [
    "np.arctan?"
   ]
  },
  {
   "cell_type": "markdown",
   "id": "d38e1c04",
   "metadata": {},
   "source": [
    "**Создаём массивы**"
   ]
  },
  {
   "cell_type": "code",
   "execution_count": 5,
   "id": "3a41d324",
   "metadata": {},
   "outputs": [
    {
     "data": {
      "text/plain": [
       "array([1, 2, 3, 4])"
      ]
     },
     "execution_count": 5,
     "metadata": {},
     "output_type": "execute_result"
    }
   ],
   "source": [
    "np.array([1, 2, 3, 4])"
   ]
  },
  {
   "cell_type": "code",
   "execution_count": 6,
   "id": "ce955ece",
   "metadata": {},
   "outputs": [
    {
     "data": {
      "text/plain": [
       "array([1., 2., 3., 4.], dtype=float32)"
      ]
     },
     "execution_count": 6,
     "metadata": {},
     "output_type": "execute_result"
    }
   ],
   "source": [
    "a = np.array([1, 2, 3, 4], dtype = 'float32')\n",
    "a"
   ]
  },
  {
   "cell_type": "code",
   "execution_count": 7,
   "id": "c6058a53",
   "metadata": {},
   "outputs": [
    {
     "data": {
      "text/plain": [
       "array([1., 2., 3., 4., 2.])"
      ]
     },
     "execution_count": 7,
     "metadata": {},
     "output_type": "execute_result"
    }
   ],
   "source": [
    "np.append(a,2)"
   ]
  },
  {
   "cell_type": "code",
   "execution_count": 8,
   "id": "d611a17d",
   "metadata": {},
   "outputs": [
    {
     "data": {
      "text/plain": [
       "array([1., 2., 3., 4.], dtype=float32)"
      ]
     },
     "execution_count": 8,
     "metadata": {},
     "output_type": "execute_result"
    }
   ],
   "source": [
    "a"
   ]
  },
  {
   "cell_type": "code",
   "execution_count": 9,
   "id": "c916ac35",
   "metadata": {},
   "outputs": [
    {
     "data": {
      "text/plain": [
       "array([[2, 3, 4],\n",
       "       [4, 5, 6],\n",
       "       [6, 7, 8]])"
      ]
     },
     "execution_count": 9,
     "metadata": {},
     "output_type": "execute_result"
    }
   ],
   "source": [
    "np.array([range(i, i + 3) for i in [2, 4, 6]]) #преобразование вложенных данных в массив"
   ]
  },
  {
   "cell_type": "code",
   "execution_count": 10,
   "id": "e550c1cd",
   "metadata": {},
   "outputs": [
    {
     "data": {
      "text/plain": [
       "array([0, 0, 0, 0, 0, 0, 0, 0, 0, 0])"
      ]
     },
     "execution_count": 10,
     "metadata": {},
     "output_type": "execute_result"
    }
   ],
   "source": [
    "np.zeros(10, dtype=int)"
   ]
  },
  {
   "cell_type": "code",
   "execution_count": 11,
   "id": "451c436c",
   "metadata": {},
   "outputs": [
    {
     "data": {
      "text/plain": [
       "array([[0, 0, 0],\n",
       "       [0, 0, 0],\n",
       "       [0, 0, 0]])"
      ]
     },
     "execution_count": 11,
     "metadata": {},
     "output_type": "execute_result"
    }
   ],
   "source": [
    "np.zeros((3,3), dtype=int)"
   ]
  },
  {
   "cell_type": "code",
   "execution_count": 12,
   "id": "2ea24e27",
   "metadata": {},
   "outputs": [
    {
     "data": {
      "text/plain": [
       "array([[1, 1, 1],\n",
       "       [1, 1, 1],\n",
       "       [1, 1, 1]])"
      ]
     },
     "execution_count": 12,
     "metadata": {},
     "output_type": "execute_result"
    }
   ],
   "source": [
    "np.ones((3,3), dtype=int)"
   ]
  },
  {
   "cell_type": "code",
   "execution_count": 13,
   "id": "fd93b12f",
   "metadata": {},
   "outputs": [
    {
     "data": {
      "text/plain": [
       "array([[3.14159265, 3.14159265, 3.14159265],\n",
       "       [3.14159265, 3.14159265, 3.14159265],\n",
       "       [3.14159265, 3.14159265, 3.14159265]])"
      ]
     },
     "execution_count": 13,
     "metadata": {},
     "output_type": "execute_result"
    }
   ],
   "source": [
    "np.full((3,3), np.pi)"
   ]
  },
  {
   "cell_type": "code",
   "execution_count": 14,
   "id": "7ef9c51d",
   "metadata": {},
   "outputs": [
    {
     "data": {
      "text/plain": [
       "array([ 0,  2,  4,  6,  8, 10, 12, 14, 16, 18])"
      ]
     },
     "execution_count": 14,
     "metadata": {},
     "output_type": "execute_result"
    }
   ],
   "source": [
    "np.arange(0,20,2)"
   ]
  },
  {
   "cell_type": "code",
   "execution_count": 15,
   "id": "e10ea8b7",
   "metadata": {},
   "outputs": [
    {
     "data": {
      "text/plain": [
       "array([0.  , 0.25, 0.5 , 0.75, 1.  ])"
      ]
     },
     "execution_count": 15,
     "metadata": {},
     "output_type": "execute_result"
    }
   ],
   "source": [
    "np.linspace(0,1,5)"
   ]
  },
  {
   "cell_type": "code",
   "execution_count": 16,
   "id": "768129bf",
   "metadata": {},
   "outputs": [
    {
     "data": {
      "text/plain": [
       "array([ 1.        ,  1.77827941,  3.16227766,  5.62341325, 10.        ])"
      ]
     },
     "execution_count": 16,
     "metadata": {},
     "output_type": "execute_result"
    }
   ],
   "source": [
    "np.logspace(0,1,5) # последовательность степеней"
   ]
  },
  {
   "cell_type": "code",
   "execution_count": 17,
   "id": "9b4dd54f",
   "metadata": {},
   "outputs": [
    {
     "data": {
      "text/plain": [
       "array([ 1.        ,  1.77827941,  3.16227766,  5.62341325, 10.        ])"
      ]
     },
     "execution_count": 17,
     "metadata": {},
     "output_type": "execute_result"
    }
   ],
   "source": [
    "10**np.linspace(0,1,5)"
   ]
  },
  {
   "cell_type": "code",
   "execution_count": 18,
   "id": "2c722b72",
   "metadata": {},
   "outputs": [
    {
     "data": {
      "text/plain": [
       "array([ 1.,  2.,  4.,  8., 16., 32.])"
      ]
     },
     "execution_count": 18,
     "metadata": {},
     "output_type": "execute_result"
    }
   ],
   "source": [
    "np.logspace(0,5,6,base = 2)"
   ]
  },
  {
   "cell_type": "code",
   "execution_count": 18,
   "id": "f0263e51",
   "metadata": {},
   "outputs": [
    {
     "data": {
      "text/plain": [
       "array([[0.89524812, 0.8959829 , 0.9369259 ],\n",
       "       [0.39028733, 0.86719726, 0.96104948],\n",
       "       [0.47829104, 0.52619721, 0.63801899]])"
      ]
     },
     "execution_count": 18,
     "metadata": {},
     "output_type": "execute_result"
    }
   ],
   "source": [
    "np.random.random((3,3))"
   ]
  },
  {
   "cell_type": "code",
   "execution_count": 19,
   "id": "02db635a",
   "metadata": {},
   "outputs": [
    {
     "data": {
      "text/plain": [
       "array([[2, 3, 0],\n",
       "       [2, 8, 1],\n",
       "       [3, 7, 1]], dtype=int32)"
      ]
     },
     "execution_count": 19,
     "metadata": {},
     "output_type": "execute_result"
    }
   ],
   "source": [
    "np.random.randint(0, 10, (3, 3))"
   ]
  },
  {
   "cell_type": "code",
   "execution_count": 20,
   "id": "56c7e8b6",
   "metadata": {},
   "outputs": [
    {
     "data": {
      "text/plain": [
       "array([[1, 0, 0],\n",
       "       [0, 1, 0],\n",
       "       [0, 0, 1]])"
      ]
     },
     "execution_count": 20,
     "metadata": {},
     "output_type": "execute_result"
    }
   ],
   "source": [
    "np.eye(3, dtype=int)"
   ]
  },
  {
   "cell_type": "code",
   "execution_count": 21,
   "id": "5daa8529",
   "metadata": {},
   "outputs": [
    {
     "data": {
      "text/plain": [
       "array([[1, 2],\n",
       "       [3, 4]], dtype=int32)"
      ]
     },
     "execution_count": 21,
     "metadata": {},
     "output_type": "execute_result"
    }
   ],
   "source": [
    "test = np.array([[1,2],[3,4]],dtype = 'int32')\n",
    "test"
   ]
  },
  {
   "cell_type": "code",
   "execution_count": 22,
   "id": "7fe6ae03",
   "metadata": {},
   "outputs": [],
   "source": [
    "test[0]=[3.14,2.0001]"
   ]
  },
  {
   "cell_type": "code",
   "execution_count": 24,
   "id": "d3186a41",
   "metadata": {},
   "outputs": [
    {
     "data": {
      "text/plain": [
       "array([[3, 2],\n",
       "       [3, 4]], dtype=int32)"
      ]
     },
     "execution_count": 24,
     "metadata": {},
     "output_type": "execute_result"
    }
   ],
   "source": [
    "test"
   ]
  },
  {
   "cell_type": "code",
   "execution_count": 23,
   "id": "df81e8ab",
   "metadata": {},
   "outputs": [],
   "source": [
    "test = np.append(test,[3.14,2.0001])"
   ]
  },
  {
   "cell_type": "code",
   "execution_count": 24,
   "id": "c4242929",
   "metadata": {},
   "outputs": [
    {
     "data": {
      "text/plain": [
       "array([3.    , 2.    , 3.    , 4.    , 3.14  , 2.0001])"
      ]
     },
     "execution_count": 24,
     "metadata": {},
     "output_type": "execute_result"
    }
   ],
   "source": [
    "test"
   ]
  },
  {
   "cell_type": "code",
   "execution_count": 25,
   "id": "a15758ee",
   "metadata": {},
   "outputs": [
    {
     "data": {
      "text/plain": [
       "dtype('float64')"
      ]
     },
     "execution_count": 25,
     "metadata": {},
     "output_type": "execute_result"
    }
   ],
   "source": [
    "test.dtype"
   ]
  },
  {
   "cell_type": "code",
   "execution_count": 26,
   "id": "6ee03f6f",
   "metadata": {},
   "outputs": [
    {
     "data": {
      "text/plain": [
       "48"
      ]
     },
     "execution_count": 26,
     "metadata": {},
     "output_type": "execute_result"
    }
   ],
   "source": [
    "test.nbytes"
   ]
  },
  {
   "cell_type": "code",
   "execution_count": 27,
   "id": "2483960a",
   "metadata": {},
   "outputs": [
    {
     "data": {
      "text/plain": [
       "array([[0, 1, 2],\n",
       "       [1, 2, 3],\n",
       "       [2, 3, 4]])"
      ]
     },
     "execution_count": 27,
     "metadata": {},
     "output_type": "execute_result"
    }
   ],
   "source": [
    "np.fromfunction(lambda i, j: i + j, (3, 3), dtype=int) #элементы зависят от индекса"
   ]
  },
  {
   "cell_type": "code",
   "execution_count": 28,
   "id": "a81484e3",
   "metadata": {},
   "outputs": [
    {
     "data": {
      "text/plain": [
       "array([0., 0., 0., 0., 0., 0.])"
      ]
     },
     "execution_count": 28,
     "metadata": {},
     "output_type": "execute_result"
    }
   ],
   "source": [
    "np.zeros_like(test)"
   ]
  },
  {
   "cell_type": "markdown",
   "id": "402704fb",
   "metadata": {},
   "source": [
    "**Доступ к элементам массива**"
   ]
  },
  {
   "cell_type": "code",
   "execution_count": 29,
   "id": "0ba425d6",
   "metadata": {},
   "outputs": [],
   "source": [
    "x1 = np.random.randint(10, size=6)  \n",
    "x2 = np.random.randint(10, size=(3, 4))  \n",
    "x3 = np.random.randint(10, size=(3, 4, 5))  "
   ]
  },
  {
   "cell_type": "code",
   "execution_count": 30,
   "id": "708a94df",
   "metadata": {},
   "outputs": [
    {
     "data": {
      "text/plain": [
       "array([8, 1, 5, 9, 7, 9], dtype=int32)"
      ]
     },
     "execution_count": 30,
     "metadata": {},
     "output_type": "execute_result"
    }
   ],
   "source": [
    "x1"
   ]
  },
  {
   "cell_type": "code",
   "execution_count": 31,
   "id": "982e1e35",
   "metadata": {},
   "outputs": [
    {
     "data": {
      "text/plain": [
       "array([[8, 9, 5, 6],\n",
       "       [1, 6, 0, 2],\n",
       "       [7, 0, 0, 9]], dtype=int32)"
      ]
     },
     "execution_count": 31,
     "metadata": {},
     "output_type": "execute_result"
    }
   ],
   "source": [
    "x2"
   ]
  },
  {
   "cell_type": "code",
   "execution_count": 32,
   "id": "78b57b52",
   "metadata": {},
   "outputs": [
    {
     "data": {
      "text/plain": [
       "array([[[7, 1, 4, 8, 6],\n",
       "        [4, 7, 0, 5, 1],\n",
       "        [7, 9, 8, 0, 3],\n",
       "        [1, 1, 9, 9, 1]],\n",
       "\n",
       "       [[8, 7, 0, 7, 9],\n",
       "        [2, 6, 1, 2, 3],\n",
       "        [6, 6, 1, 2, 4],\n",
       "        [4, 2, 2, 1, 7]],\n",
       "\n",
       "       [[4, 7, 4, 3, 1],\n",
       "        [8, 2, 2, 7, 2],\n",
       "        [3, 9, 6, 1, 4],\n",
       "        [1, 0, 1, 8, 6]]], dtype=int32)"
      ]
     },
     "execution_count": 32,
     "metadata": {},
     "output_type": "execute_result"
    }
   ],
   "source": [
    "x3"
   ]
  },
  {
   "cell_type": "code",
   "execution_count": 33,
   "id": "21ad96b4",
   "metadata": {},
   "outputs": [
    {
     "data": {
      "text/plain": [
       "np.int32(8)"
      ]
     },
     "execution_count": 33,
     "metadata": {},
     "output_type": "execute_result"
    }
   ],
   "source": [
    "x1[0]"
   ]
  },
  {
   "cell_type": "code",
   "execution_count": 34,
   "id": "c5cd2cd0",
   "metadata": {},
   "outputs": [
    {
     "data": {
      "text/plain": [
       "np.int32(9)"
      ]
     },
     "execution_count": 34,
     "metadata": {},
     "output_type": "execute_result"
    }
   ],
   "source": [
    "x1[-1]"
   ]
  },
  {
   "cell_type": "code",
   "execution_count": 35,
   "id": "a2a21d99",
   "metadata": {},
   "outputs": [
    {
     "data": {
      "text/plain": [
       "array([[8, 9, 5, 6],\n",
       "       [1, 6, 0, 2],\n",
       "       [7, 0, 0, 9]], dtype=int32)"
      ]
     },
     "execution_count": 35,
     "metadata": {},
     "output_type": "execute_result"
    }
   ],
   "source": [
    "x2"
   ]
  },
  {
   "cell_type": "code",
   "execution_count": 36,
   "id": "0ec83b80",
   "metadata": {},
   "outputs": [
    {
     "data": {
      "text/plain": [
       "np.int32(9)"
      ]
     },
     "execution_count": 36,
     "metadata": {},
     "output_type": "execute_result"
    }
   ],
   "source": [
    "x2[0,1]"
   ]
  },
  {
   "cell_type": "code",
   "execution_count": 37,
   "id": "599b0db6",
   "metadata": {},
   "outputs": [
    {
     "data": {
      "text/plain": [
       "np.int32(6)"
      ]
     },
     "execution_count": 37,
     "metadata": {},
     "output_type": "execute_result"
    }
   ],
   "source": [
    "x2[0,-1]"
   ]
  },
  {
   "cell_type": "code",
   "execution_count": 38,
   "id": "91f4720f",
   "metadata": {},
   "outputs": [
    {
     "data": {
      "text/plain": [
       "array([8, 1, 5, 9, 7, 9], dtype=int32)"
      ]
     },
     "execution_count": 38,
     "metadata": {},
     "output_type": "execute_result"
    }
   ],
   "source": [
    "x1"
   ]
  },
  {
   "cell_type": "code",
   "execution_count": 39,
   "id": "f1b24ff8",
   "metadata": {},
   "outputs": [
    {
     "data": {
      "text/plain": [
       "array([1, 9], dtype=int32)"
      ]
     },
     "execution_count": 39,
     "metadata": {},
     "output_type": "execute_result"
    }
   ],
   "source": [
    "# x[start:stop:step]\n",
    "x1[1:-1:2]"
   ]
  },
  {
   "cell_type": "code",
   "execution_count": 40,
   "id": "ecd0c090",
   "metadata": {},
   "outputs": [
    {
     "data": {
      "text/plain": [
       "array([8, 1, 5, 9, 7], dtype=int32)"
      ]
     },
     "execution_count": 40,
     "metadata": {},
     "output_type": "execute_result"
    }
   ],
   "source": [
    "x1[:5]"
   ]
  },
  {
   "cell_type": "code",
   "execution_count": 41,
   "id": "7556c785",
   "metadata": {},
   "outputs": [
    {
     "data": {
      "text/plain": [
       "array([8, 5, 7], dtype=int32)"
      ]
     },
     "execution_count": 41,
     "metadata": {},
     "output_type": "execute_result"
    }
   ],
   "source": [
    "x1[::2]"
   ]
  },
  {
   "cell_type": "code",
   "execution_count": 42,
   "id": "ecebc759",
   "metadata": {},
   "outputs": [
    {
     "data": {
      "text/plain": [
       "array([9, 7, 9, 5, 1, 8], dtype=int32)"
      ]
     },
     "execution_count": 42,
     "metadata": {},
     "output_type": "execute_result"
    }
   ],
   "source": [
    "x1[::-1] # разворот"
   ]
  },
  {
   "cell_type": "code",
   "execution_count": 43,
   "id": "691a3505",
   "metadata": {},
   "outputs": [
    {
     "data": {
      "text/plain": [
       "array([[8, 9, 5, 6],\n",
       "       [1, 6, 0, 2],\n",
       "       [7, 0, 0, 9]], dtype=int32)"
      ]
     },
     "execution_count": 43,
     "metadata": {},
     "output_type": "execute_result"
    }
   ],
   "source": [
    "x2"
   ]
  },
  {
   "cell_type": "code",
   "execution_count": 44,
   "id": "e6f1c88c",
   "metadata": {},
   "outputs": [
    {
     "data": {
      "text/plain": [
       "array([[8, 9],\n",
       "       [1, 6]], dtype=int32)"
      ]
     },
     "execution_count": 44,
     "metadata": {},
     "output_type": "execute_result"
    }
   ],
   "source": [
    "x2[:2,:2]"
   ]
  },
  {
   "cell_type": "code",
   "execution_count": 45,
   "id": "210da55e",
   "metadata": {},
   "outputs": [
    {
     "data": {
      "text/plain": [
       "array([[6, 5, 9, 8],\n",
       "       [2, 0, 6, 1],\n",
       "       [9, 0, 0, 7]], dtype=int32)"
      ]
     },
     "execution_count": 45,
     "metadata": {},
     "output_type": "execute_result"
    }
   ],
   "source": [
    "x2[:,::-1]"
   ]
  },
  {
   "cell_type": "code",
   "execution_count": 46,
   "id": "3adb41fc",
   "metadata": {},
   "outputs": [
    {
     "data": {
      "text/plain": [
       "array([[6, 5, 9],\n",
       "       [2, 0, 6],\n",
       "       [9, 0, 0]], dtype=int32)"
      ]
     },
     "execution_count": 46,
     "metadata": {},
     "output_type": "execute_result"
    }
   ],
   "source": [
    "x2[:,[3,2,1]]"
   ]
  },
  {
   "cell_type": "code",
   "execution_count": 47,
   "id": "c165e2a9",
   "metadata": {},
   "outputs": [
    {
     "data": {
      "text/plain": [
       "array([5, 0, 0], dtype=int32)"
      ]
     },
     "execution_count": 47,
     "metadata": {},
     "output_type": "execute_result"
    }
   ],
   "source": [
    "x2[:,2] #столбец"
   ]
  },
  {
   "cell_type": "code",
   "execution_count": 48,
   "id": "cd99d0e6",
   "metadata": {},
   "outputs": [
    {
     "data": {
      "text/plain": [
       "array([7, 0, 0, 9], dtype=int32)"
      ]
     },
     "execution_count": 48,
     "metadata": {},
     "output_type": "execute_result"
    }
   ],
   "source": [
    "x2[2,:] #строка"
   ]
  },
  {
   "cell_type": "code",
   "execution_count": 49,
   "id": "a9bac177",
   "metadata": {},
   "outputs": [],
   "source": [
    "x2_child = x2[2,:] # подмассив"
   ]
  },
  {
   "cell_type": "code",
   "execution_count": 50,
   "id": "9e199a73",
   "metadata": {},
   "outputs": [],
   "source": [
    "x2_child[0] = 2023"
   ]
  },
  {
   "cell_type": "code",
   "execution_count": 51,
   "id": "203a4c18",
   "metadata": {},
   "outputs": [
    {
     "data": {
      "text/plain": [
       "array([2023,    0,    0,    9], dtype=int32)"
      ]
     },
     "execution_count": 51,
     "metadata": {},
     "output_type": "execute_result"
    }
   ],
   "source": [
    "x2_child"
   ]
  },
  {
   "cell_type": "code",
   "execution_count": 52,
   "id": "70fa49b7",
   "metadata": {},
   "outputs": [
    {
     "data": {
      "text/plain": [
       "array([[   8,    9,    5,    6],\n",
       "       [   1,    6,    0,    2],\n",
       "       [2023,    0,    0,    9]], dtype=int32)"
      ]
     },
     "execution_count": 52,
     "metadata": {},
     "output_type": "execute_result"
    }
   ],
   "source": [
    "x2"
   ]
  },
  {
   "cell_type": "code",
   "execution_count": 53,
   "id": "7a8eaa1f",
   "metadata": {},
   "outputs": [],
   "source": [
    "x2_grownup_child = x2[0,:].copy() # копия для разрыва связи с базовым массивом"
   ]
  },
  {
   "cell_type": "code",
   "execution_count": 54,
   "id": "4d3ff5a8",
   "metadata": {},
   "outputs": [
    {
     "data": {
      "text/plain": [
       "array([8, 9, 5, 6], dtype=int32)"
      ]
     },
     "execution_count": 54,
     "metadata": {},
     "output_type": "execute_result"
    }
   ],
   "source": [
    "x2_grownup_child"
   ]
  },
  {
   "cell_type": "code",
   "execution_count": 55,
   "id": "5048c813",
   "metadata": {},
   "outputs": [],
   "source": [
    "x2_grownup_child[0] = 2023"
   ]
  },
  {
   "cell_type": "code",
   "execution_count": 56,
   "id": "b1937ac6",
   "metadata": {},
   "outputs": [
    {
     "data": {
      "text/plain": [
       "array([2023,    9,    5,    6], dtype=int32)"
      ]
     },
     "execution_count": 56,
     "metadata": {},
     "output_type": "execute_result"
    }
   ],
   "source": [
    "x2_grownup_child"
   ]
  },
  {
   "cell_type": "code",
   "execution_count": 57,
   "id": "6341435b",
   "metadata": {},
   "outputs": [
    {
     "data": {
      "text/plain": [
       "array([[   8,    9,    5,    6],\n",
       "       [   1,    6,    0,    2],\n",
       "       [2023,    0,    0,    9]], dtype=int32)"
      ]
     },
     "execution_count": 57,
     "metadata": {},
     "output_type": "execute_result"
    }
   ],
   "source": [
    "x2"
   ]
  },
  {
   "cell_type": "markdown",
   "id": "fdef8bc6",
   "metadata": {},
   "source": [
    "**Изменение структуры массива**"
   ]
  },
  {
   "cell_type": "code",
   "execution_count": 61,
   "id": "9a00bed6",
   "metadata": {},
   "outputs": [
    {
     "name": "stdout",
     "output_type": "stream",
     "text": [
      "[[1 2 3]\n",
      " [4 5 6]\n",
      " [7 8 9]]\n"
     ]
    }
   ],
   "source": [
    "grid = np.arange(1, 10).reshape(3, 3) #создаём массив потом меняем его форму\n",
    "print(grid)"
   ]
  },
  {
   "cell_type": "code",
   "execution_count": 64,
   "id": "2d6254c5",
   "metadata": {
    "scrolled": true
   },
   "outputs": [
    {
     "ename": "ValueError",
     "evalue": "cannot reshape array of size 9 into shape (3,2)",
     "output_type": "error",
     "traceback": [
      "\u001b[1;31m---------------------------------------------------------------------------\u001b[0m",
      "\u001b[1;31mValueError\u001b[0m                                Traceback (most recent call last)",
      "Cell \u001b[1;32mIn[64], line 1\u001b[0m\n\u001b[1;32m----> 1\u001b[0m \u001b[43mnp\u001b[49m\u001b[38;5;241;43m.\u001b[39;49m\u001b[43marange\u001b[49m\u001b[43m(\u001b[49m\u001b[38;5;241;43m1\u001b[39;49m\u001b[43m,\u001b[49m\u001b[43m \u001b[49m\u001b[38;5;241;43m10\u001b[39;49m\u001b[43m)\u001b[49m\u001b[38;5;241;43m.\u001b[39;49m\u001b[43mreshape\u001b[49m\u001b[43m(\u001b[49m\u001b[38;5;241;43m3\u001b[39;49m\u001b[43m,\u001b[49m\u001b[43m \u001b[49m\u001b[38;5;241;43m2\u001b[39;49m\u001b[43m)\u001b[49m\n",
      "\u001b[1;31mValueError\u001b[0m: cannot reshape array of size 9 into shape (3,2)"
     ]
    }
   ],
   "source": [
    "np.arange(1, 10).reshape(3, 2)"
   ]
  },
  {
   "cell_type": "code",
   "execution_count": 65,
   "id": "2de2cc8f",
   "metadata": {},
   "outputs": [
    {
     "data": {
      "text/plain": [
       "array([[1, 2, 3]])"
      ]
     },
     "execution_count": 65,
     "metadata": {},
     "output_type": "execute_result"
    }
   ],
   "source": [
    "x = np.array([1, 2, 3])\n",
    "x.reshape((1, 3)) "
   ]
  },
  {
   "cell_type": "code",
   "execution_count": 66,
   "id": "08db440d",
   "metadata": {},
   "outputs": [
    {
     "data": {
      "text/plain": [
       "array([[1],\n",
       "       [2],\n",
       "       [3]])"
      ]
     },
     "execution_count": 66,
     "metadata": {},
     "output_type": "execute_result"
    }
   ],
   "source": [
    "x.reshape((3, 1)) "
   ]
  },
  {
   "cell_type": "code",
   "execution_count": 67,
   "id": "84a8ed07",
   "metadata": {},
   "outputs": [
    {
     "data": {
      "text/plain": [
       "array([[1, 2, 3]])"
      ]
     },
     "execution_count": 67,
     "metadata": {},
     "output_type": "execute_result"
    }
   ],
   "source": [
    "x[np.newaxis,:]"
   ]
  },
  {
   "cell_type": "code",
   "execution_count": 68,
   "id": "ae2cef61",
   "metadata": {},
   "outputs": [
    {
     "data": {
      "text/plain": [
       "array([1, 2, 3, 3, 2, 1])"
      ]
     },
     "execution_count": 68,
     "metadata": {},
     "output_type": "execute_result"
    }
   ],
   "source": [
    "x = np.array([1, 2, 3])\n",
    "y = np.array([3, 2, 1])\n",
    "np.concatenate([x, y])"
   ]
  },
  {
   "cell_type": "code",
   "execution_count": 69,
   "id": "35af2ebe",
   "metadata": {},
   "outputs": [
    {
     "name": "stdout",
     "output_type": "stream",
     "text": [
      "[ 1  2  3  3  2  1 99 99 99]\n"
     ]
    }
   ],
   "source": [
    "z = np.array([99, 99, 99])\n",
    "print(np.concatenate([x, y, z]))"
   ]
  },
  {
   "cell_type": "code",
   "execution_count": 70,
   "id": "bad2b508",
   "metadata": {},
   "outputs": [],
   "source": [
    "grid1 = np.array([[1, 2, 3],\n",
    "                 [4, 5, 6]])"
   ]
  },
  {
   "cell_type": "code",
   "execution_count": 71,
   "id": "fd9b9691",
   "metadata": {},
   "outputs": [
    {
     "data": {
      "text/plain": [
       "array([[0., 0., 0.],\n",
       "       [0., 0., 0.]])"
      ]
     },
     "execution_count": 71,
     "metadata": {},
     "output_type": "execute_result"
    }
   ],
   "source": [
    "grid2 = np.zeros((2,3))\n",
    "grid2"
   ]
  },
  {
   "cell_type": "code",
   "execution_count": 72,
   "id": "d292bfcb",
   "metadata": {},
   "outputs": [
    {
     "data": {
      "text/plain": [
       "array([[1., 2., 3.],\n",
       "       [4., 5., 6.],\n",
       "       [0., 0., 0.],\n",
       "       [0., 0., 0.]])"
      ]
     },
     "execution_count": 72,
     "metadata": {},
     "output_type": "execute_result"
    }
   ],
   "source": [
    "np.concatenate([grid1, grid2]) # конкатенация по 1 - ому измерению"
   ]
  },
  {
   "cell_type": "code",
   "execution_count": 73,
   "id": "15eebaf5",
   "metadata": {},
   "outputs": [
    {
     "data": {
      "text/plain": [
       "array([[1., 2., 3., 0., 0., 0.],\n",
       "       [4., 5., 6., 0., 0., 0.]])"
      ]
     },
     "execution_count": 73,
     "metadata": {},
     "output_type": "execute_result"
    }
   ],
   "source": [
    "np.concatenate([grid1, grid2],axis = 1) # конкатенация по 2 - ому измерению"
   ]
  },
  {
   "cell_type": "code",
   "execution_count": 74,
   "id": "632b6dbe",
   "metadata": {},
   "outputs": [
    {
     "data": {
      "text/plain": [
       "array([[1., 2., 3.],\n",
       "       [4., 5., 6.],\n",
       "       [0., 0., 0.],\n",
       "       [0., 0., 0.]])"
      ]
     },
     "execution_count": 74,
     "metadata": {},
     "output_type": "execute_result"
    }
   ],
   "source": [
    "np.vstack([grid1, grid2])"
   ]
  },
  {
   "cell_type": "code",
   "execution_count": 75,
   "id": "b15d6b56",
   "metadata": {},
   "outputs": [
    {
     "data": {
      "text/plain": [
       "array([[1., 2., 3., 0., 0., 0.],\n",
       "       [4., 5., 6., 0., 0., 0.]])"
      ]
     },
     "execution_count": 75,
     "metadata": {},
     "output_type": "execute_result"
    }
   ],
   "source": [
    "np.hstack([grid1, grid2])"
   ]
  },
  {
   "cell_type": "code",
   "execution_count": 76,
   "id": "37b46913",
   "metadata": {},
   "outputs": [
    {
     "data": {
      "text/plain": [
       "[array([1, 2]), array([ 3, 99]), array([99,  3]), array([2, 1])]"
      ]
     },
     "execution_count": 76,
     "metadata": {},
     "output_type": "execute_result"
    }
   ],
   "source": [
    "x = np.array([1, 2, 3, 99, 99, 3, 2, 1])\n",
    "np.split(x, 4) # разделение массива"
   ]
  },
  {
   "cell_type": "code",
   "execution_count": 78,
   "id": "e57e37ef",
   "metadata": {},
   "outputs": [
    {
     "data": {
      "text/plain": [
       "[array([1, 2, 3]), array([99, 99]), array([3, 2, 1])]"
      ]
     },
     "execution_count": 78,
     "metadata": {},
     "output_type": "execute_result"
    }
   ],
   "source": [
    "np.split(x,[3,5])"
   ]
  },
  {
   "cell_type": "code",
   "execution_count": 79,
   "id": "4bbe52d9",
   "metadata": {},
   "outputs": [
    {
     "data": {
      "text/plain": [
       "array([[ 0,  1,  2,  3],\n",
       "       [ 4,  5,  6,  7],\n",
       "       [ 8,  9, 10, 11],\n",
       "       [12, 13, 14, 15]])"
      ]
     },
     "execution_count": 79,
     "metadata": {},
     "output_type": "execute_result"
    }
   ],
   "source": [
    "grid = np.arange(16).reshape((4, 4))\n",
    "grid"
   ]
  },
  {
   "cell_type": "code",
   "execution_count": 80,
   "id": "6ddcc00a",
   "metadata": {},
   "outputs": [
    {
     "name": "stdout",
     "output_type": "stream",
     "text": [
      "[[0 1 2 3]\n",
      " [4 5 6 7]]\n",
      "[[ 8  9 10 11]\n",
      " [12 13 14 15]]\n"
     ]
    }
   ],
   "source": [
    "upper, lower = np.vsplit(grid, [2])\n",
    "print(upper)\n",
    "print(lower)"
   ]
  },
  {
   "cell_type": "code",
   "execution_count": 81,
   "id": "2aad96a6",
   "metadata": {},
   "outputs": [
    {
     "name": "stdout",
     "output_type": "stream",
     "text": [
      "[[ 0  1]\n",
      " [ 4  5]\n",
      " [ 8  9]\n",
      " [12 13]]\n",
      "[[ 2  3]\n",
      " [ 6  7]\n",
      " [10 11]\n",
      " [14 15]]\n"
     ]
    }
   ],
   "source": [
    "left, right = np.hsplit(grid, [2])\n",
    "print(left)\n",
    "print(right)"
   ]
  },
  {
   "attachments": {},
   "cell_type": "markdown",
   "id": "fb4883cb",
   "metadata": {},
   "source": [
    "<font color = 'red' size = 5>Задание 1 </font>\n",
    "\n",
    "1. Изучите иструменты для создания массивов библиотеки numpy.Используя возможности библиотеки (без циклов) выполните следующие задания.\n",
    "2. Максимально используя возможности numpy сгенерируйте спиральную $N\\times N$ матрицу.\n",
    "   Спиральная матрица для $N = 6$:\n",
    "    $\\begin{bmatrix}\n",
    " 1 &  2 &  3 &  4 &  5 &  6 \\\\\n",
    "20 & 21 & 22 & 23 & 24 &  7 \\\\\n",
    "19 & 32 & 33 & 34 & 25 &  8 \\\\\n",
    "18 & 31 & 36 & 35 & 26 &  9 \\\\\n",
    "17 & 30 & 29 & 28 & 27 & 10 \\\\\n",
    "16 & 15 & 14 & 13 & 12 & 11 \\\\\n",
    "\\end{bmatrix}$\n",
    "4. Реализуйте функцию для создания матрицы для сетки координа x и y, покрывающими область [0,1] x [0,1] на плоскости. На вход функция принимает количество точек сетки.\n"
   ]
  },
  {
   "cell_type": "code",
   "execution_count": 83,
   "id": "2f303fb9",
   "metadata": {},
   "outputs": [
    {
     "data": {
      "text/plain": [
       "array([[ 1,  2,  3,  4,  5],\n",
       "       [16, 17, 18, 19,  6],\n",
       "       [15, 25, 24, 20,  7],\n",
       "       [14, 23, 22, 21,  8],\n",
       "       [13, 12, 11, 10,  9]])"
      ]
     },
     "execution_count": 83,
     "metadata": {},
     "output_type": "execute_result"
    }
   ],
   "source": [
    "#Task2\n",
    "import numpy as np\n",
    "\n",
    "def spiral_matrix(n: int) -> np.ndarray:  # n dimensional array\n",
    "    # передаем текущую матрицу и новую размерность\n",
    "    def transform(matrix: np.ndarray, n: int) -> np.ndarray:\n",
    "        # если ушли за 0 то заканчиваем рекурсию\n",
    "        if n == -1:\n",
    "            return matrix\n",
    "        # отсоединяем верхнюю строку от матрицы\n",
    "        top, bottom = np.vsplit(matrix, [1])\n",
    "        bottom = bottom.reshape(bottom.shape[::-1])\n",
    "        # обьединяем матрицу с ее готовой верхней частью новую матрицу,\n",
    "        # которая будет повернута на 90 градусов по часовой\n",
    "        return np.concatenate([top, np.rot90(transform(bottom, n - 1), -1)])\n",
    "\n",
    "    #создаем матрицу\n",
    "    matrix = np.arange(1, n**2 + 1).reshape(n, n)\n",
    "\n",
    "    return transform(matrix, n)\n",
    "\n",
    "spiral_matrix(5)"
   ]
  },
  {
   "cell_type": "code",
   "execution_count": 5,
   "id": "8df2a410",
   "metadata": {},
   "outputs": [
    {
     "data": {
      "image/png": "[encoded data removed]",
      "text/plain": [
       "<Figure size 640x480 with 1 Axes>"
      ]
     },
     "metadata": {},
     "output_type": "display_data"
    }
   ],
   "source": [
    "#Task3\n",
    "import matplotlib.pyplot as plt\n",
    "import numpy as np\n",
    "\n",
    "def dot_matrix(nx: int, ny: int):\n",
    "    x = np.linspace(0, 1, nx)\n",
    "    y = np.linspace(0, 1, ny)\n",
    "    \n",
    "    X, Y = np.meshgrid(x, y)\n",
    "    \n",
    "    return X, Y\n",
    "\n",
    "xs, ys = dot_matrix(5, 4)\n",
    "plt.plot(xs, ys, marker='o', color='k', linestyle='none')\n",
    "plt.show()"
   ]
  },
  {
   "cell_type": "markdown",
   "id": "425d3cf0",
   "metadata": {},
   "source": [
    "## <font color = 'green'> 2. Библиотека numpy. Вычисления.  </font>"
   ]
  },
  {
   "cell_type": "markdown",
   "id": "fd15d030",
   "metadata": {},
   "source": [
    "**Векторизация**"
   ]
  },
  {
   "cell_type": "code",
   "execution_count": null,
   "id": "406a1b76",
   "metadata": {},
   "outputs": [],
   "source": [
    "big_array = np.random.randint(1,100,1000000)"
   ]
  },
  {
   "cell_type": "code",
   "execution_count": null,
   "id": "7ce81637",
   "metadata": {},
   "outputs": [],
   "source": [
    "1/big_array"
   ]
  },
  {
   "cell_type": "code",
   "execution_count": null,
   "id": "220fa5fd",
   "metadata": {},
   "outputs": [],
   "source": [
    "%timeit 1/big_array"
   ]
  },
  {
   "cell_type": "code",
   "execution_count": null,
   "id": "48081c24",
   "metadata": {},
   "outputs": [],
   "source": [
    "np.arange(5) / np.arange(1, 6)"
   ]
  },
  {
   "cell_type": "code",
   "execution_count": null,
   "id": "9acb692d",
   "metadata": {},
   "outputs": [],
   "source": [
    "2*np.arange(5) "
   ]
  },
  {
   "cell_type": "code",
   "execution_count": null,
   "id": "ccf463ad",
   "metadata": {},
   "outputs": [],
   "source": [
    "x = np.arange(9).reshape((3, 3))\n",
    "2 ** x"
   ]
  },
  {
   "cell_type": "code",
   "execution_count": null,
   "id": "b2ced406",
   "metadata": {},
   "outputs": [],
   "source": [
    "x"
   ]
  },
  {
   "cell_type": "code",
   "execution_count": null,
   "id": "1056b681",
   "metadata": {
    "scrolled": true
   },
   "outputs": [],
   "source": [
    "x**x"
   ]
  },
  {
   "cell_type": "code",
   "execution_count": null,
   "id": "1ee096cc",
   "metadata": {},
   "outputs": [],
   "source": [
    "x = np.arange(4)\n",
    "print(\"x      =\", x)\n",
    "print(\"x + 5  =\", x + 5)\n",
    "print(\"x - 5  =\", x - 5)\n",
    "print(\"x * 2  =\", x * 2)\n",
    "print(\"x / 2  =\", x / 2)\n",
    "print(\"x // 2 =\", x // 2)\n",
    "print(\"-x     = \", -x)\n",
    "print(\"x ** 2 = \", x ** 2)\n",
    "print(\"x % 2  = \", x % 2)"
   ]
  },
  {
   "cell_type": "code",
   "execution_count": null,
   "id": "69fc49de",
   "metadata": {},
   "outputs": [],
   "source": [
    "x = [1, 2, 4, 10]\n",
    "print(\"x        =\", x)\n",
    "print(\"ln(x)    =\", np.log(x))\n",
    "print(\"log2(x)  =\", np.log2(x))\n",
    "print(\"log10(x) =\", np.log10(x)) # куча математических функций и все с векторизацией"
   ]
  },
  {
   "cell_type": "code",
   "execution_count": null,
   "id": "2b8bde1a",
   "metadata": {},
   "outputs": [],
   "source": [
    "x = np.arange(1, 6)\n",
    "np.add.reduce(x)"
   ]
  },
  {
   "cell_type": "code",
   "execution_count": null,
   "id": "59b05363",
   "metadata": {},
   "outputs": [],
   "source": [
    "np.multiply.reduce(x)"
   ]
  },
  {
   "cell_type": "code",
   "execution_count": null,
   "id": "2bacf796",
   "metadata": {},
   "outputs": [],
   "source": [
    "x = np.arange(1, 6)\n",
    "np.add.accumulate(x)"
   ]
  },
  {
   "cell_type": "code",
   "execution_count": null,
   "id": "82cae2b0",
   "metadata": {},
   "outputs": [],
   "source": [
    "np.multiply.accumulate(x)"
   ]
  },
  {
   "cell_type": "code",
   "execution_count": null,
   "id": "585cd33a",
   "metadata": {},
   "outputs": [],
   "source": [
    "big_array = np.random.random(1000000)\n",
    "%timeit sum(big_array)\n",
    "%timeit np.sum(big_array)"
   ]
  },
  {
   "cell_type": "code",
   "execution_count": null,
   "id": "62990936",
   "metadata": {},
   "outputs": [],
   "source": [
    "np.min(big_array), np.max(big_array)"
   ]
  },
  {
   "cell_type": "code",
   "execution_count": null,
   "id": "f63af87d",
   "metadata": {},
   "outputs": [],
   "source": [
    "test= np.random.randint(100,size=(10,10))\n",
    "test"
   ]
  },
  {
   "cell_type": "code",
   "execution_count": null,
   "id": "843befdb",
   "metadata": {},
   "outputs": [],
   "source": [
    "test.min(axis=0) # минимум по столбцам"
   ]
  },
  {
   "cell_type": "markdown",
   "id": "9966bb25",
   "metadata": {},
   "source": [
    "**Операции с массивами и матрицами**"
   ]
  },
  {
   "cell_type": "code",
   "execution_count": null,
   "id": "8a2d5e04",
   "metadata": {},
   "outputs": [],
   "source": [
    "a = np.array([0, 1, 2])\n",
    "b = np.array([5, 5, 5])\n",
    "a + b\n",
    "\n"
   ]
  },
  {
   "cell_type": "code",
   "execution_count": null,
   "id": "b6c148da",
   "metadata": {},
   "outputs": [],
   "source": [
    "M = np.ones((3, 3))\n",
    "M"
   ]
  },
  {
   "cell_type": "code",
   "execution_count": null,
   "id": "9fcc0058",
   "metadata": {},
   "outputs": [],
   "source": [
    "M + a # numpy array broadcasting"
   ]
  },
  {
   "cell_type": "code",
   "execution_count": null,
   "id": "b5f9ef40",
   "metadata": {},
   "outputs": [],
   "source": [
    "a = np.arange(3)\n",
    "b = np.arange(3)[:, np.newaxis]\n",
    "\n",
    "print(a)\n",
    "print(b)"
   ]
  },
  {
   "cell_type": "code",
   "execution_count": null,
   "id": "c1aa98f7",
   "metadata": {},
   "outputs": [],
   "source": [
    "a + b"
   ]
  },
  {
   "cell_type": "code",
   "execution_count": null,
   "id": "b90c93fe",
   "metadata": {},
   "outputs": [],
   "source": [
    "np.repeat([a],3,axis=0)"
   ]
  },
  {
   "cell_type": "code",
   "execution_count": null,
   "id": "6855ae42",
   "metadata": {},
   "outputs": [],
   "source": [
    "np.repeat(b,3,axis=1)"
   ]
  },
  {
   "cell_type": "code",
   "execution_count": null,
   "id": "7ebee9c4",
   "metadata": {
    "scrolled": true
   },
   "outputs": [],
   "source": [
    "(np.repeat(b,3,axis=1) + np.repeat([a],3,axis=0), a + b)"
   ]
  },
  {
   "cell_type": "code",
   "execution_count": null,
   "id": "af1e4ce3",
   "metadata": {},
   "outputs": [],
   "source": [
    "M = np.ones((3, 2))\n",
    "a = np.arange(3)"
   ]
  },
  {
   "cell_type": "code",
   "execution_count": null,
   "id": "67112d2d",
   "metadata": {},
   "outputs": [],
   "source": [
    "a"
   ]
  },
  {
   "cell_type": "code",
   "execution_count": null,
   "id": "71ab4001",
   "metadata": {
    "scrolled": true
   },
   "outputs": [],
   "source": [
    "M"
   ]
  },
  {
   "cell_type": "code",
   "execution_count": null,
   "id": "9a411b41",
   "metadata": {},
   "outputs": [],
   "source": [
    "M+ a"
   ]
  },
  {
   "cell_type": "code",
   "execution_count": null,
   "id": "01af533f",
   "metadata": {},
   "outputs": [],
   "source": [
    "a = np.array([4,5,6,7])  \n",
    "b = np.array([1,3,5,7,9,11,14,10])  \n",
    "c = a+b;  "
   ]
  },
  {
   "cell_type": "code",
   "execution_count": null,
   "id": "f3e789ba",
   "metadata": {},
   "outputs": [],
   "source": [
    "matrix1 = np.array([[1, 3], [5, 7]])\n",
    "             \n",
    "matrix2 = np.array([[2, 6], [4, 8]])\n",
    "\n",
    "result = np.dot(matrix1, matrix2)\n",
    "\n",
    "print(\"matrix1 x matrix2: \\n\",result)"
   ]
  },
  {
   "cell_type": "code",
   "execution_count": null,
   "id": "b5e91a4e",
   "metadata": {},
   "outputs": [],
   "source": [
    "matrix1 = np.random.randint(10,size=(3,2))\n",
    "matrix1"
   ]
  },
  {
   "cell_type": "code",
   "execution_count": null,
   "id": "6b904f4e",
   "metadata": {},
   "outputs": [],
   "source": [
    "matrix2 = np.random.randint(10,size=(2,3))\n",
    "matrix2"
   ]
  },
  {
   "cell_type": "code",
   "execution_count": null,
   "id": "7cfd6b66",
   "metadata": {},
   "outputs": [],
   "source": [
    "np.dot(matrix1,matrix2)"
   ]
  },
  {
   "cell_type": "code",
   "execution_count": null,
   "id": "123fe78e",
   "metadata": {},
   "outputs": [],
   "source": [
    "np.dot(matrix2,matrix1)"
   ]
  },
  {
   "cell_type": "code",
   "execution_count": null,
   "id": "52505092",
   "metadata": {},
   "outputs": [],
   "source": [
    "np.dot(matrix1,matrix1)"
   ]
  },
  {
   "cell_type": "code",
   "execution_count": null,
   "id": "306a9483",
   "metadata": {},
   "outputs": [],
   "source": [
    "matrix1=np.array([1,2,3])"
   ]
  },
  {
   "cell_type": "code",
   "execution_count": null,
   "id": "9bd5ac66",
   "metadata": {},
   "outputs": [],
   "source": [
    "matrix2 = np.random.randint(10,size=(3,3))"
   ]
  },
  {
   "cell_type": "code",
   "execution_count": null,
   "id": "deb482a1",
   "metadata": {},
   "outputs": [],
   "source": [
    "np.dot(matrix2,matrix1)"
   ]
  },
  {
   "cell_type": "code",
   "execution_count": null,
   "id": "6ed34763",
   "metadata": {
    "scrolled": true
   },
   "outputs": [],
   "source": [
    "np.matmul(matrix2,matrix1)"
   ]
  },
  {
   "cell_type": "code",
   "execution_count": null,
   "id": "21fbe4a4",
   "metadata": {},
   "outputs": [],
   "source": [
    "matrix1"
   ]
  },
  {
   "cell_type": "code",
   "execution_count": null,
   "id": "0ed4c1fb",
   "metadata": {},
   "outputs": [],
   "source": [
    "np.multiply(matrix1,matrix1)"
   ]
  },
  {
   "cell_type": "code",
   "execution_count": null,
   "id": "92ec53b4",
   "metadata": {},
   "outputs": [],
   "source": [
    "matrix1 = np.array([[1, 3], [5, 7]])"
   ]
  },
  {
   "cell_type": "code",
   "execution_count": null,
   "id": "0dd6506b",
   "metadata": {
    "scrolled": true
   },
   "outputs": [],
   "source": [
    "matrix1 - matrix1 "
   ]
  },
  {
   "cell_type": "code",
   "execution_count": null,
   "id": "bd360ec5",
   "metadata": {},
   "outputs": [],
   "source": [
    "matrix1 = matrix1 + matrix1\n",
    "matrix1"
   ]
  },
  {
   "cell_type": "code",
   "execution_count": null,
   "id": "3901538c",
   "metadata": {},
   "outputs": [],
   "source": [
    "np.add(matrix1,matrix1,out=matrix1)\n",
    "matrix1"
   ]
  },
  {
   "cell_type": "code",
   "execution_count": null,
   "id": "c2e03766",
   "metadata": {},
   "outputs": [],
   "source": [
    "matrix1.T"
   ]
  },
  {
   "cell_type": "code",
   "execution_count": null,
   "id": "dd15a2b8",
   "metadata": {},
   "outputs": [],
   "source": [
    "np.linalg.det(matrix1)"
   ]
  },
  {
   "cell_type": "code",
   "execution_count": null,
   "id": "4b8e73f8",
   "metadata": {},
   "outputs": [],
   "source": [
    "np.linalg.inv(matrix1)"
   ]
  },
  {
   "cell_type": "code",
   "execution_count": null,
   "id": "297ba019",
   "metadata": {},
   "outputs": [],
   "source": [
    "np.dot(matrix1, np.linalg.inv(matrix1)).astype(int)"
   ]
  },
  {
   "cell_type": "markdown",
   "id": "eab7e03a",
   "metadata": {},
   "source": [
    "**Булевы операции**"
   ]
  },
  {
   "cell_type": "code",
   "execution_count": null,
   "id": "a7e136e3",
   "metadata": {},
   "outputs": [],
   "source": [
    "x"
   ]
  },
  {
   "cell_type": "code",
   "execution_count": null,
   "id": "0ad0d270",
   "metadata": {},
   "outputs": [],
   "source": [
    "x>2"
   ]
  },
  {
   "cell_type": "code",
   "execution_count": null,
   "id": "a96e92f4",
   "metadata": {},
   "outputs": [],
   "source": [
    "x[x>2]=0"
   ]
  },
  {
   "cell_type": "code",
   "execution_count": null,
   "id": "05aef8f8",
   "metadata": {},
   "outputs": [],
   "source": [
    "x"
   ]
  },
  {
   "cell_type": "code",
   "execution_count": null,
   "id": "41231176",
   "metadata": {},
   "outputs": [],
   "source": [
    "np.any(x==0)"
   ]
  },
  {
   "cell_type": "code",
   "execution_count": null,
   "id": "d5fe8615",
   "metadata": {},
   "outputs": [],
   "source": [
    "np.all(x==0)"
   ]
  },
  {
   "cell_type": "code",
   "execution_count": null,
   "id": "a8fde226",
   "metadata": {},
   "outputs": [],
   "source": [
    "np.sum(x>1)"
   ]
  },
  {
   "cell_type": "code",
   "execution_count": null,
   "id": "55ca6c9f",
   "metadata": {},
   "outputs": [],
   "source": [
    "np.sum(x[x>1])"
   ]
  },
  {
   "cell_type": "code",
   "execution_count": null,
   "id": "e51fbb7b",
   "metadata": {},
   "outputs": [],
   "source": [
    "matrix1"
   ]
  },
  {
   "cell_type": "code",
   "execution_count": null,
   "id": "3d4449a0",
   "metadata": {},
   "outputs": [],
   "source": [
    "np.where(matrix1 == 3)"
   ]
  },
  {
   "cell_type": "code",
   "execution_count": null,
   "id": "07b068ab",
   "metadata": {},
   "outputs": [],
   "source": [
    "Z = np.random.randint(1,10, 10)\n",
    "print(Z)\n",
    "\n",
    "Z[Z.argmax()] = 0\n",
    "print(Z)"
   ]
  },
  {
   "cell_type": "code",
   "execution_count": null,
   "id": "a54b2dc3",
   "metadata": {},
   "outputs": [],
   "source": [
    "Z.argmin()"
   ]
  },
  {
   "attachments": {
    "%D0%B8%D0%B7%D0%BE%D0%B1%D1%80%D0%B0%D0%B6%D0%B5%D0%BD%D0%B8%D0%B5.png": {
     "image/png": "[encoded data removed]"
    }
   },
   "cell_type": "markdown",
   "id": "e004ed3a",
   "metadata": {},
   "source": [
    "<font color = 'red' size = 5>Задание 2 </font>\n",
    "\n",
    "Используя векторизацию и матричные вычисления выполните задачи.\n",
    "\n",
    "1. Реализуйте учебную модель [Игры \"Жизнь\"](https://en.wikipedia.org/wiki/Conway%27s_Game_of_Life). Создайте также динамическое изображение.\n",
    "![%D0%B8%D0%B7%D0%BE%D0%B1%D1%80%D0%B0%D0%B6%D0%B5%D0%BD%D0%B8%D0%B5.png](attachment:%D0%B8%D0%B7%D0%BE%D0%B1%D1%80%D0%B0%D0%B6%D0%B5%D0%BD%D0%B8%D0%B5.png)\n",
    "\n",
    "2. Реализуйте [расширенный алгоритм Евклида](https://en.wikipedia.org/wiki/Extended_Euclidean_algorithm) в матричном виде. "
   ]
  },
  {
   "cell_type": "code",
   "execution_count": null,
   "id": "2280bd9f",
   "metadata": {},
   "outputs": [],
   "source": [
    "import numpy as np\n",
    "import matplotlib.pyplot as plt\n",
    "from matplotlib.animation import FuncAnimation, PillowWriter\n",
    "from itertools import product\n",
    "import os"
   ]
  },
  {
   "cell_type": "code",
   "execution_count": 5,
   "id": "411de3ce",
   "metadata": {},
   "outputs": [
    {
     "name": "stdout",
     "output_type": "stream",
     "text": [
      "Анимация сохранена в d:\\lab\\Python\\lab1\\game_of_life_animation.gif\n"
     ]
    }
   ],
   "source": [
    "#Task1\n",
    "N = 100 \n",
    "cells = np.random.randint(2, size=N**2).reshape((N, N))\n",
    "height, width = cells.shape\n",
    "neighbor_counter = np.zeros((height, width), dtype=int)\n",
    "\n",
    "fig, ax = plt.subplots()\n",
    "frames = 75  \n",
    "fps = 5 \n",
    "\n",
    "def animate(frame):\n",
    "    ax.clear()  # Очищает текущее содержимое осей, чтобы обновить изображение\n",
    "\n",
    "    # Проход по всем клеткам сетки (размером height x width)\n",
    "    for i, j in product(range(height), range(width)):\n",
    "        is_alive = cells[i, j]  # Определяет, жива ли текущая клетка (1 — живая, 0 — мертвая)\n",
    "\n",
    "        # Определение окружающих клеток и подсчет количества живых соседей\n",
    "        # cell_env — это подмассив, содержащий клетки вокруг текущей клетки (i, j)\n",
    "        # max(0, i-1) и min(i+2, height) ограничивают индексы, чтобы избежать выхода за границы массива\n",
    "        cell_env = cells[max(0, i-1):min(i+2, height), max(0, j-1):min(j+2, width)]\n",
    "        \n",
    "        # Подсчет количества живых соседей: суммируем все значения в окружении и вычитаем\n",
    "        # значение самой клетки (is_alive), так как она не считается своим собственным соседом\n",
    "        neighbor_counter[i, j] = np.sum(cell_env) - is_alive\n",
    "\n",
    "    # Применение правил Игры \"Жизнь\":\n",
    "    # 1. Клетки с количеством соседей меньше 2 или больше 3 умирают (становятся 0)\n",
    "    # 2. Клетки с ровно 3 соседями оживают (становятся 1)\n",
    "    cells[((neighbor_counter < 2) | (neighbor_counter > 3)) & (cells == 1)] = 0\n",
    "    cells[(neighbor_counter == 3) & (cells == 0)] = 1\n",
    "\n",
    "    # Отображение текущего состояния сетки\n",
    "    ax.matshow(cells, cmap='binary')  # Визуализация сетки, где живые клетки отображаются цветом\n",
    "\n",
    "\n",
    "plt.close()\n",
    "\n",
    "anime = FuncAnimation(fig, animate, frames=frames, interval=1000/fps, repeat=False)\n",
    "\n",
    "\n",
    "output_path = os.path.join(os.getcwd(), \"game_of_life_animation.gif\")\n",
    "writer = PillowWriter(fps=fps)\n",
    "anime.save(output_path, writer=writer)\n"
   ]
  },
  {
   "cell_type": "code",
   "execution_count": 8,
   "id": "ac3dda43",
   "metadata": {},
   "outputs": [
    {
     "name": "stdout",
     "output_type": "stream",
     "text": [
      "g = -3, r = 1, s = -3\n",
      "Сheck: 15 * 1 + 6 * -3 = -3\n"
     ]
    }
   ],
   "source": [
    "#Task2\n",
    "import numpy as np\n",
    "\n",
    "def extended_gcd(a: int, b: int) -> tuple[int, int, int]:\n",
    "    \"\"\"\n",
    "    :return: (g, r, s) such that g = a*r + b*s\n",
    "    \"\"\"\n",
    "    # Инициализация матрицы, где:\n",
    "    # - первая строка [1, 0] отвечает за коэффициент r\n",
    "    # - вторая строка [0, 1] отвечает за коэффициент s\n",
    "    # - третья строка [a, b] содержит текущие значения a и b\n",
    "    matr = np.array([[1, 0],\n",
    "                     [0, 1],\n",
    "                     [a, b]])\n",
    "\n",
    "    # Цикл продолжается, пока второй элемент третьей строки (текущее значение b) не станет нулем\n",
    "    while matr[2, 1] != 0:\n",
    "        # Обновляем значения a и b из третьей строки матрицы\n",
    "        a, b = matr[2, 0], matr[2, 1]\n",
    "\n",
    "        # Выполняем матричное умножение: обновляем матрицу matr, чтобы учесть текущие значения a и b\n",
    "        # Здесь матрица [[0, 1], [1, -a // b]] выполняет перестановку и обновление коэффициентов\n",
    "        # и значений a и b по правилам алгоритма Евклида\n",
    "        matr = matr @ np.array([[0, 1], \n",
    "                                [1, -a // b]])\n",
    "\n",
    "    # Возвращаем НОД (g), а также коэффициенты r и s\n",
    "    # - matr[2, 0] — это НОД (наибольший общий делитель), когда matr[2, 1] стало нулем\n",
    "    # - matr[0, 0] и matr[1, 0] — коэффициенты r и s, которые удовлетворяют уравнению g = a*r + b*s\n",
    "    return (matr[2, 0], matr[0, 0], matr[1, 0])\n",
    "\n",
    "# Пример использования функции\n",
    "a, b = 15, 6\n",
    "g, r, s = extended_gcd(a, b)\n",
    "\n",
    "# Проверка, что найденное значение НОД действительно равно a*r + b*s\n",
    "print(f'g = {g}, r = {r}, s = {s}')\n",
    "print(f'Сheck: {a} * {r} + {b} * {s} = {g}')\n"
   ]
  },
  {
   "cell_type": "markdown",
   "id": "fc8f15ba",
   "metadata": {},
   "source": [
    "## <font color = 'green'> 3. Пример работы с данными  </font>"
   ]
  },
  {
   "cell_type": "markdown",
   "id": "5815b4a8-4f31-40a7-8096-fbf407de1aa3",
   "metadata": {},
   "source": [
    "Рассмотрим простой пример работы с данными и обучим первую модель элементарного классификатора."
   ]
  },
  {
   "cell_type": "code",
   "execution_count": 7,
   "id": "20cd0fa5-3d91-4be4-ba8b-c44d6e9b4e71",
   "metadata": {},
   "outputs": [
    {
     "data": {
      "text/html": [
       "<div>\n",
       "<style scoped>\n",
       "    .dataframe tbody tr th:only-of-type {\n",
       "        vertical-align: middle;\n",
       "    }\n",
       "\n",
       "    .dataframe tbody tr th {\n",
       "        vertical-align: top;\n",
       "    }\n",
       "\n",
       "    .dataframe thead th {\n",
       "        text-align: right;\n",
       "    }\n",
       "</style>\n",
       "<table border=\"1\" class=\"dataframe\">\n",
       "  <thead>\n",
       "    <tr style=\"text-align: right;\">\n",
       "      <th></th>\n",
       "      <th>sepal_length</th>\n",
       "      <th>sepal_width</th>\n",
       "      <th>petal_length</th>\n",
       "      <th>petal_width</th>\n",
       "      <th>species</th>\n",
       "    </tr>\n",
       "  </thead>\n",
       "  <tbody>\n",
       "    <tr>\n",
       "      <th>0</th>\n",
       "      <td>5.1</td>\n",
       "      <td>3.5</td>\n",
       "      <td>1.4</td>\n",
       "      <td>0.2</td>\n",
       "      <td>setosa</td>\n",
       "    </tr>\n",
       "    <tr>\n",
       "      <th>1</th>\n",
       "      <td>4.9</td>\n",
       "      <td>3.0</td>\n",
       "      <td>1.4</td>\n",
       "      <td>0.2</td>\n",
       "      <td>setosa</td>\n",
       "    </tr>\n",
       "    <tr>\n",
       "      <th>2</th>\n",
       "      <td>4.7</td>\n",
       "      <td>3.2</td>\n",
       "      <td>1.3</td>\n",
       "      <td>0.2</td>\n",
       "      <td>setosa</td>\n",
       "    </tr>\n",
       "    <tr>\n",
       "      <th>3</th>\n",
       "      <td>4.6</td>\n",
       "      <td>3.1</td>\n",
       "      <td>1.5</td>\n",
       "      <td>0.2</td>\n",
       "      <td>setosa</td>\n",
       "    </tr>\n",
       "    <tr>\n",
       "      <th>4</th>\n",
       "      <td>5.0</td>\n",
       "      <td>3.6</td>\n",
       "      <td>1.4</td>\n",
       "      <td>0.2</td>\n",
       "      <td>setosa</td>\n",
       "    </tr>\n",
       "  </tbody>\n",
       "</table>\n",
       "</div>"
      ],
      "text/plain": [
       "   sepal_length  sepal_width  petal_length  petal_width species\n",
       "0           5.1          3.5           1.4          0.2  setosa\n",
       "1           4.9          3.0           1.4          0.2  setosa\n",
       "2           4.7          3.2           1.3          0.2  setosa\n",
       "3           4.6          3.1           1.5          0.2  setosa\n",
       "4           5.0          3.6           1.4          0.2  setosa"
      ]
     },
     "execution_count": 7,
     "metadata": {},
     "output_type": "execute_result"
    }
   ],
   "source": [
    "import seaborn as sns\n",
    "iris = sns.load_dataset('iris')\n",
    "iris.head()"
   ]
  },
  {
   "cell_type": "markdown",
   "id": "4a32e33a-f331-4965-acd7-269ea7e3c557",
   "metadata": {},
   "source": [
    "Импортируем простеший и наиболее известный набор данных для обучения моделей классификации - цветки ириса.\n",
    "Первые 4 столбца это некоторые характеристики растения, а последний столбец - целевой. Именно его наша модель должна предсказывать, принимая на вход первые 4. "
   ]
  },
  {
   "cell_type": "code",
   "execution_count": 8,
   "id": "24fa8a6d-bc63-4de2-b697-9ea258c3373d",
   "metadata": {},
   "outputs": [
    {
     "data": {
      "text/plain": [
       "(150, 4)"
      ]
     },
     "execution_count": 8,
     "metadata": {},
     "output_type": "execute_result"
    }
   ],
   "source": [
    "X_iris = iris.drop('species', axis=1) # выделяем признаки в отдельную переменную\n",
    "X_iris.shape"
   ]
  },
  {
   "cell_type": "code",
   "execution_count": 9,
   "id": "c8e6918f-d869-4032-a6db-8b487d604c4b",
   "metadata": {},
   "outputs": [
    {
     "data": {
      "text/plain": [
       "(150,)"
      ]
     },
     "execution_count": 9,
     "metadata": {},
     "output_type": "execute_result"
    }
   ],
   "source": [
    "y_iris = iris['species'] # целевые метки в другую переменную\n",
    "y_iris.shape"
   ]
  },
  {
   "cell_type": "markdown",
   "id": "ec02e2a9-7f50-4806-b7aa-18e6140a4f4f",
   "metadata": {},
   "source": [
    "Далее нам необходимо разделить данные на _тестовую_ и _обучающую_ выборки. Это нужно для проверки качества модели. Подробнее об этом можно будет узнать в следующих ЛР."
   ]
  },
  {
   "cell_type": "code",
   "execution_count": 12,
   "id": "4c1a96dc-3c3d-48de-b913-35fd991bb3fd",
   "metadata": {},
   "outputs": [],
   "source": [
    "from sklearn.model_selection import train_test_split\n",
    "Xtrain, Xtest, ytrain, ytest = train_test_split(X_iris, y_iris,\n",
    "                                                random_state=11)"
   ]
  },
  {
   "cell_type": "code",
   "execution_count": 13,
   "id": "c2c020f9-c300-44f1-b60a-d733eac6b962",
   "metadata": {},
   "outputs": [
    {
     "data": {
      "text/plain": [
       "(112, 4)"
      ]
     },
     "execution_count": 13,
     "metadata": {},
     "output_type": "execute_result"
    }
   ],
   "source": [
    "Xtrain.shape"
   ]
  },
  {
   "cell_type": "code",
   "execution_count": 14,
   "id": "9e9da20a-4627-4b32-baed-bf048c72ef8c",
   "metadata": {},
   "outputs": [
    {
     "data": {
      "text/plain": [
       "(38, 4)"
      ]
     },
     "execution_count": 14,
     "metadata": {},
     "output_type": "execute_result"
    }
   ],
   "source": [
    "Xtest.shape"
   ]
  },
  {
   "cell_type": "markdown",
   "id": "a4a480d0-37ac-4877-b0f9-0b1d0b0599d1",
   "metadata": {},
   "source": [
    "Далее обучим классификатор на основе простого решающего дерева. Мы используем встроенный класс DecisionTreeClassifier модуля sklearn. Подробнее мы изучим его далее. Пока рекомендую обратить внимание на его параметры. \n",
    "\n",
    "Далее следует помнить, что у  модели классификатора, есть два метода _fit_ - обучает модель на обуч. выборке, как бы подстраивая её под наши данные и _predict_ - который выдаёт прогноз, приниамая признаки (массив данных признаков) на вход. Обратите внимание, что в примере ниже функции применяются сразу ко всему массиву данных. "
   ]
  },
  {
   "cell_type": "code",
   "execution_count": 21,
   "id": "04a57eee-ad0f-4a5f-9f5f-6de102819f70",
   "metadata": {},
   "outputs": [],
   "source": [
    "from sklearn.tree import DecisionTreeClassifier \n",
    "model = DecisionTreeClassifier(max_depth=3)                       \n",
    "model.fit(Xtrain, ytrain)                  # обучаем модель\n",
    "y_model = model.predict(Xtest) "
   ]
  },
  {
   "cell_type": "code",
   "execution_count": 43,
   "id": "91c9b805-f067-4eb0-ad9e-9db86d6be498",
   "metadata": {},
   "outputs": [
    {
     "data": {
      "text/plain": [
       "array(['virginica', 'virginica', 'versicolor', 'virginica', 'virginica',\n",
       "       'setosa', 'versicolor', 'setosa', 'setosa', 'versicolor',\n",
       "       'versicolor', 'versicolor', 'versicolor', 'virginica', 'virginica',\n",
       "       'setosa', 'virginica', 'versicolor', 'virginica', 'virginica',\n",
       "       'versicolor', 'setosa', 'setosa', 'versicolor', 'setosa', 'setosa',\n",
       "       'virginica', 'versicolor', 'setosa', 'virginica', 'setosa',\n",
       "       'virginica', 'virginica', 'setosa', 'setosa', 'virginica',\n",
       "       'virginica', 'virginica'], dtype=object)"
      ]
     },
     "execution_count": 43,
     "metadata": {},
     "output_type": "execute_result"
    }
   ],
   "source": [
    "y_model"
   ]
  },
  {
   "cell_type": "markdown",
   "id": "94445b55-f6f3-49ce-a4ee-a6c3b15252b8",
   "metadata": {},
   "source": [
    "Очевидный и интуитивно понятный метод оценки точности модели - процент правильно угаданных меток на тестовых данных. В нашем случае 86%. Отметим, что это не всегда оптимальный метод оценки качества модели! "
   ]
  },
  {
   "cell_type": "code",
   "execution_count": 23,
   "id": "1550a32c-918f-4ef6-ae17-a5c7cb1c4266",
   "metadata": {},
   "outputs": [
    {
     "data": {
      "text/plain": [
       "0.868421052631579"
      ]
     },
     "execution_count": 23,
     "metadata": {},
     "output_type": "execute_result"
    }
   ],
   "source": [
    "from sklearn.metrics import accuracy_score\n",
    "accuracy_score(ytest, y_model)"
   ]
  },
  {
   "cell_type": "markdown",
   "id": "22f84f01-d578-4907-8b95-840e65a43a97",
   "metadata": {},
   "source": [
    "Графически мы можем увидеть результаты нашей классификации построив график по двум признакам, раскрашивая метки цветами в  зависимости от исходного значения и нами предсказнного."
   ]
  },
  {
   "cell_type": "code",
   "execution_count": 36,
   "id": "32e51823-0b0e-48a0-a0d1-ab2476aa6fb0",
   "metadata": {},
   "outputs": [
    {
     "data": {
      "text/plain": [
       "array([[6.8, 3. , 5.5, 2.1],\n",
       "       [6.7, 3. , 5.2, 2.3],\n",
       "       [6.3, 2.8, 5.1, 1.5],\n",
       "       [6.3, 3.3, 4.7, 1.6],\n",
       "       [6.4, 2.7, 5.3, 1.9],\n",
       "       [4.9, 3.1, 1.5, 0.1],\n",
       "       [6.7, 3.1, 4.4, 1.4],\n",
       "       [5.7, 4.4, 1.5, 0.4],\n",
       "       [4.8, 3.1, 1.6, 0.2],\n",
       "       [6.1, 2.9, 4.7, 1.4],\n",
       "       [6. , 2.2, 5. , 1.5],\n",
       "       [6. , 2.2, 4. , 1. ],\n",
       "       [5.4, 3. , 4.5, 1.5],\n",
       "       [5.7, 2.5, 5. , 2. ],\n",
       "       [6.9, 3.1, 5.4, 2.1],\n",
       "       [4.5, 2.3, 1.3, 0.3],\n",
       "       [6.3, 2.9, 5.6, 1.8],\n",
       "       [5.6, 3. , 4.5, 1.5],\n",
       "       [6.5, 3.2, 5.1, 2. ],\n",
       "       [5.8, 2.7, 5.1, 1.9],\n",
       "       [5.6, 2.5, 3.9, 1.1],\n",
       "       [4.7, 3.2, 1.3, 0.2],\n",
       "       [4.6, 3.6, 1. , 0.2],\n",
       "       [6.4, 3.2, 4.5, 1.5],\n",
       "       [4.8, 3. , 1.4, 0.1],\n",
       "       [4.8, 3.4, 1.6, 0.2],\n",
       "       [5.9, 3. , 5.1, 1.8],\n",
       "       [6.6, 3. , 4.4, 1.4],\n",
       "       [5.4, 3.9, 1.3, 0.4],\n",
       "       [6. , 3.4, 4.5, 1.6],\n",
       "       [5.1, 3.5, 1.4, 0.2],\n",
       "       [6.9, 3.2, 5.7, 2.3],\n",
       "       [7.7, 2.8, 6.7, 2. ],\n",
       "       [5. , 3.3, 1.4, 0.2],\n",
       "       [4.7, 3.2, 1.6, 0.2],\n",
       "       [7.7, 2.6, 6.9, 2.3],\n",
       "       [7.6, 3. , 6.6, 2.1],\n",
       "       [6.7, 3. , 5. , 1.7]])"
      ]
     },
     "execution_count": 36,
     "metadata": {},
     "output_type": "execute_result"
    }
   ],
   "source": [
    "Xtest.values # получаем массив numpy из DataFrame"
   ]
  },
  {
   "cell_type": "code",
   "execution_count": 44,
   "id": "beefab10-fc9d-4917-ad48-f050b32b7b1d",
   "metadata": {},
   "outputs": [],
   "source": [
    "from sklearn.preprocessing import LabelEncoder"
   ]
  },
  {
   "cell_type": "code",
   "execution_count": 45,
   "id": "ab79b86c-cce4-438d-968a-dc3623641660",
   "metadata": {},
   "outputs": [
    {
     "name": "stdout",
     "output_type": "stream",
     "text": [
      "[2 2 2 1 2 0 1 0 0 1 2 1 1 2 2 0 2 1 2 2 1 0 0 1 0 0 2 1 0 1 0 2 2 0 0 2 2\n",
      " 1]\n"
     ]
    }
   ],
   "source": [
    "label_encoder = LabelEncoder()\n",
    "\n",
    "# Преобразуем категории в числа\n",
    "labels = label_encoder.fit_transform(ytest.values)\n",
    "print(labels)  "
   ]
  },
  {
   "cell_type": "code",
   "execution_count": 49,
   "id": "4107a51f-aafc-4803-a087-245a1768c8df",
   "metadata": {},
   "outputs": [
    {
     "name": "stdout",
     "output_type": "stream",
     "text": [
      "[2 2 1 2 2 0 1 0 0 1 1 1 1 2 2 0 2 1 2 2 1 0 0 1 0 0 2 1 0 2 0 2 2 0 0 2 2\n",
      " 2]\n"
     ]
    }
   ],
   "source": [
    "labels_model = label_encoder.transform(y_model)\n",
    "print(labels_model)  "
   ]
  },
  {
   "cell_type": "code",
   "execution_count": 56,
   "id": "5268b9cb-880f-4cae-a218-498a573dd9ce",
   "metadata": {
    "scrolled": true
   },
   "outputs": [
    {
     "data": {
      "image/png": "[encoded data removed]",
      "text/plain": [
       "<Figure size 600x300 with 1 Axes>"
      ]
     },
     "metadata": {},
     "output_type": "display_data"
    }
   ],
   "source": [
    "from matplotlib import pyplot as plt\n",
    "plt.figure(figsize=(6, 3))\n",
    "plt.scatter(Xtest.values[:,0],Xtest.values[:,1],c=labels,s=90,cmap='winter')\n",
    "plt.scatter(Xtest.values[:,0],Xtest.values[:,1],c=labels_model,s=30,cmap='winter')\n",
    "\n",
    "plt.show()"
   ]
  },
  {
   "cell_type": "markdown",
   "id": "d90f5471-0a97-4960-848e-063e956c31c3",
   "metadata": {},
   "source": [
    "Можно без труда отличить несовпадающие метки. Заметим, что точность данной модели можно улучшить. Подумайте как?"
   ]
  },
  {
   "cell_type": "markdown",
   "id": "0b75343e-cd59-459f-99aa-0ce8f4d0c264",
   "metadata": {},
   "source": [
    "<font color = 'red' size = 5>Задание 3 </font>\n",
    "\n",
    "1. Импортируйте данные о [качестве воды](https://www.kaggle.com/datasets/mssmartypants/water-quality?resource=download).\n",
    "2. Попробуйте на основе примера выше построить с ходу модель классификатора предсказывая последний столбец.\n",
    "3. Оцените точность модели с помощью accurancy_score и графически."
   ]
  },
  {
   "cell_type": "code",
   "execution_count": 84,
   "id": "51ce4365-6657-4612-a02d-6f4dd5bf5c18",
   "metadata": {},
   "outputs": [
    {
     "data": {
      "text/html": [
       "<div>\n",
       "<style scoped>\n",
       "    .dataframe tbody tr th:only-of-type {\n",
       "        vertical-align: middle;\n",
       "    }\n",
       "\n",
       "    .dataframe tbody tr th {\n",
       "        vertical-align: top;\n",
       "    }\n",
       "\n",
       "    .dataframe thead th {\n",
       "        text-align: right;\n",
       "    }\n",
       "</style>\n",
       "<table border=\"1\" class=\"dataframe\">\n",
       "  <thead>\n",
       "    <tr style=\"text-align: right;\">\n",
       "      <th></th>\n",
       "      <th>aluminium</th>\n",
       "      <th>ammonia</th>\n",
       "      <th>arsenic</th>\n",
       "      <th>barium</th>\n",
       "      <th>cadmium</th>\n",
       "      <th>chloramine</th>\n",
       "      <th>chromium</th>\n",
       "      <th>copper</th>\n",
       "      <th>flouride</th>\n",
       "      <th>bacteria</th>\n",
       "      <th>...</th>\n",
       "      <th>lead</th>\n",
       "      <th>nitrates</th>\n",
       "      <th>nitrites</th>\n",
       "      <th>mercury</th>\n",
       "      <th>perchlorate</th>\n",
       "      <th>radium</th>\n",
       "      <th>selenium</th>\n",
       "      <th>silver</th>\n",
       "      <th>uranium</th>\n",
       "      <th>is_safe</th>\n",
       "    </tr>\n",
       "  </thead>\n",
       "  <tbody>\n",
       "    <tr>\n",
       "      <th>0</th>\n",
       "      <td>1.65</td>\n",
       "      <td>9.08</td>\n",
       "      <td>0.04</td>\n",
       "      <td>2.85</td>\n",
       "      <td>0.007</td>\n",
       "      <td>0.35</td>\n",
       "      <td>0.83</td>\n",
       "      <td>0.17</td>\n",
       "      <td>0.05</td>\n",
       "      <td>0.20</td>\n",
       "      <td>...</td>\n",
       "      <td>0.054</td>\n",
       "      <td>16.08</td>\n",
       "      <td>1.13</td>\n",
       "      <td>0.007</td>\n",
       "      <td>37.75</td>\n",
       "      <td>6.78</td>\n",
       "      <td>0.08</td>\n",
       "      <td>0.34</td>\n",
       "      <td>0.02</td>\n",
       "      <td>1.0</td>\n",
       "    </tr>\n",
       "    <tr>\n",
       "      <th>1</th>\n",
       "      <td>2.32</td>\n",
       "      <td>21.16</td>\n",
       "      <td>0.01</td>\n",
       "      <td>3.31</td>\n",
       "      <td>0.002</td>\n",
       "      <td>5.28</td>\n",
       "      <td>0.68</td>\n",
       "      <td>0.66</td>\n",
       "      <td>0.90</td>\n",
       "      <td>0.65</td>\n",
       "      <td>...</td>\n",
       "      <td>0.100</td>\n",
       "      <td>2.01</td>\n",
       "      <td>1.93</td>\n",
       "      <td>0.003</td>\n",
       "      <td>32.26</td>\n",
       "      <td>3.21</td>\n",
       "      <td>0.08</td>\n",
       "      <td>0.27</td>\n",
       "      <td>0.05</td>\n",
       "      <td>1.0</td>\n",
       "    </tr>\n",
       "    <tr>\n",
       "      <th>2</th>\n",
       "      <td>1.01</td>\n",
       "      <td>14.02</td>\n",
       "      <td>0.04</td>\n",
       "      <td>0.58</td>\n",
       "      <td>0.008</td>\n",
       "      <td>4.24</td>\n",
       "      <td>0.53</td>\n",
       "      <td>0.02</td>\n",
       "      <td>0.99</td>\n",
       "      <td>0.05</td>\n",
       "      <td>...</td>\n",
       "      <td>0.078</td>\n",
       "      <td>14.16</td>\n",
       "      <td>1.11</td>\n",
       "      <td>0.006</td>\n",
       "      <td>50.28</td>\n",
       "      <td>7.07</td>\n",
       "      <td>0.07</td>\n",
       "      <td>0.44</td>\n",
       "      <td>0.01</td>\n",
       "      <td>0.0</td>\n",
       "    </tr>\n",
       "    <tr>\n",
       "      <th>3</th>\n",
       "      <td>1.36</td>\n",
       "      <td>11.33</td>\n",
       "      <td>0.04</td>\n",
       "      <td>2.96</td>\n",
       "      <td>0.001</td>\n",
       "      <td>7.23</td>\n",
       "      <td>0.03</td>\n",
       "      <td>1.66</td>\n",
       "      <td>1.08</td>\n",
       "      <td>0.71</td>\n",
       "      <td>...</td>\n",
       "      <td>0.016</td>\n",
       "      <td>1.41</td>\n",
       "      <td>1.29</td>\n",
       "      <td>0.004</td>\n",
       "      <td>9.12</td>\n",
       "      <td>1.72</td>\n",
       "      <td>0.02</td>\n",
       "      <td>0.45</td>\n",
       "      <td>0.05</td>\n",
       "      <td>1.0</td>\n",
       "    </tr>\n",
       "    <tr>\n",
       "      <th>4</th>\n",
       "      <td>0.92</td>\n",
       "      <td>24.33</td>\n",
       "      <td>0.03</td>\n",
       "      <td>0.20</td>\n",
       "      <td>0.006</td>\n",
       "      <td>2.67</td>\n",
       "      <td>0.69</td>\n",
       "      <td>0.57</td>\n",
       "      <td>0.61</td>\n",
       "      <td>0.13</td>\n",
       "      <td>...</td>\n",
       "      <td>0.117</td>\n",
       "      <td>6.74</td>\n",
       "      <td>1.11</td>\n",
       "      <td>0.003</td>\n",
       "      <td>16.90</td>\n",
       "      <td>2.41</td>\n",
       "      <td>0.02</td>\n",
       "      <td>0.06</td>\n",
       "      <td>0.02</td>\n",
       "      <td>1.0</td>\n",
       "    </tr>\n",
       "  </tbody>\n",
       "</table>\n",
       "<p>5 rows × 21 columns</p>\n",
       "</div>"
      ],
      "text/plain": [
       "   aluminium  ammonia  arsenic  barium  cadmium  chloramine  chromium  copper  \\\n",
       "0       1.65     9.08     0.04    2.85    0.007        0.35      0.83    0.17   \n",
       "1       2.32    21.16     0.01    3.31    0.002        5.28      0.68    0.66   \n",
       "2       1.01    14.02     0.04    0.58    0.008        4.24      0.53    0.02   \n",
       "3       1.36    11.33     0.04    2.96    0.001        7.23      0.03    1.66   \n",
       "4       0.92    24.33     0.03    0.20    0.006        2.67      0.69    0.57   \n",
       "\n",
       "   flouride  bacteria  ...   lead  nitrates  nitrites  mercury  perchlorate  \\\n",
       "0      0.05      0.20  ...  0.054     16.08      1.13    0.007        37.75   \n",
       "1      0.90      0.65  ...  0.100      2.01      1.93    0.003        32.26   \n",
       "2      0.99      0.05  ...  0.078     14.16      1.11    0.006        50.28   \n",
       "3      1.08      0.71  ...  0.016      1.41      1.29    0.004         9.12   \n",
       "4      0.61      0.13  ...  0.117      6.74      1.11    0.003        16.90   \n",
       "\n",
       "   radium  selenium  silver  uranium  is_safe  \n",
       "0    6.78      0.08    0.34     0.02      1.0  \n",
       "1    3.21      0.08    0.27     0.05      1.0  \n",
       "2    7.07      0.07    0.44     0.01      0.0  \n",
       "3    1.72      0.02    0.45     0.05      1.0  \n",
       "4    2.41      0.02    0.06     0.02      1.0  \n",
       "\n",
       "[5 rows x 21 columns]"
      ]
     },
     "execution_count": 84,
     "metadata": {},
     "output_type": "execute_result"
    }
   ],
   "source": [
    "import pandas as pd\n",
    "\n",
    "data = pd.read_csv('waterQuality1.csv',na_values=['#NUM!'] )\n",
    "data = data.dropna()\n",
    "data.head()"
   ]
  },
  {
   "cell_type": "code",
   "execution_count": 85,
   "id": "95e3f673-1427-474b-b705-be95d516b9f5",
   "metadata": {},
   "outputs": [
    {
     "name": "stdout",
     "output_type": "stream",
     "text": [
      "<class 'pandas.core.frame.DataFrame'>\n",
      "Index: 7996 entries, 0 to 7998\n",
      "Data columns (total 21 columns):\n",
      " #   Column       Non-Null Count  Dtype  \n",
      "---  ------       --------------  -----  \n",
      " 0   aluminium    7996 non-null   float64\n",
      " 1   ammonia      7996 non-null   float64\n",
      " 2   arsenic      7996 non-null   float64\n",
      " 3   barium       7996 non-null   float64\n",
      " 4   cadmium      7996 non-null   float64\n",
      " 5   chloramine   7996 non-null   float64\n",
      " 6   chromium     7996 non-null   float64\n",
      " 7   copper       7996 non-null   float64\n",
      " 8   flouride     7996 non-null   float64\n",
      " 9   bacteria     7996 non-null   float64\n",
      " 10  viruses      7996 non-null   float64\n",
      " 11  lead         7996 non-null   float64\n",
      " 12  nitrates     7996 non-null   float64\n",
      " 13  nitrites     7996 non-null   float64\n",
      " 14  mercury      7996 non-null   float64\n",
      " 15  perchlorate  7996 non-null   float64\n",
      " 16  radium       7996 non-null   float64\n",
      " 17  selenium     7996 non-null   float64\n",
      " 18  silver       7996 non-null   float64\n",
      " 19  uranium      7996 non-null   float64\n",
      " 20  is_safe      7996 non-null   float64\n",
      "dtypes: float64(21)\n",
      "memory usage: 1.3 MB\n"
     ]
    }
   ],
   "source": [
    "data.info()"
   ]
  }
 ],
 "metadata": {
  "kernelspec": {
   "display_name": "Python 3",
   "language": "python",
   "name": "python3"
  },
  "language_info": {
   "codemirror_mode": {
    "name": "ipython",
    "version": 3
   },
   "file_extension": ".py",
   "mimetype": "text/x-python",
   "name": "python",
   "nbconvert_exporter": "python",
   "pygments_lexer": "ipython3",
   "version": "3.12.5"
  }
 },
 "nbformat": 4,
 "nbformat_minor": 5
}
